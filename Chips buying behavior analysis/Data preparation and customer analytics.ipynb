{
 "cells": [
  {
   "cell_type": "markdown",
   "metadata": {},
   "source": [
    "# Quantium Data Analytics Virtual Experience Program\n",
    "## Task 1: Data preparation and customer analytics\n",
    "In this notebook, I explore two datasets: transactional data and customer behaviour data.\n",
    "- Transaction Data - Cleaning\n",
    "- Transaction Data - Visualization\n",
    "- Customer Data - Cleaning\n",
    "- Customer Data - Visualization\n",
    "- Customer Segment Analysis\n",
    "- Target Segment - Basket Analysis\n",
    "- Conclusion"
   ]
  },
  {
   "cell_type": "markdown",
   "metadata": {},
   "source": [
    "## Import"
   ]
  },
  {
   "cell_type": "code",
   "execution_count": 1,
   "metadata": {},
   "outputs": [],
   "source": [
    "import pandas as pd\n",
    "import numpy as np\n",
    "import matplotlib.pyplot as plt\n",
    "import seaborn as sns\n",
    "%matplotlib inline\n",
    "from scipy.stats import ttest_ind, t\n",
    "pd.options.mode.chained_assignment = None"
   ]
  },
  {
   "cell_type": "markdown",
   "metadata": {},
   "source": [
    "## Transaction Data - Cleaning\n",
    "### Read in the dataset and check simple information"
   ]
  },
  {
   "cell_type": "code",
   "execution_count": 2,
   "metadata": {},
   "outputs": [],
   "source": [
    "# Read in the dataset\n",
    "trans = pd.read_excel('QVI_transaction_data.xlsx')"
   ]
  },
  {
   "cell_type": "code",
   "execution_count": 3,
   "metadata": {},
   "outputs": [
    {
     "data": {
      "text/html": [
       "<div>\n",
       "<style scoped>\n",
       "    .dataframe tbody tr th:only-of-type {\n",
       "        vertical-align: middle;\n",
       "    }\n",
       "\n",
       "    .dataframe tbody tr th {\n",
       "        vertical-align: top;\n",
       "    }\n",
       "\n",
       "    .dataframe thead th {\n",
       "        text-align: right;\n",
       "    }\n",
       "</style>\n",
       "<table border=\"1\" class=\"dataframe\">\n",
       "  <thead>\n",
       "    <tr style=\"text-align: right;\">\n",
       "      <th></th>\n",
       "      <th>DATE</th>\n",
       "      <th>STORE_NBR</th>\n",
       "      <th>LYLTY_CARD_NBR</th>\n",
       "      <th>TXN_ID</th>\n",
       "      <th>PROD_NBR</th>\n",
       "      <th>PROD_NAME</th>\n",
       "      <th>PROD_QTY</th>\n",
       "      <th>TOT_SALES</th>\n",
       "    </tr>\n",
       "  </thead>\n",
       "  <tbody>\n",
       "    <tr>\n",
       "      <th>0</th>\n",
       "      <td>43390</td>\n",
       "      <td>1</td>\n",
       "      <td>1000</td>\n",
       "      <td>1</td>\n",
       "      <td>5</td>\n",
       "      <td>Natural Chip        Compny SeaSalt175g</td>\n",
       "      <td>2</td>\n",
       "      <td>6.0</td>\n",
       "    </tr>\n",
       "    <tr>\n",
       "      <th>1</th>\n",
       "      <td>43599</td>\n",
       "      <td>1</td>\n",
       "      <td>1307</td>\n",
       "      <td>348</td>\n",
       "      <td>66</td>\n",
       "      <td>CCs Nacho Cheese    175g</td>\n",
       "      <td>3</td>\n",
       "      <td>6.3</td>\n",
       "    </tr>\n",
       "    <tr>\n",
       "      <th>2</th>\n",
       "      <td>43605</td>\n",
       "      <td>1</td>\n",
       "      <td>1343</td>\n",
       "      <td>383</td>\n",
       "      <td>61</td>\n",
       "      <td>Smiths Crinkle Cut  Chips Chicken 170g</td>\n",
       "      <td>2</td>\n",
       "      <td>2.9</td>\n",
       "    </tr>\n",
       "    <tr>\n",
       "      <th>3</th>\n",
       "      <td>43329</td>\n",
       "      <td>2</td>\n",
       "      <td>2373</td>\n",
       "      <td>974</td>\n",
       "      <td>69</td>\n",
       "      <td>Smiths Chip Thinly  S/Cream&amp;Onion 175g</td>\n",
       "      <td>5</td>\n",
       "      <td>15.0</td>\n",
       "    </tr>\n",
       "    <tr>\n",
       "      <th>4</th>\n",
       "      <td>43330</td>\n",
       "      <td>2</td>\n",
       "      <td>2426</td>\n",
       "      <td>1038</td>\n",
       "      <td>108</td>\n",
       "      <td>Kettle Tortilla ChpsHny&amp;Jlpno Chili 150g</td>\n",
       "      <td>3</td>\n",
       "      <td>13.8</td>\n",
       "    </tr>\n",
       "  </tbody>\n",
       "</table>\n",
       "</div>"
      ],
      "text/plain": [
       "    DATE  STORE_NBR  LYLTY_CARD_NBR  TXN_ID  PROD_NBR  \\\n",
       "0  43390          1            1000       1         5   \n",
       "1  43599          1            1307     348        66   \n",
       "2  43605          1            1343     383        61   \n",
       "3  43329          2            2373     974        69   \n",
       "4  43330          2            2426    1038       108   \n",
       "\n",
       "                                  PROD_NAME  PROD_QTY  TOT_SALES  \n",
       "0    Natural Chip        Compny SeaSalt175g         2        6.0  \n",
       "1                  CCs Nacho Cheese    175g         3        6.3  \n",
       "2    Smiths Crinkle Cut  Chips Chicken 170g         2        2.9  \n",
       "3    Smiths Chip Thinly  S/Cream&Onion 175g         5       15.0  \n",
       "4  Kettle Tortilla ChpsHny&Jlpno Chili 150g         3       13.8  "
      ]
     },
     "execution_count": 3,
     "metadata": {},
     "output_type": "execute_result"
    }
   ],
   "source": [
    "# Check first 5 rows\n",
    "trans.head()"
   ]
  },
  {
   "cell_type": "code",
   "execution_count": 4,
   "metadata": {},
   "outputs": [],
   "source": [
    "# Change column headers to lower cases and rename columns\n",
    "trans.columns = map(str.lower, trans.columns)\n",
    "trans = trans.rename(columns={'lylty_card_nbr':'card_nbr'})"
   ]
  },
  {
   "cell_type": "code",
   "execution_count": 5,
   "metadata": {},
   "outputs": [
    {
     "name": "stdout",
     "output_type": "stream",
     "text": [
      "<class 'pandas.core.frame.DataFrame'>\n",
      "RangeIndex: 264836 entries, 0 to 264835\n",
      "Data columns (total 8 columns):\n",
      " #   Column     Non-Null Count   Dtype  \n",
      "---  ------     --------------   -----  \n",
      " 0   date       264836 non-null  int64  \n",
      " 1   store_nbr  264836 non-null  int64  \n",
      " 2   card_nbr   264836 non-null  int64  \n",
      " 3   txn_id     264836 non-null  int64  \n",
      " 4   prod_nbr   264836 non-null  int64  \n",
      " 5   prod_name  264836 non-null  object \n",
      " 6   prod_qty   264836 non-null  int64  \n",
      " 7   tot_sales  264836 non-null  float64\n",
      "dtypes: float64(1), int64(6), object(1)\n",
      "memory usage: 16.2+ MB\n"
     ]
    }
   ],
   "source": [
    "# Check general info\n",
    "trans.info()"
   ]
  },
  {
   "cell_type": "markdown",
   "metadata": {},
   "source": [
    "### Change data types"
   ]
  },
  {
   "cell_type": "code",
   "execution_count": 6,
   "metadata": {},
   "outputs": [],
   "source": [
    "# Convert Excel dates to dates\n",
    "import datetime\n",
    "import xlrd\n",
    "date_tuple = [xlrd.xldate.xldate_as_datetime(x, 0)\n",
    "              for x in trans['date'].tolist()]\n",
    "trans['date'] = [d.strftime('%m-%d-%Y') for d in date_tuple]\n",
    "trans['date'] = pd.to_datetime(trans['date'])"
   ]
  },
  {
   "cell_type": "code",
   "execution_count": 7,
   "metadata": {},
   "outputs": [],
   "source": [
    "# Change id variables to categorical values\n",
    "obj_type = ['store_nbr','card_nbr','txn_id','prod_nbr']\n",
    "trans[obj_type] = trans[obj_type].astype(str)\n",
    "\n",
    "# Create price column\n",
    "trans['prod_price'] = trans['tot_sales']/trans['prod_qty']"
   ]
  },
  {
   "cell_type": "markdown",
   "metadata": {},
   "source": [
    "### Check simple statistics and clean data\n",
    "**Numerical variables**"
   ]
  },
  {
   "cell_type": "code",
   "execution_count": 8,
   "metadata": {},
   "outputs": [
    {
     "data": {
      "text/html": [
       "<div>\n",
       "<style scoped>\n",
       "    .dataframe tbody tr th:only-of-type {\n",
       "        vertical-align: middle;\n",
       "    }\n",
       "\n",
       "    .dataframe tbody tr th {\n",
       "        vertical-align: top;\n",
       "    }\n",
       "\n",
       "    .dataframe thead th {\n",
       "        text-align: right;\n",
       "    }\n",
       "</style>\n",
       "<table border=\"1\" class=\"dataframe\">\n",
       "  <thead>\n",
       "    <tr style=\"text-align: right;\">\n",
       "      <th></th>\n",
       "      <th>prod_qty</th>\n",
       "      <th>tot_sales</th>\n",
       "      <th>prod_price</th>\n",
       "    </tr>\n",
       "  </thead>\n",
       "  <tbody>\n",
       "    <tr>\n",
       "      <th>count</th>\n",
       "      <td>264836.000000</td>\n",
       "      <td>264836.000000</td>\n",
       "      <td>264836.000000</td>\n",
       "    </tr>\n",
       "    <tr>\n",
       "      <th>mean</th>\n",
       "      <td>1.907309</td>\n",
       "      <td>7.304200</td>\n",
       "      <td>3.824624</td>\n",
       "    </tr>\n",
       "    <tr>\n",
       "      <th>std</th>\n",
       "      <td>0.643654</td>\n",
       "      <td>3.083226</td>\n",
       "      <td>1.109523</td>\n",
       "    </tr>\n",
       "    <tr>\n",
       "      <th>min</th>\n",
       "      <td>1.000000</td>\n",
       "      <td>1.500000</td>\n",
       "      <td>1.320000</td>\n",
       "    </tr>\n",
       "    <tr>\n",
       "      <th>25%</th>\n",
       "      <td>2.000000</td>\n",
       "      <td>5.400000</td>\n",
       "      <td>3.000000</td>\n",
       "    </tr>\n",
       "    <tr>\n",
       "      <th>50%</th>\n",
       "      <td>2.000000</td>\n",
       "      <td>7.400000</td>\n",
       "      <td>3.800000</td>\n",
       "    </tr>\n",
       "    <tr>\n",
       "      <th>75%</th>\n",
       "      <td>2.000000</td>\n",
       "      <td>9.200000</td>\n",
       "      <td>4.600000</td>\n",
       "    </tr>\n",
       "    <tr>\n",
       "      <th>max</th>\n",
       "      <td>200.000000</td>\n",
       "      <td>650.000000</td>\n",
       "      <td>6.500000</td>\n",
       "    </tr>\n",
       "  </tbody>\n",
       "</table>\n",
       "</div>"
      ],
      "text/plain": [
       "            prod_qty      tot_sales     prod_price\n",
       "count  264836.000000  264836.000000  264836.000000\n",
       "mean        1.907309       7.304200       3.824624\n",
       "std         0.643654       3.083226       1.109523\n",
       "min         1.000000       1.500000       1.320000\n",
       "25%         2.000000       5.400000       3.000000\n",
       "50%         2.000000       7.400000       3.800000\n",
       "75%         2.000000       9.200000       4.600000\n",
       "max       200.000000     650.000000       6.500000"
      ]
     },
     "execution_count": 8,
     "metadata": {},
     "output_type": "execute_result"
    }
   ],
   "source": [
    "# Numerical data\n",
    "trans.describe()"
   ]
  },
  {
   "cell_type": "markdown",
   "metadata": {},
   "source": [
    "We seem to have outliers of product quantity and total sales. Let's draw box plots of these variables."
   ]
  },
  {
   "cell_type": "code",
   "execution_count": 9,
   "metadata": {},
   "outputs": [
    {
     "data": {
      "image/png": "[encoded data removed]",
      "text/plain": [
       "<Figure size 720x432 with 1 Axes>"
      ]
     },
     "metadata": {
      "needs_background": "light"
     },
     "output_type": "display_data"
    }
   ],
   "source": [
    "# Draw boxplots\n",
    "fig, axes = plt.subplots(1,2, figsize=(15,6))\n",
    "trans.plot.box(y='prod_qty', ax=axes[0])\n",
    "trans.plot.box(y='tot_sales', ax=axes[1])\n",
    "fig.suptitle('Boxplots of product quantity and total sales', fontsize=16)\n",
    "plt.show()"
   ]
  },
  {
   "cell_type": "code",
   "execution_count": 10,
   "metadata": {},
   "outputs": [
    {
     "data": {
      "text/html": [
       "<div>\n",
       "<style scoped>\n",
       "    .dataframe tbody tr th:only-of-type {\n",
       "        vertical-align: middle;\n",
       "    }\n",
       "\n",
       "    .dataframe tbody tr th {\n",
       "        vertical-align: top;\n",
       "    }\n",
       "\n",
       "    .dataframe thead th {\n",
       "        text-align: right;\n",
       "    }\n",
       "</style>\n",
       "<table border=\"1\" class=\"dataframe\">\n",
       "  <thead>\n",
       "    <tr style=\"text-align: right;\">\n",
       "      <th></th>\n",
       "      <th>card_nbr</th>\n",
       "      <th>prod_qty</th>\n",
       "      <th>tot_sales</th>\n",
       "    </tr>\n",
       "  </thead>\n",
       "  <tbody>\n",
       "    <tr>\n",
       "      <th>69762</th>\n",
       "      <td>226000</td>\n",
       "      <td>200</td>\n",
       "      <td>650.0</td>\n",
       "    </tr>\n",
       "    <tr>\n",
       "      <th>69763</th>\n",
       "      <td>226000</td>\n",
       "      <td>200</td>\n",
       "      <td>650.0</td>\n",
       "    </tr>\n",
       "  </tbody>\n",
       "</table>\n",
       "</div>"
      ],
      "text/plain": [
       "      card_nbr  prod_qty  tot_sales\n",
       "69762   226000       200      650.0\n",
       "69763   226000       200      650.0"
      ]
     },
     "execution_count": 10,
     "metadata": {},
     "output_type": "execute_result"
    }
   ],
   "source": [
    "# Check which rows have product quantity of 100 and above\n",
    "trans[trans['prod_qty'] > 100][['card_nbr','prod_qty','tot_sales']]"
   ]
  },
  {
   "cell_type": "markdown",
   "metadata": {},
   "source": [
    "There're only two records from one customer (same card_nbr) so I will remove these outliers."
   ]
  },
  {
   "cell_type": "code",
   "execution_count": 11,
   "metadata": {},
   "outputs": [
    {
     "data": {
      "text/html": [
       "<div>\n",
       "<style scoped>\n",
       "    .dataframe tbody tr th:only-of-type {\n",
       "        vertical-align: middle;\n",
       "    }\n",
       "\n",
       "    .dataframe tbody tr th {\n",
       "        vertical-align: top;\n",
       "    }\n",
       "\n",
       "    .dataframe thead th {\n",
       "        text-align: right;\n",
       "    }\n",
       "</style>\n",
       "<table border=\"1\" class=\"dataframe\">\n",
       "  <thead>\n",
       "    <tr style=\"text-align: right;\">\n",
       "      <th></th>\n",
       "      <th>date</th>\n",
       "      <th>store_nbr</th>\n",
       "      <th>card_nbr</th>\n",
       "      <th>txn_id</th>\n",
       "      <th>prod_nbr</th>\n",
       "      <th>prod_name</th>\n",
       "      <th>prod_qty</th>\n",
       "      <th>tot_sales</th>\n",
       "      <th>prod_price</th>\n",
       "    </tr>\n",
       "  </thead>\n",
       "  <tbody>\n",
       "    <tr>\n",
       "      <th>69762</th>\n",
       "      <td>2018-08-19</td>\n",
       "      <td>226</td>\n",
       "      <td>226000</td>\n",
       "      <td>226201</td>\n",
       "      <td>4</td>\n",
       "      <td>Dorito Corn Chp     Supreme 380g</td>\n",
       "      <td>200</td>\n",
       "      <td>650.0</td>\n",
       "      <td>3.25</td>\n",
       "    </tr>\n",
       "    <tr>\n",
       "      <th>69763</th>\n",
       "      <td>2019-05-20</td>\n",
       "      <td>226</td>\n",
       "      <td>226000</td>\n",
       "      <td>226210</td>\n",
       "      <td>4</td>\n",
       "      <td>Dorito Corn Chp     Supreme 380g</td>\n",
       "      <td>200</td>\n",
       "      <td>650.0</td>\n",
       "      <td>3.25</td>\n",
       "    </tr>\n",
       "  </tbody>\n",
       "</table>\n",
       "</div>"
      ],
      "text/plain": [
       "            date store_nbr card_nbr  txn_id prod_nbr  \\\n",
       "69762 2018-08-19       226   226000  226201        4   \n",
       "69763 2019-05-20       226   226000  226210        4   \n",
       "\n",
       "                              prod_name  prod_qty  tot_sales  prod_price  \n",
       "69762  Dorito Corn Chp     Supreme 380g       200      650.0        3.25  \n",
       "69763  Dorito Corn Chp     Supreme 380g       200      650.0        3.25  "
      ]
     },
     "execution_count": 11,
     "metadata": {},
     "output_type": "execute_result"
    }
   ],
   "source": [
    "# Doulbe ckeck these rows before removing them\n",
    "trans[trans['card_nbr'] == '226000']"
   ]
  },
  {
   "cell_type": "code",
   "execution_count": 12,
   "metadata": {},
   "outputs": [],
   "source": [
    "# Keep rows that have product quantity that is less than 100\n",
    "trans = trans[trans['prod_qty'] < 100]"
   ]
  },
  {
   "cell_type": "code",
   "execution_count": 13,
   "metadata": {},
   "outputs": [
    {
     "data": {
      "text/plain": [
       "prod_qty      5.0\n",
       "tot_sales    29.5\n",
       "dtype: float64"
      ]
     },
     "execution_count": 13,
     "metadata": {},
     "output_type": "execute_result"
    }
   ],
   "source": [
    "# Check maximum values of prod_qty and tot_sales\n",
    "trans[['prod_qty','tot_sales']].max()"
   ]
  },
  {
   "cell_type": "markdown",
   "metadata": {},
   "source": [
    "**Datetime variables**"
   ]
  },
  {
   "cell_type": "code",
   "execution_count": 14,
   "metadata": {},
   "outputs": [
    {
     "data": {
      "text/html": [
       "<div>\n",
       "<style scoped>\n",
       "    .dataframe tbody tr th:only-of-type {\n",
       "        vertical-align: middle;\n",
       "    }\n",
       "\n",
       "    .dataframe tbody tr th {\n",
       "        vertical-align: top;\n",
       "    }\n",
       "\n",
       "    .dataframe thead th {\n",
       "        text-align: right;\n",
       "    }\n",
       "</style>\n",
       "<table border=\"1\" class=\"dataframe\">\n",
       "  <thead>\n",
       "    <tr style=\"text-align: right;\">\n",
       "      <th></th>\n",
       "      <th>date</th>\n",
       "    </tr>\n",
       "  </thead>\n",
       "  <tbody>\n",
       "    <tr>\n",
       "      <th>count</th>\n",
       "      <td>264834</td>\n",
       "    </tr>\n",
       "    <tr>\n",
       "      <th>unique</th>\n",
       "      <td>364</td>\n",
       "    </tr>\n",
       "    <tr>\n",
       "      <th>top</th>\n",
       "      <td>2018-12-24 00:00:00</td>\n",
       "    </tr>\n",
       "    <tr>\n",
       "      <th>freq</th>\n",
       "      <td>939</td>\n",
       "    </tr>\n",
       "    <tr>\n",
       "      <th>first</th>\n",
       "      <td>2018-07-01 00:00:00</td>\n",
       "    </tr>\n",
       "    <tr>\n",
       "      <th>last</th>\n",
       "      <td>2019-06-30 00:00:00</td>\n",
       "    </tr>\n",
       "  </tbody>\n",
       "</table>\n",
       "</div>"
      ],
      "text/plain": [
       "                       date\n",
       "count                264834\n",
       "unique                  364\n",
       "top     2018-12-24 00:00:00\n",
       "freq                    939\n",
       "first   2018-07-01 00:00:00\n",
       "last    2019-06-30 00:00:00"
      ]
     },
     "execution_count": 14,
     "metadata": {},
     "output_type": "execute_result"
    }
   ],
   "source": [
    "# Check datetime values\n",
    "trans.describe(include=np.datetime64)"
   ]
  },
  {
   "cell_type": "markdown",
   "metadata": {},
   "source": [
    "We have 364 unique dates instead of 365. Let's see which date is missing."
   ]
  },
  {
   "cell_type": "code",
   "execution_count": 15,
   "metadata": {},
   "outputs": [
    {
     "data": {
      "text/html": [
       "<div>\n",
       "<style scoped>\n",
       "    .dataframe tbody tr th:only-of-type {\n",
       "        vertical-align: middle;\n",
       "    }\n",
       "\n",
       "    .dataframe tbody tr th {\n",
       "        vertical-align: top;\n",
       "    }\n",
       "\n",
       "    .dataframe thead th {\n",
       "        text-align: right;\n",
       "    }\n",
       "</style>\n",
       "<table border=\"1\" class=\"dataframe\">\n",
       "  <thead>\n",
       "    <tr style=\"text-align: right;\">\n",
       "      <th></th>\n",
       "      <th>date</th>\n",
       "      <th>_merge</th>\n",
       "    </tr>\n",
       "  </thead>\n",
       "  <tbody>\n",
       "    <tr>\n",
       "      <th>264834</th>\n",
       "      <td>2018-12-25</td>\n",
       "      <td>right_only</td>\n",
       "    </tr>\n",
       "  </tbody>\n",
       "</table>\n",
       "</div>"
      ],
      "text/plain": [
       "             date      _merge\n",
       "264834 2018-12-25  right_only"
      ]
     },
     "execution_count": 15,
     "metadata": {},
     "output_type": "execute_result"
    }
   ],
   "source": [
    "# Create list of date from 07/01/2018 to 06/30/2019\n",
    "date_range = pd.DataFrame(pd.date_range('2018-07-01', '2019-06-30').tolist(),\n",
    "                          columns=['date'])\n",
    "\n",
    "# Merge this list to column date, showing indicator\n",
    "date_merge = pd.merge(trans['date'],\n",
    "                      date_range,\n",
    "                      on='date',\n",
    "                      how='outer',\n",
    "                      indicator=True)\n",
    "\n",
    "# Row that has indicator (_merge column) as right_only contains the missing date\n",
    "date_merge[date_merge['_merge'] == 'right_only']"
   ]
  },
  {
   "cell_type": "markdown",
   "metadata": {},
   "source": [
    "All stores seem to close on Christmas, so we don't have any transaction data on that date.\n",
    "\n",
    "From date data, I also want to extract year, month, and weekday information."
   ]
  },
  {
   "cell_type": "code",
   "execution_count": 16,
   "metadata": {},
   "outputs": [],
   "source": [
    "# Create new columns for year, month, and weekday\n",
    "trans['year'], trans['month'], trans['weekday'] = \\\n",
    "trans['date'].dt.year, trans['date'].dt.month, trans['date'].dt.day_name()"
   ]
  },
  {
   "cell_type": "markdown",
   "metadata": {},
   "source": [
    "**Categorical variables**"
   ]
  },
  {
   "cell_type": "code",
   "execution_count": 17,
   "metadata": {},
   "outputs": [
    {
     "data": {
      "text/html": [
       "<div>\n",
       "<style scoped>\n",
       "    .dataframe tbody tr th:only-of-type {\n",
       "        vertical-align: middle;\n",
       "    }\n",
       "\n",
       "    .dataframe tbody tr th {\n",
       "        vertical-align: top;\n",
       "    }\n",
       "\n",
       "    .dataframe thead th {\n",
       "        text-align: right;\n",
       "    }\n",
       "</style>\n",
       "<table border=\"1\" class=\"dataframe\">\n",
       "  <thead>\n",
       "    <tr style=\"text-align: right;\">\n",
       "      <th></th>\n",
       "      <th>store_nbr</th>\n",
       "      <th>card_nbr</th>\n",
       "      <th>txn_id</th>\n",
       "      <th>prod_nbr</th>\n",
       "      <th>prod_name</th>\n",
       "      <th>weekday</th>\n",
       "    </tr>\n",
       "  </thead>\n",
       "  <tbody>\n",
       "    <tr>\n",
       "      <th>count</th>\n",
       "      <td>264834</td>\n",
       "      <td>264834</td>\n",
       "      <td>264834</td>\n",
       "      <td>264834</td>\n",
       "      <td>264834</td>\n",
       "      <td>264834</td>\n",
       "    </tr>\n",
       "    <tr>\n",
       "      <th>unique</th>\n",
       "      <td>272</td>\n",
       "      <td>72636</td>\n",
       "      <td>263125</td>\n",
       "      <td>114</td>\n",
       "      <td>114</td>\n",
       "      <td>7</td>\n",
       "    </tr>\n",
       "    <tr>\n",
       "      <th>top</th>\n",
       "      <td>226</td>\n",
       "      <td>172032</td>\n",
       "      <td>1162</td>\n",
       "      <td>102</td>\n",
       "      <td>Kettle Mozzarella   Basil &amp; Pesto 175g</td>\n",
       "      <td>Sunday</td>\n",
       "    </tr>\n",
       "    <tr>\n",
       "      <th>freq</th>\n",
       "      <td>2020</td>\n",
       "      <td>18</td>\n",
       "      <td>3</td>\n",
       "      <td>3304</td>\n",
       "      <td>3304</td>\n",
       "      <td>38717</td>\n",
       "    </tr>\n",
       "  </tbody>\n",
       "</table>\n",
       "</div>"
      ],
      "text/plain": [
       "       store_nbr card_nbr  txn_id prod_nbr  \\\n",
       "count     264834   264834  264834   264834   \n",
       "unique       272    72636  263125      114   \n",
       "top          226   172032    1162      102   \n",
       "freq        2020       18       3     3304   \n",
       "\n",
       "                                     prod_name weekday  \n",
       "count                                   264834  264834  \n",
       "unique                                     114       7  \n",
       "top     Kettle Mozzarella   Basil & Pesto 175g  Sunday  \n",
       "freq                                      3304   38717  "
      ]
     },
     "execution_count": 17,
     "metadata": {},
     "output_type": "execute_result"
    }
   ],
   "source": [
    "# Check categorical values\n",
    "trans.describe(include=object)"
   ]
  },
  {
   "cell_type": "markdown",
   "metadata": {},
   "source": [
    "Noticing the number of unique customers (card_nbr) and transactions (txn_id), we can see that one customer can have multiple transactions. However, one customer should have one transaction on the same date, in the same store at a time. I would like to make sure we don't have any duplicated transaction in any way."
   ]
  },
  {
   "cell_type": "markdown",
   "metadata": {},
   "source": [
    "**Remove duplicates**"
   ]
  },
  {
   "cell_type": "code",
   "execution_count": 18,
   "metadata": {},
   "outputs": [
    {
     "name": "stdout",
     "output_type": "stream",
     "text": [
      "There are 264833 unique data rows.\n"
     ]
    }
   ],
   "source": [
    "# Drop duplicates if available\n",
    "trans = trans.drop_duplicates(ignore_index=True)\n",
    "\n",
    "# Print data length\n",
    "print(f'There are {len(trans)} unique data rows.')"
   ]
  },
  {
   "cell_type": "code",
   "execution_count": 19,
   "metadata": {},
   "outputs": [
    {
     "name": "stdout",
     "output_type": "stream",
     "text": [
      "There are 1704 rows that have the same information of date, store number, customer, and transaction id.\n"
     ]
    }
   ],
   "source": [
    "# Check how many rows that have the same information of date, store_nbr, card_nbr, and txn_id\n",
    "print(f\"There are {trans.duplicated(['date','store_nbr','card_nbr','txn_id']).sum()} \\\n",
    "rows that have the same information of date, store number, customer, and transaction id.\")"
   ]
  },
  {
   "cell_type": "markdown",
   "metadata": {},
   "source": [
    "This does not seem right. Let's group our data by transaction id and count unique values of other columns."
   ]
  },
  {
   "cell_type": "code",
   "execution_count": 20,
   "metadata": {},
   "outputs": [],
   "source": [
    "# Create dataframe including date, store_nbr, card_nbr, txn_id, and prod_nbr that have same txn_id\n",
    "dup_trans = trans[trans.duplicated('txn_id', keep=False)][['date','store_nbr','card_nbr','txn_id','prod_nbr']]\n",
    "\n",
    "# Group this dataframe by txn_id, counting number of unique values of other columns\n",
    "count_df = dup_trans.groupby(['txn_id']).nunique()"
   ]
  },
  {
   "cell_type": "markdown",
   "metadata": {},
   "source": [
    "Now let's print out data that have more than one unique value of date, store_nbr, or card_nbr. If a txn_id has more than one unique value of any of these columns, then that transaction is duplicated."
   ]
  },
  {
   "cell_type": "code",
   "execution_count": 21,
   "metadata": {},
   "outputs": [
    {
     "data": {
      "text/html": [
       "<div>\n",
       "<style scoped>\n",
       "    .dataframe tbody tr th:only-of-type {\n",
       "        vertical-align: middle;\n",
       "    }\n",
       "\n",
       "    .dataframe tbody tr th {\n",
       "        vertical-align: top;\n",
       "    }\n",
       "\n",
       "    .dataframe thead th {\n",
       "        text-align: right;\n",
       "    }\n",
       "</style>\n",
       "<table border=\"1\" class=\"dataframe\">\n",
       "  <thead>\n",
       "    <tr style=\"text-align: right;\">\n",
       "      <th></th>\n",
       "      <th>date</th>\n",
       "      <th>store_nbr</th>\n",
       "      <th>card_nbr</th>\n",
       "      <th>txn_id</th>\n",
       "      <th>prod_nbr</th>\n",
       "    </tr>\n",
       "    <tr>\n",
       "      <th>txn_id</th>\n",
       "      <th></th>\n",
       "      <th></th>\n",
       "      <th></th>\n",
       "      <th></th>\n",
       "      <th></th>\n",
       "    </tr>\n",
       "  </thead>\n",
       "  <tbody>\n",
       "    <tr>\n",
       "      <th>155468</th>\n",
       "      <td>2</td>\n",
       "      <td>1</td>\n",
       "      <td>2</td>\n",
       "      <td>1</td>\n",
       "      <td>2</td>\n",
       "    </tr>\n",
       "    <tr>\n",
       "      <th>155469</th>\n",
       "      <td>2</td>\n",
       "      <td>1</td>\n",
       "      <td>2</td>\n",
       "      <td>1</td>\n",
       "      <td>2</td>\n",
       "    </tr>\n",
       "    <tr>\n",
       "      <th>156002</th>\n",
       "      <td>2</td>\n",
       "      <td>1</td>\n",
       "      <td>1</td>\n",
       "      <td>1</td>\n",
       "      <td>2</td>\n",
       "    </tr>\n",
       "    <tr>\n",
       "      <th>50042</th>\n",
       "      <td>2</td>\n",
       "      <td>1</td>\n",
       "      <td>1</td>\n",
       "      <td>1</td>\n",
       "      <td>2</td>\n",
       "    </tr>\n",
       "  </tbody>\n",
       "</table>\n",
       "</div>"
      ],
      "text/plain": [
       "        date  store_nbr  card_nbr  txn_id  prod_nbr\n",
       "txn_id                                             \n",
       "155468     2          1         2       1         2\n",
       "155469     2          1         2       1         2\n",
       "156002     2          1         1       1         2\n",
       "50042      2          1         1       1         2"
      ]
     },
     "execution_count": 21,
     "metadata": {},
     "output_type": "execute_result"
    }
   ],
   "source": [
    "# Print out data that have more than one unique value of date, store_nbr, or card_nbr\n",
    "count_df[(count_df['date'] != 1) |\n",
    "         (count_df['store_nbr'] != 1) |\n",
    "         (count_df['card_nbr'] != 1)]"
   ]
  },
  {
   "cell_type": "markdown",
   "metadata": {},
   "source": [
    "As expected, we have four duplicated transaction id. Let's get more information of these transactions."
   ]
  },
  {
   "cell_type": "code",
   "execution_count": 22,
   "metadata": {},
   "outputs": [
    {
     "data": {
      "text/html": [
       "<div>\n",
       "<style scoped>\n",
       "    .dataframe tbody tr th:only-of-type {\n",
       "        vertical-align: middle;\n",
       "    }\n",
       "\n",
       "    .dataframe tbody tr th {\n",
       "        vertical-align: top;\n",
       "    }\n",
       "\n",
       "    .dataframe thead th {\n",
       "        text-align: right;\n",
       "    }\n",
       "</style>\n",
       "<table border=\"1\" class=\"dataframe\">\n",
       "  <thead>\n",
       "    <tr style=\"text-align: right;\">\n",
       "      <th></th>\n",
       "      <th>date</th>\n",
       "      <th>store_nbr</th>\n",
       "      <th>card_nbr</th>\n",
       "      <th>txn_id</th>\n",
       "      <th>prod_nbr</th>\n",
       "      <th>prod_name</th>\n",
       "      <th>prod_qty</th>\n",
       "      <th>tot_sales</th>\n",
       "      <th>prod_price</th>\n",
       "      <th>year</th>\n",
       "      <th>month</th>\n",
       "      <th>weekday</th>\n",
       "    </tr>\n",
       "  </thead>\n",
       "  <tbody>\n",
       "    <tr>\n",
       "      <th>127899</th>\n",
       "      <td>2018-08-13</td>\n",
       "      <td>155</td>\n",
       "      <td>155010</td>\n",
       "      <td>155468</td>\n",
       "      <td>10</td>\n",
       "      <td>RRD SR Slow Rst     Pork Belly 150g</td>\n",
       "      <td>2</td>\n",
       "      <td>5.4</td>\n",
       "      <td>2.7</td>\n",
       "      <td>2018</td>\n",
       "      <td>8</td>\n",
       "      <td>Monday</td>\n",
       "    </tr>\n",
       "    <tr>\n",
       "      <th>110173</th>\n",
       "      <td>2018-11-16</td>\n",
       "      <td>155</td>\n",
       "      <td>155072</td>\n",
       "      <td>155468</td>\n",
       "      <td>29</td>\n",
       "      <td>French Fries Potato Chips 175g</td>\n",
       "      <td>2</td>\n",
       "      <td>6.0</td>\n",
       "      <td>3.0</td>\n",
       "      <td>2018</td>\n",
       "      <td>11</td>\n",
       "      <td>Friday</td>\n",
       "    </tr>\n",
       "    <tr>\n",
       "      <th>110174</th>\n",
       "      <td>2018-11-30</td>\n",
       "      <td>155</td>\n",
       "      <td>155072</td>\n",
       "      <td>155469</td>\n",
       "      <td>110</td>\n",
       "      <td>WW Original Corn    Chips 200g</td>\n",
       "      <td>2</td>\n",
       "      <td>3.8</td>\n",
       "      <td>1.9</td>\n",
       "      <td>2018</td>\n",
       "      <td>11</td>\n",
       "      <td>Friday</td>\n",
       "    </tr>\n",
       "    <tr>\n",
       "      <th>219242</th>\n",
       "      <td>2018-12-16</td>\n",
       "      <td>56</td>\n",
       "      <td>56003</td>\n",
       "      <td>50042</td>\n",
       "      <td>53</td>\n",
       "      <td>RRD Sweet Chilli &amp;  Sour Cream 165g</td>\n",
       "      <td>2</td>\n",
       "      <td>6.0</td>\n",
       "      <td>3.0</td>\n",
       "      <td>2018</td>\n",
       "      <td>12</td>\n",
       "      <td>Sunday</td>\n",
       "    </tr>\n",
       "    <tr>\n",
       "      <th>219243</th>\n",
       "      <td>2018-12-17</td>\n",
       "      <td>56</td>\n",
       "      <td>56003</td>\n",
       "      <td>50042</td>\n",
       "      <td>96</td>\n",
       "      <td>WW Original Stacked Chips 160g</td>\n",
       "      <td>2</td>\n",
       "      <td>3.8</td>\n",
       "      <td>1.9</td>\n",
       "      <td>2018</td>\n",
       "      <td>12</td>\n",
       "      <td>Monday</td>\n",
       "    </tr>\n",
       "    <tr>\n",
       "      <th>45913</th>\n",
       "      <td>2019-02-09</td>\n",
       "      <td>155</td>\n",
       "      <td>155153</td>\n",
       "      <td>156002</td>\n",
       "      <td>25</td>\n",
       "      <td>Pringles SourCream  Onion 134g</td>\n",
       "      <td>2</td>\n",
       "      <td>7.4</td>\n",
       "      <td>3.7</td>\n",
       "      <td>2019</td>\n",
       "      <td>2</td>\n",
       "      <td>Saturday</td>\n",
       "    </tr>\n",
       "    <tr>\n",
       "      <th>45912</th>\n",
       "      <td>2019-02-23</td>\n",
       "      <td>155</td>\n",
       "      <td>155153</td>\n",
       "      <td>156002</td>\n",
       "      <td>14</td>\n",
       "      <td>Smiths Crnkle Chip  Orgnl Big Bag 380g</td>\n",
       "      <td>2</td>\n",
       "      <td>11.8</td>\n",
       "      <td>5.9</td>\n",
       "      <td>2019</td>\n",
       "      <td>2</td>\n",
       "      <td>Saturday</td>\n",
       "    </tr>\n",
       "    <tr>\n",
       "      <th>127896</th>\n",
       "      <td>2019-06-05</td>\n",
       "      <td>155</td>\n",
       "      <td>155010</td>\n",
       "      <td>155469</td>\n",
       "      <td>77</td>\n",
       "      <td>Doritos Corn Chips  Nacho Cheese 170g</td>\n",
       "      <td>2</td>\n",
       "      <td>8.8</td>\n",
       "      <td>4.4</td>\n",
       "      <td>2019</td>\n",
       "      <td>6</td>\n",
       "      <td>Wednesday</td>\n",
       "    </tr>\n",
       "  </tbody>\n",
       "</table>\n",
       "</div>"
      ],
      "text/plain": [
       "             date store_nbr card_nbr  txn_id prod_nbr  \\\n",
       "127899 2018-08-13       155   155010  155468       10   \n",
       "110173 2018-11-16       155   155072  155468       29   \n",
       "110174 2018-11-30       155   155072  155469      110   \n",
       "219242 2018-12-16        56    56003   50042       53   \n",
       "219243 2018-12-17        56    56003   50042       96   \n",
       "45913  2019-02-09       155   155153  156002       25   \n",
       "45912  2019-02-23       155   155153  156002       14   \n",
       "127896 2019-06-05       155   155010  155469       77   \n",
       "\n",
       "                                     prod_name  prod_qty  tot_sales  \\\n",
       "127899     RRD SR Slow Rst     Pork Belly 150g         2        5.4   \n",
       "110173          French Fries Potato Chips 175g         2        6.0   \n",
       "110174          WW Original Corn    Chips 200g         2        3.8   \n",
       "219242     RRD Sweet Chilli &  Sour Cream 165g         2        6.0   \n",
       "219243          WW Original Stacked Chips 160g         2        3.8   \n",
       "45913           Pringles SourCream  Onion 134g         2        7.4   \n",
       "45912   Smiths Crnkle Chip  Orgnl Big Bag 380g         2       11.8   \n",
       "127896   Doritos Corn Chips  Nacho Cheese 170g         2        8.8   \n",
       "\n",
       "        prod_price  year  month    weekday  \n",
       "127899         2.7  2018      8     Monday  \n",
       "110173         3.0  2018     11     Friday  \n",
       "110174         1.9  2018     11     Friday  \n",
       "219242         3.0  2018     12     Sunday  \n",
       "219243         1.9  2018     12     Monday  \n",
       "45913          3.7  2019      2   Saturday  \n",
       "45912          5.9  2019      2   Saturday  \n",
       "127896         4.4  2019      6  Wednesday  "
      ]
     },
     "execution_count": 22,
     "metadata": {},
     "output_type": "execute_result"
    }
   ],
   "source": [
    "# Print out data of these transaction id from transaction data\n",
    "trans[(trans['txn_id'] == '155468') | (trans['txn_id'] == '155469') |\n",
    "      (trans['txn_id'] == '156002') | (trans['txn_id'] == '50042')].sort_values(['date','card_nbr'])"
   ]
  },
  {
   "cell_type": "markdown",
   "metadata": {},
   "source": [
    "We can bring these data to Quantium data team to get more information. Moving forward, I will remove these rows.<br><br>\n",
    "Also, one transaction has more data rows because a customer buys different products at a time. I would like to make sure there's no duplicated transactions and product id."
   ]
  },
  {
   "cell_type": "code",
   "execution_count": 23,
   "metadata": {},
   "outputs": [
    {
     "data": {
      "text/plain": [
       "False"
      ]
     },
     "execution_count": 23,
     "metadata": {},
     "output_type": "execute_result"
    }
   ],
   "source": [
    "# Check if there're duplicated transactions and product id\n",
    "(count_df['prod_nbr'] == 1).any()"
   ]
  },
  {
   "cell_type": "code",
   "execution_count": 24,
   "metadata": {},
   "outputs": [],
   "source": [
    "# Remove potential duplicated transactions\n",
    "trans = trans[(trans['txn_id'] != '155468') & (trans['txn_id'] != '155469') &\n",
    "              (trans['txn_id'] != '156002') & (trans['txn_id'] != '50042')]"
   ]
  },
  {
   "cell_type": "markdown",
   "metadata": {},
   "source": [
    "**Extract information from product name**"
   ]
  },
  {
   "cell_type": "markdown",
   "metadata": {},
   "source": [
    "- **Product size**"
   ]
  },
  {
   "cell_type": "code",
   "execution_count": 25,
   "metadata": {},
   "outputs": [],
   "source": [
    "# Extract size of the product\n",
    "trans['prod_size'] = trans['prod_name'].str.extract(r'(\\d+)').astype(np.int64)\n",
    "\n",
    "# Extract size unit of the product\n",
    "trans['prod_unit'] = trans['prod_name'].str.extract(r'(\\D+$)')"
   ]
  },
  {
   "cell_type": "code",
   "execution_count": 26,
   "metadata": {},
   "outputs": [
    {
     "data": {
      "text/plain": [
       "count    264825.000000\n",
       "mean        182.425258\n",
       "std          64.324955\n",
       "min          70.000000\n",
       "25%         150.000000\n",
       "50%         170.000000\n",
       "75%         175.000000\n",
       "max         380.000000\n",
       "Name: prod_size, dtype: float64"
      ]
     },
     "execution_count": 26,
     "metadata": {},
     "output_type": "execute_result"
    }
   ],
   "source": [
    "# Check statistic of size\n",
    "trans['prod_size'].describe()"
   ]
  },
  {
   "cell_type": "code",
   "execution_count": 27,
   "metadata": {},
   "outputs": [
    {
     "name": "stdout",
     "output_type": "stream",
     "text": [
      "Number of unique package sizes: 21\n"
     ]
    }
   ],
   "source": [
    "print(f\"Number of unique package sizes: {trans['prod_size'].nunique()}\")"
   ]
  },
  {
   "cell_type": "code",
   "execution_count": 28,
   "metadata": {},
   "outputs": [
    {
     "name": "stdout",
     "output_type": "stream",
     "text": [
      "Unique values of size units:\n",
      "g                     255504\n",
      "G                       6064\n",
      "g Swt Pot Sea Salt      3257\n",
      "Name: prod_unit, dtype: int64\n"
     ]
    }
   ],
   "source": [
    "print(f\"Unique values of size units:\\n{trans['prod_unit'].value_counts()}\")"
   ]
  },
  {
   "cell_type": "markdown",
   "metadata": {},
   "source": [
    "Alright, we have a funny unit here. Let's see if the data would hurt if we remove this unit."
   ]
  },
  {
   "cell_type": "code",
   "execution_count": 29,
   "metadata": {},
   "outputs": [
    {
     "data": {
      "text/plain": [
       "136205    Kettle 135g Swt Pot Sea Salt\n",
       "247769    Kettle 135g Swt Pot Sea Salt\n",
       "173094    Kettle 135g Swt Pot Sea Salt\n",
       "49783     Kettle 135g Swt Pot Sea Salt\n",
       "253417    Kettle 135g Swt Pot Sea Salt\n",
       "Name: prod_name, dtype: object"
      ]
     },
     "execution_count": 29,
     "metadata": {},
     "output_type": "execute_result"
    }
   ],
   "source": [
    "# Print out data that have unit 'g Swt Pot Sea Salt'\n",
    "trans[trans['prod_unit'] == 'g Swt Pot Sea Salt']['prod_name'].sample(5)"
   ]
  },
  {
   "cell_type": "markdown",
   "metadata": {},
   "source": [
    "Now we know why the unit turned out like that. There's no discrepancy in the unit, so we can remove the unit column and the size information out of the product name."
   ]
  },
  {
   "cell_type": "code",
   "execution_count": 30,
   "metadata": {},
   "outputs": [],
   "source": [
    "# Drop prod_unit\n",
    "trans = trans.drop('prod_unit', axis=1)\n",
    "\n",
    "# Remove package size and unit out of the product name\n",
    "trans['prod_name'] = trans['prod_name'].str.replace(r'\\d+.', '').str.rstrip(' ')"
   ]
  },
  {
   "cell_type": "markdown",
   "metadata": {},
   "source": [
    "- **Product brand**"
   ]
  },
  {
   "cell_type": "markdown",
   "metadata": {},
   "source": [
    "Next, let's extract the brand name. First, we need to have a look at the product name pattern."
   ]
  },
  {
   "cell_type": "code",
   "execution_count": 31,
   "metadata": {
    "scrolled": false
   },
   "outputs": [
    {
     "name": "stdout",
     "output_type": "stream",
     "text": [
      "Unique product name:\n"
     ]
    },
    {
     "data": {
      "text/plain": [
       "['Burger Rings',\n",
       " 'CCs Nacho Cheese',\n",
       " 'CCs Original',\n",
       " 'CCs Tasty Cheese',\n",
       " 'Cheetos Chs & Bacon Balls',\n",
       " 'Cheetos Puffs',\n",
       " 'Cheezels Cheese',\n",
       " 'Cheezels Cheese Box',\n",
       " 'Cobs Popd Sea Salt  Chips',\n",
       " 'Cobs Popd Sour Crm  &Chives Chips',\n",
       " 'Cobs Popd Swt/Chlli &Sr/Cream Chips',\n",
       " 'Dorito Corn Chp     Supreme',\n",
       " 'Doritos Cheese      Supreme',\n",
       " 'Doritos Corn Chip Mexican Jalapeno',\n",
       " 'Doritos Corn Chip Southern Chicken',\n",
       " 'Doritos Corn Chips  Cheese Supreme',\n",
       " 'Doritos Corn Chips  Nacho Cheese',\n",
       " 'Doritos Corn Chips  Original',\n",
       " 'Doritos Mexicana',\n",
       " 'Doritos Salsa       Medium',\n",
       " 'Doritos Salsa Mild',\n",
       " 'French Fries Potato Chips',\n",
       " 'Grain Waves         Sweet Chilli',\n",
       " 'Grain Waves Sour    Cream&Chives',\n",
       " 'GrnWves Plus Btroot & Chilli Jam',\n",
       " 'Infuzions BBQ Rib   Prawn Crackers',\n",
       " 'Infuzions Mango     Chutny Papadums',\n",
       " 'Infuzions SourCream&Herbs Veg Strws',\n",
       " 'Infuzions Thai SweetChili PotatoMix',\n",
       " 'Infzns Crn Crnchers Tangy Gcamole',\n",
       " 'Kettle  Swt Pot Sea Salt',\n",
       " 'Kettle Chilli',\n",
       " 'Kettle Honey Soy    Chicken',\n",
       " 'Kettle Mozzarella   Basil & Pesto',\n",
       " 'Kettle Original',\n",
       " 'Kettle Sea Salt     And Vinegar',\n",
       " 'Kettle Sensations   BBQ&Maple',\n",
       " 'Kettle Sensations   Camembert & Fig',\n",
       " 'Kettle Sensations   Siracha Lime',\n",
       " 'Kettle Sweet Chilli And Sour Cream',\n",
       " 'Kettle Tortilla ChpsBtroot&Ricotta',\n",
       " 'Kettle Tortilla ChpsFeta&Garlic',\n",
       " 'Kettle Tortilla ChpsHny&Jlpno Chili',\n",
       " 'NCC Sour Cream &    Garden Chives',\n",
       " 'Natural Chip        Compny SeaSalt',\n",
       " 'Natural Chip Co     Tmato Hrb&Spce',\n",
       " 'Natural ChipCo      Hony Soy Chckn',\n",
       " 'Natural ChipCo Sea  Salt & Vinegr',\n",
       " 'Old El Paso Salsa   Dip Chnky Tom Ht',\n",
       " 'Old El Paso Salsa   Dip Tomato Med',\n",
       " 'Old El Paso Salsa   Dip Tomato Mild',\n",
       " 'Pringles Barbeque',\n",
       " 'Pringles Chicken    Salt Crips',\n",
       " 'Pringles Mystery    Flavour',\n",
       " 'Pringles Original   Crisps',\n",
       " 'Pringles Slt Vingar',\n",
       " 'Pringles SourCream  Onion',\n",
       " 'Pringles Sthrn FriedChicken',\n",
       " 'Pringles Sweet&Spcy BBQ',\n",
       " 'RRD Chilli&         Coconut',\n",
       " 'RRD Honey Soy       Chicken',\n",
       " 'RRD Lime & Pepper',\n",
       " 'RRD Pc Sea Salt',\n",
       " 'RRD SR Slow Rst     Pork Belly',\n",
       " 'RRD Salt & Vinegar',\n",
       " 'RRD Steak &         Chimuchurri',\n",
       " 'RRD Sweet Chilli &  Sour Cream',\n",
       " 'Red Rock Deli Chikn&Garlic Aioli',\n",
       " 'Red Rock Deli SR    Salsa & Mzzrlla',\n",
       " 'Red Rock Deli Sp    Salt & Truffle',\n",
       " 'Red Rock Deli Thai  Chilli&Lime',\n",
       " 'Smith Crinkle Cut   Bolognese',\n",
       " 'Smith Crinkle Cut   Mac N Cheese',\n",
       " 'Smiths Chip Thinly  Cut Original',\n",
       " 'Smiths Chip Thinly  CutSalt/Vinegr',\n",
       " 'Smiths Chip Thinly  S/Cream&Onion',\n",
       " 'Smiths Crinkle      Original',\n",
       " 'Smiths Crinkle Chips Salt & Vinegar',\n",
       " 'Smiths Crinkle Cut  Chips Barbecue',\n",
       " 'Smiths Crinkle Cut  Chips Chicken',\n",
       " 'Smiths Crinkle Cut  Chips Chs&Onion',\n",
       " 'Smiths Crinkle Cut  Chips Original',\n",
       " 'Smiths Crinkle Cut  French OnionDip',\n",
       " 'Smiths Crinkle Cut  Salt & Vinegar',\n",
       " 'Smiths Crinkle Cut  Snag&Sauce',\n",
       " 'Smiths Crinkle Cut  Tomato Salsa',\n",
       " 'Smiths Crnkle Chip  Orgnl Big Bag',\n",
       " 'Smiths Thinly       Swt Chli&S/Cream',\n",
       " 'Smiths Thinly Cut   Roast Chicken',\n",
       " 'Snbts Whlgrn Crisps Cheddr&Mstrd',\n",
       " 'Sunbites Whlegrn    Crisps Frch/Onin',\n",
       " 'Thins Chips         Originl saltd',\n",
       " 'Thins Chips Light&  Tangy',\n",
       " 'Thins Chips Salt &  Vinegar',\n",
       " 'Thins Chips Seasonedchicken',\n",
       " 'Thins Potato Chips  Hot & Spicy',\n",
       " 'Tostitos Lightly    Salted',\n",
       " 'Tostitos Smoked     Chipotle',\n",
       " 'Tostitos Splash Of  Lime',\n",
       " 'Twisties Cheese',\n",
       " 'Twisties Cheese     Burger',\n",
       " 'Twisties Chicken',\n",
       " 'Tyrrells Crisps     Ched & Chives',\n",
       " 'Tyrrells Crisps     Lightly Salted',\n",
       " 'WW Crinkle Cut      Chicken',\n",
       " 'WW Crinkle Cut      Original',\n",
       " 'WW D/Style Chip     Sea Salt',\n",
       " 'WW Original Corn    Chips',\n",
       " 'WW Original Stacked Chips',\n",
       " 'WW Sour Cream &OnionStacked Chips',\n",
       " 'WW Supreme Cheese   Corn Chips',\n",
       " 'Woolworths Cheese   Rings',\n",
       " 'Woolworths Medium   Salsa',\n",
       " 'Woolworths Mild     Salsa']"
      ]
     },
     "execution_count": 31,
     "metadata": {},
     "output_type": "execute_result"
    }
   ],
   "source": [
    "print('Unique product name:')\n",
    "np.sort(trans['prod_name'].unique()).tolist()"
   ]
  },
  {
   "cell_type": "markdown",
   "metadata": {},
   "source": [
    "We can easily recognize a brand name of a product by the first few words of a product name. Now, we can create a dictionary of brand names as values and the first words of product names as keys."
   ]
  },
  {
   "cell_type": "code",
   "execution_count": 32,
   "metadata": {},
   "outputs": [],
   "source": [
    "# Create brand name dictionary\n",
    "brand_dict = {'Burger':'Burger Rings', 'CCs':'CCs', 'Cheetos':'Cheetos',\n",
    "              'Cheezels':'Cheezels','Cobs':'Cobs', 'Dorito':'Doritos', \n",
    "              'Doritos':'Doritos', 'French':'French Fries','Infuzions':'Infuzions',\n",
    "              'Infzns':'Infuzions', 'Kettle':'Kettle', 'Natural':'Natural Chip Co',\n",
    "              'NCC':'Natural Chip Co', 'Old':'Old El Paso', 'Pringles':'Pringles', \n",
    "              'RRD':'Red Rock Deli','Red':'Red Rock Deli', 'Smith':'Smiths', \n",
    "              'Smiths':'Smiths','Grain':'Sunbites', 'GrnWves':'Sunbites',\n",
    "              'Snbts':'Sunbites', 'Sunbites':'Sunbites', 'Thins':'Thins',\n",
    "              'Tostitos':'Tostitos', 'Twisties':'Twisties', 'Tyrrells':'Tyrrells', \n",
    "              'Woolworths':'Woolworths', 'WW':'Woolworths'}"
   ]
  },
  {
   "cell_type": "markdown",
   "metadata": {},
   "source": [
    "Next, create name column and adjust the prod_name column."
   ]
  },
  {
   "cell_type": "code",
   "execution_count": 33,
   "metadata": {},
   "outputs": [],
   "source": [
    "# Create brand column\n",
    "trans['brand'] = trans['prod_name'].str.extract(r'(^\\w+)')\n",
    "trans['brand'] = trans['brand'].map(brand_dict)"
   ]
  },
  {
   "cell_type": "code",
   "execution_count": 34,
   "metadata": {},
   "outputs": [
    {
     "name": "stdout",
     "output_type": "stream",
     "text": [
      "Unique brand names: \n",
      "['Natural Chip Co' 'CCs' 'Smiths' 'Kettle' 'Old El Paso' 'Sunbites'\n",
      " 'Doritos' 'Twisties' 'Woolworths' 'Thins' 'Burger Rings' 'Cheezels'\n",
      " 'Infuzions' 'Red Rock Deli' 'Pringles' 'Tyrrells' 'Cobs' 'French Fries'\n",
      " 'Tostitos' 'Cheetos']\n"
     ]
    }
   ],
   "source": [
    "# Print out unique brand name\n",
    "print(f\"Unique brand names: \\n{trans['brand'].unique()}\")"
   ]
  },
  {
   "cell_type": "markdown",
   "metadata": {},
   "source": [
    "- **Product name**"
   ]
  },
  {
   "cell_type": "code",
   "execution_count": 35,
   "metadata": {},
   "outputs": [],
   "source": [
    "# Remove spaces in prod_name column\n",
    "trans['prod_name'] = trans['prod_name'].apply(lambda x: ' '.join(x.split())) "
   ]
  },
  {
   "cell_type": "markdown",
   "metadata": {},
   "source": [
    "Let's have a look at product names of each brand."
   ]
  },
  {
   "cell_type": "code",
   "execution_count": 36,
   "metadata": {},
   "outputs": [
    {
     "data": {
      "text/html": [
       "<div>\n",
       "<style scoped>\n",
       "    .dataframe tbody tr th:only-of-type {\n",
       "        vertical-align: middle;\n",
       "    }\n",
       "\n",
       "    .dataframe tbody tr th {\n",
       "        vertical-align: top;\n",
       "    }\n",
       "\n",
       "    .dataframe thead th {\n",
       "        text-align: right;\n",
       "    }\n",
       "</style>\n",
       "<table border=\"1\" class=\"dataframe\">\n",
       "  <thead>\n",
       "    <tr style=\"text-align: right;\">\n",
       "      <th></th>\n",
       "      <th>brand</th>\n",
       "      <th>prod_name</th>\n",
       "    </tr>\n",
       "  </thead>\n",
       "  <tbody>\n",
       "    <tr>\n",
       "      <th>0</th>\n",
       "      <td>Burger Rings</td>\n",
       "      <td>Burger Rings</td>\n",
       "    </tr>\n",
       "    <tr>\n",
       "      <th>1</th>\n",
       "      <td>CCs</td>\n",
       "      <td>CCs Original; CCs Tasty Cheese; CCs Nacho Cheese</td>\n",
       "    </tr>\n",
       "    <tr>\n",
       "      <th>2</th>\n",
       "      <td>Cheetos</td>\n",
       "      <td>Cheetos Chs &amp; Bacon Balls; Cheetos Puffs</td>\n",
       "    </tr>\n",
       "    <tr>\n",
       "      <th>3</th>\n",
       "      <td>Cheezels</td>\n",
       "      <td>Cheezels Cheese; Cheezels Cheese Box</td>\n",
       "    </tr>\n",
       "    <tr>\n",
       "      <th>4</th>\n",
       "      <td>Cobs</td>\n",
       "      <td>Cobs Popd Swt/Chlli &amp;Sr/Cream Chips; Cobs Popd Sea Salt Chips; Cobs Popd Sour Crm &amp;Chives Chips</td>\n",
       "    </tr>\n",
       "    <tr>\n",
       "      <th>5</th>\n",
       "      <td>Doritos</td>\n",
       "      <td>Doritos Corn Chips Original; Doritos Corn Chip Southern Chicken; Doritos Mexicana; Doritos Corn Chips Nacho Cheese; Doritos Corn Chips Cheese Supreme; Dorito Corn Chp Supreme; Doritos Salsa Mild; Doritos Cheese Supreme; Doritos Corn Chip Mexican Jalapeno; Doritos Salsa Medium</td>\n",
       "    </tr>\n",
       "    <tr>\n",
       "      <th>6</th>\n",
       "      <td>French Fries</td>\n",
       "      <td>French Fries Potato Chips</td>\n",
       "    </tr>\n",
       "    <tr>\n",
       "      <th>7</th>\n",
       "      <td>Infuzions</td>\n",
       "      <td>Infuzions Mango Chutny Papadums; Infuzions SourCream&amp;Herbs Veg Strws; Infuzions BBQ Rib Prawn Crackers; Infuzions Thai SweetChili PotatoMix; Infzns Crn Crnchers Tangy Gcamole</td>\n",
       "    </tr>\n",
       "    <tr>\n",
       "      <th>8</th>\n",
       "      <td>Kettle</td>\n",
       "      <td>Kettle Tortilla ChpsBtroot&amp;Ricotta; Kettle Honey Soy Chicken; Kettle Original; Kettle Sensations Camembert &amp; Fig; Kettle Sea Salt And Vinegar; Kettle Sensations Siracha Lime; Kettle Sweet Chilli And Sour Cream; Kettle Mozzarella Basil &amp; Pesto; Kettle Sensations BBQ&amp;Maple; Kettle Tortilla ChpsFeta&amp;Garlic; Kettle Chilli; Kettle Swt Pot Sea Salt; Kettle Tortilla ChpsHny&amp;Jlpno Chili</td>\n",
       "    </tr>\n",
       "    <tr>\n",
       "      <th>9</th>\n",
       "      <td>Natural Chip Co</td>\n",
       "      <td>Natural ChipCo Sea Salt &amp; Vinegr; Natural Chip Compny SeaSalt; NCC Sour Cream &amp; Garden Chives; Natural Chip Co Tmato Hrb&amp;Spce; Natural ChipCo Hony Soy Chckn</td>\n",
       "    </tr>\n",
       "    <tr>\n",
       "      <th>10</th>\n",
       "      <td>Old El Paso</td>\n",
       "      <td>Old El Paso Salsa Dip Tomato Mild; Old El Paso Salsa Dip Tomato Med; Old El Paso Salsa Dip Chnky Tom Ht</td>\n",
       "    </tr>\n",
       "    <tr>\n",
       "      <th>11</th>\n",
       "      <td>Pringles</td>\n",
       "      <td>Pringles Slt Vingar; Pringles Barbeque; Pringles Chicken Salt Crips; Pringles Original Crisps; Pringles SourCream Onion; Pringles Sthrn FriedChicken; Pringles Mystery Flavour; Pringles Sweet&amp;Spcy BBQ</td>\n",
       "    </tr>\n",
       "    <tr>\n",
       "      <th>12</th>\n",
       "      <td>Red Rock Deli</td>\n",
       "      <td>Red Rock Deli Chikn&amp;Garlic Aioli; RRD Honey Soy Chicken; Red Rock Deli Sp Salt &amp; Truffle; RRD Steak &amp; Chimuchurri; RRD Salt &amp; Vinegar; RRD Chilli&amp; Coconut; RRD Lime &amp; Pepper; RRD Pc Sea Salt; RRD Sweet Chilli &amp; Sour Cream; RRD SR Slow Rst Pork Belly; Red Rock Deli Thai Chilli&amp;Lime; Red Rock Deli SR Salsa &amp; Mzzrlla</td>\n",
       "    </tr>\n",
       "    <tr>\n",
       "      <th>13</th>\n",
       "      <td>Smiths</td>\n",
       "      <td>Smiths Crinkle Cut Chips Chicken; Smiths Thinly Cut Roast Chicken; Smiths Crinkle Cut Tomato Salsa; Smiths Crinkle Cut Salt &amp; Vinegar; Smiths Crinkle Original; Smiths Chip Thinly S/Cream&amp;Onion; Smiths Crnkle Chip Orgnl Big Bag; Smiths Chip Thinly CutSalt/Vinegr; Smiths Crinkle Cut French OnionDip; Smiths Crinkle Cut Snag&amp;Sauce; Smiths Crinkle Cut Chips Original; Smiths Crinkle Cut Chips Chs&amp;Onion; Smiths Crinkle Cut Chips Barbecue; Smith Crinkle Cut Mac N Cheese; Smiths Thinly Swt Chli&amp;S/Cream; Smiths Crinkle Chips Salt &amp; Vinegar; Smiths Chip Thinly Cut Original; Smith Crinkle Cut Bolognese</td>\n",
       "    </tr>\n",
       "    <tr>\n",
       "      <th>14</th>\n",
       "      <td>Sunbites</td>\n",
       "      <td>Snbts Whlgrn Crisps Cheddr&amp;Mstrd; Sunbites Whlegrn Crisps Frch/Onin; Grain Waves Sweet Chilli; GrnWves Plus Btroot &amp; Chilli Jam; Grain Waves Sour Cream&amp;Chives</td>\n",
       "    </tr>\n",
       "    <tr>\n",
       "      <th>15</th>\n",
       "      <td>Thins</td>\n",
       "      <td>Thins Chips Seasonedchicken; Thins Chips Salt &amp; Vinegar; Thins Chips Originl saltd; Thins Potato Chips Hot &amp; Spicy; Thins Chips Light&amp; Tangy</td>\n",
       "    </tr>\n",
       "    <tr>\n",
       "      <th>16</th>\n",
       "      <td>Tostitos</td>\n",
       "      <td>Tostitos Lightly Salted; Tostitos Smoked Chipotle; Tostitos Splash Of Lime</td>\n",
       "    </tr>\n",
       "    <tr>\n",
       "      <th>17</th>\n",
       "      <td>Twisties</td>\n",
       "      <td>Twisties Cheese; Twisties Cheese Burger; Twisties Chicken</td>\n",
       "    </tr>\n",
       "    <tr>\n",
       "      <th>18</th>\n",
       "      <td>Tyrrells</td>\n",
       "      <td>Tyrrells Crisps Lightly Salted; Tyrrells Crisps Ched &amp; Chives</td>\n",
       "    </tr>\n",
       "    <tr>\n",
       "      <th>19</th>\n",
       "      <td>Woolworths</td>\n",
       "      <td>WW Original Stacked Chips; WW Supreme Cheese Corn Chips; WW Original Corn Chips; Woolworths Cheese Rings; WW Sour Cream &amp;OnionStacked Chips; WW Crinkle Cut Chicken; WW Crinkle Cut Original; Woolworths Medium Salsa; Woolworths Mild Salsa; WW D/Style Chip Sea Salt</td>\n",
       "    </tr>\n",
       "  </tbody>\n",
       "</table>\n",
       "</div>"
      ],
      "text/plain": [
       "              brand  \\\n",
       "0      Burger Rings   \n",
       "1               CCs   \n",
       "2           Cheetos   \n",
       "3          Cheezels   \n",
       "4              Cobs   \n",
       "5           Doritos   \n",
       "6      French Fries   \n",
       "7         Infuzions   \n",
       "8            Kettle   \n",
       "9   Natural Chip Co   \n",
       "10      Old El Paso   \n",
       "11         Pringles   \n",
       "12    Red Rock Deli   \n",
       "13           Smiths   \n",
       "14         Sunbites   \n",
       "15            Thins   \n",
       "16         Tostitos   \n",
       "17         Twisties   \n",
       "18         Tyrrells   \n",
       "19       Woolworths   \n",
       "\n",
       "                                                                                                                                                                                                                                                                                                                                                                                                                                                                                                                                                                                                                prod_name  \n",
       "0                                                                                                                                                                                                                                                                                                                                                                                                                                                                                                                                                                                                            Burger Rings  \n",
       "1                                                                                                                                                                                                                                                                                                                                                                                                                                                                                                                                                                        CCs Original; CCs Tasty Cheese; CCs Nacho Cheese  \n",
       "2                                                                                                                                                                                                                                                                                                                                                                                                                                                                                                                                                                                Cheetos Chs & Bacon Balls; Cheetos Puffs  \n",
       "3                                                                                                                                                                                                                                                                                                                                                                                                                                                                                                                                                                                    Cheezels Cheese; Cheezels Cheese Box  \n",
       "4                                                                                                                                                                                                                                                                                                                                                                                                                                                                                                                         Cobs Popd Swt/Chlli &Sr/Cream Chips; Cobs Popd Sea Salt Chips; Cobs Popd Sour Crm &Chives Chips  \n",
       "5                                                                                                                                                                                                                                                                                                                                    Doritos Corn Chips Original; Doritos Corn Chip Southern Chicken; Doritos Mexicana; Doritos Corn Chips Nacho Cheese; Doritos Corn Chips Cheese Supreme; Dorito Corn Chp Supreme; Doritos Salsa Mild; Doritos Cheese Supreme; Doritos Corn Chip Mexican Jalapeno; Doritos Salsa Medium  \n",
       "6                                                                                                                                                                                                                                                                                                                                                                                                                                                                                                                                                                                               French Fries Potato Chips  \n",
       "7                                                                                                                                                                                                                                                                                                                                                                                                                                          Infuzions Mango Chutny Papadums; Infuzions SourCream&Herbs Veg Strws; Infuzions BBQ Rib Prawn Crackers; Infuzions Thai SweetChili PotatoMix; Infzns Crn Crnchers Tangy Gcamole  \n",
       "8                                                                                                                                                                                                                           Kettle Tortilla ChpsBtroot&Ricotta; Kettle Honey Soy Chicken; Kettle Original; Kettle Sensations Camembert & Fig; Kettle Sea Salt And Vinegar; Kettle Sensations Siracha Lime; Kettle Sweet Chilli And Sour Cream; Kettle Mozzarella Basil & Pesto; Kettle Sensations BBQ&Maple; Kettle Tortilla ChpsFeta&Garlic; Kettle Chilli; Kettle Swt Pot Sea Salt; Kettle Tortilla ChpsHny&Jlpno Chili  \n",
       "9                                                                                                                                                                                                                                                                                                                                                                                                                                                            Natural ChipCo Sea Salt & Vinegr; Natural Chip Compny SeaSalt; NCC Sour Cream & Garden Chives; Natural Chip Co Tmato Hrb&Spce; Natural ChipCo Hony Soy Chckn  \n",
       "10                                                                                                                                                                                                                                                                                                                                                                                                                                                                                                                Old El Paso Salsa Dip Tomato Mild; Old El Paso Salsa Dip Tomato Med; Old El Paso Salsa Dip Chnky Tom Ht  \n",
       "11                                                                                                                                                                                                                                                                                                                                                                                                                Pringles Slt Vingar; Pringles Barbeque; Pringles Chicken Salt Crips; Pringles Original Crisps; Pringles SourCream Onion; Pringles Sthrn FriedChicken; Pringles Mystery Flavour; Pringles Sweet&Spcy BBQ  \n",
       "12                                                                                                                                                                                                                                                                                            Red Rock Deli Chikn&Garlic Aioli; RRD Honey Soy Chicken; Red Rock Deli Sp Salt & Truffle; RRD Steak & Chimuchurri; RRD Salt & Vinegar; RRD Chilli& Coconut; RRD Lime & Pepper; RRD Pc Sea Salt; RRD Sweet Chilli & Sour Cream; RRD SR Slow Rst Pork Belly; Red Rock Deli Thai Chilli&Lime; Red Rock Deli SR Salsa & Mzzrlla  \n",
       "13  Smiths Crinkle Cut Chips Chicken; Smiths Thinly Cut Roast Chicken; Smiths Crinkle Cut Tomato Salsa; Smiths Crinkle Cut Salt & Vinegar; Smiths Crinkle Original; Smiths Chip Thinly S/Cream&Onion; Smiths Crnkle Chip Orgnl Big Bag; Smiths Chip Thinly CutSalt/Vinegr; Smiths Crinkle Cut French OnionDip; Smiths Crinkle Cut Snag&Sauce; Smiths Crinkle Cut Chips Original; Smiths Crinkle Cut Chips Chs&Onion; Smiths Crinkle Cut Chips Barbecue; Smith Crinkle Cut Mac N Cheese; Smiths Thinly Swt Chli&S/Cream; Smiths Crinkle Chips Salt & Vinegar; Smiths Chip Thinly Cut Original; Smith Crinkle Cut Bolognese  \n",
       "14                                                                                                                                                                                                                                                                                                                                                                                                                                                         Snbts Whlgrn Crisps Cheddr&Mstrd; Sunbites Whlegrn Crisps Frch/Onin; Grain Waves Sweet Chilli; GrnWves Plus Btroot & Chilli Jam; Grain Waves Sour Cream&Chives  \n",
       "15                                                                                                                                                                                                                                                                                                                                                                                                                                                                           Thins Chips Seasonedchicken; Thins Chips Salt & Vinegar; Thins Chips Originl saltd; Thins Potato Chips Hot & Spicy; Thins Chips Light& Tangy  \n",
       "16                                                                                                                                                                                                                                                                                                                                                                                                                                                                                                                                             Tostitos Lightly Salted; Tostitos Smoked Chipotle; Tostitos Splash Of Lime  \n",
       "17                                                                                                                                                                                                                                                                                                                                                                                                                                                                                                                                                              Twisties Cheese; Twisties Cheese Burger; Twisties Chicken  \n",
       "18                                                                                                                                                                                                                                                                                                                                                                                                                                                                                                                                                          Tyrrells Crisps Lightly Salted; Tyrrells Crisps Ched & Chives  \n",
       "19                                                                                                                                                                                                                                                                                                                                                 WW Original Stacked Chips; WW Supreme Cheese Corn Chips; WW Original Corn Chips; Woolworths Cheese Rings; WW Sour Cream &OnionStacked Chips; WW Crinkle Cut Chicken; WW Crinkle Cut Original; Woolworths Medium Salsa; Woolworths Mild Salsa; WW D/Style Chip Sea Salt  "
      ]
     },
     "execution_count": 36,
     "metadata": {},
     "output_type": "execute_result"
    }
   ],
   "source": [
    "# Display full data\n",
    "pd.set_option('display.max_colwidth', None)\n",
    "\n",
    "# Group product names by brands\n",
    "trans[['brand', 'prod_name']].groupby('brand').agg(lambda x: '; '.join(set(x))).reset_index()"
   ]
  },
  {
   "cell_type": "markdown",
   "metadata": {},
   "source": [
    "Product name data are quite messy and I can't think of an optimal way to clean this kind of text. So I decide to create another dictionary of product names (only messy ones) to replace current values."
   ]
  },
  {
   "cell_type": "code",
   "execution_count": 37,
   "metadata": {},
   "outputs": [],
   "source": [
    "# Create product name dictionary\n",
    "prod_name_dict = {'Cheetos Chs & Bacon Balls':'Cheetos Cheese & Bacon Balls',\n",
    "                  'Cobs Popd Swt/Chlli &Sr/Cream Chips':'Cobs Popd Sweet Chili & Sour Cream Chips',\n",
    "                  'Cobs Popd Sour Crm &Chives Chips':'Cobs Popd Sour Cream & Chives Chips',\n",
    "                  'Dorito Corn Chp Supreme':'Doritos Corn Chips Supreme',\n",
    "                  'Doritos Corn Chip Mexican Jalapeno':'Doritos Corn Chips Mexican Jalapeno',\n",
    "                  'Doritos Corn Chip Southern Chicken':'Doritos Corn Chips Southern Chicken',\n",
    "                  'Infuzions SourCream&Herbs Veg Strws':'Infuzions Sour Cream & Herb Veggie Straws',\n",
    "                  'Infuzions Mango Chutny Papadums':'Infuzions Mango Chutney Papadams',\n",
    "                  'Infuzions Thai SweetChili PotatoMix':'Infuzions Thai Sweet Chili Potato Mix',\n",
    "                  'Infzns Crn Crnchers Tangy Gcamole':'Infuzions Corn Crunchers Tangy Guacamole',\n",
    "                  'Kettle Tortilla ChpsBtroot&Ricotta':'Kettle Tortilla Chips Beetroot & Ricotta',\n",
    "                  'Kettle Tortilla ChpsFeta&Garlic':'Kettle Tortilla Chips Feta & Garlic',\n",
    "                  'Kettle Tortilla ChpsHny&Jlpno Chili':'Kettle Tortilla Chips Honey & Jalapeno Chili',\n",
    "                  'Kettle Sensations BBQ&Maple':'Kettle Sensations BBQ Maple',\n",
    "                  'Kettle Swt Pot Sea Salt':'Kettle Sweet Pot Sea Salt',\n",
    "                  'Natural Chip Compny SeaSalt':'Natural Chip Co Sea Salt',\n",
    "                  'Natural ChipCo Hony Soy Chckn':'Natural Chip Co Honey Soy Chicken',\n",
    "                  'NCC Sour Cream & Garden Chives':'Natural Chip Co Sour Cream & Garden Chives',\n",
    "                  'Natural ChipCo Sea Salt & Vinegr':'Natural Chip Co Sea Salt & Vinegar',\n",
    "                  'Natural Chip Co Tmato Hrb&Spce':'Natural Chip Co Tomato Herbs & Spices',\n",
    "                  'Pringles Sthrn FriedChicken':'Pringles Southern Fried Chicken',\n",
    "                  'Pringles Barbeque':'Pringles BBQ',\n",
    "                  'Pringles SourCream Onion':'Pringles Sour Cream Onion',\n",
    "                  'Pringles Chicken Salt Crips':'Pringles Chicken Salt Chips',\n",
    "                  'Pringles Slt Vingar':'Pringles Salt Vinegar',\n",
    "                  'Pringles Sweet&Spcy BBQ':'Pringles Sweet & Spicy BBQ',\n",
    "                  'RRD Honey Soy Chicken':'Red Rock Deli Honey Soy Chicken',\n",
    "                  'Red Rock Deli SR Salsa & Mzzrlla':'Red Rock Deli Salsa & Mozzarella',\n",
    "                  'RRD Lime & Pepper':'Red Rock Deli Lime & Pepper',\n",
    "                  'Red Rock Deli Chikn&Garlic Aioli':'Red Rock Deli Chicken & Garlic Aioli',\n",
    "                  'Red Rock Deli Sp Salt & Truffle':'Red Rock Deli Sea Salt & Truffle',\n",
    "                  'RRD Salt & Vinegar':'Red Rock Deli Sea Salt & Vinegar',\n",
    "                  'RRD Sweet Chilli & Sour Cream':'Red Rock Deli Sweet Chilli & Sour Cream',\n",
    "                  'RRD Pc Sea Salt':'Red Rock Deli Sea Salt',\n",
    "                  'Red Rock Deli Thai Chilli&Lime':'Red Rock Deli Thai Chilli & Lime',\n",
    "                  'RRD SR Slow Rst Pork Belly':'Red Rock Deli Slow Roast Pork Belly',\n",
    "                  'RRD Steak & Chimuchurri':'Red Rock Deli Steak & Chimuchurri',\n",
    "                  'RRD Chilli& Coconut':'Red Rock Deli Chilli & Coconut',\n",
    "                  'Smith Crinkle Cut Bolognese':'Smiths Crinkle Cut Bolognese',\n",
    "                  'Smiths Crinkle Cut French OnionDip':'Smiths Crinkle Cut French Onion Dip',\n",
    "                  'Smiths Crinkle Cut Chips Barbecue':'Smiths Crinkle Cut Chips BBQ',\n",
    "                  'Smiths Thinly Swt Chli&S/Cream':'Smiths Thinly Sweet Chili & Sour Cream',\n",
    "                  'Smiths Crinkle Cut Chips Chs&Onion':'Smiths Crinkle Cut Chips Cheese & Onion',\n",
    "                  'Smiths Crnkle Chip Orgnl Big Bag':'Smiths Crinkle Chips Original Big Bag',\n",
    "                  'Smiths Chip Thinly CutSalt/Vinegr':'Smiths Chips Thinly Cut Salt Vinegar',\n",
    "                  'Smiths Crinkle Cut Snag&Sauce':'Smiths Crinkle Cut Snag & Sauce',\n",
    "                  'Smith Crinkle Cut Mac N Cheese':'Smiths Crinkle Cut Mac N Cheese',\n",
    "                  'Smiths Chip Thinly S/Cream&Onion':'Smiths Chips Thinly Sour Cream & Onion',\n",
    "                  'Smiths Chip Thinly Cut Original':'Smiths Chips Thinly Cut Original',\n",
    "                  'Snbts Whlgrn Crisps Cheddr&Mstrd':'Sunbites Wholegrain Crisps Cheddar & Mustard',\n",
    "                  'Sunbites Whlegrn Crisps Frch/Onin':'Sunbites Wholegrain Crisps French Onion',\n",
    "                  'GrnWves Plus Btroot & Chilli Jam':'Sunbites Grain Waves Plus Beetroot & Chilli Jam',\n",
    "                  'Grain Waves Sweet Chilli':'Sunbites Grain Waves Sweet Chilli',\n",
    "                  'Grain Waves Sour Cream&Chives':'Sunbites Grain Waves Sour Cream & Chives',\n",
    "                  'Thins Chips Light& Tangy':'Thins Chips Light & Tangy',\n",
    "                  'Thins Chips Originl saltd':'Thins Chips Originl Salted',\n",
    "                  'Thins Chips Seasonedchicken':'Thins Chips Seasoned Chicken',\n",
    "                  'Tyrrells Crisps Ched & Chives':'Tyrrells Crisps Cheddar & Chives',\n",
    "                  'WW Sour Cream &OnionStacked Chip':'Woolworths Sour Cream & Onion Stacked Chips',\n",
    "                  'WW Crinkle Cut Original':'Woolworths Crinkle Cut Original',\n",
    "                  'WW Crinkle Cut Chicken':'Woolworths Crinkle Cut Chicken',\n",
    "                  'WW Original Stacked Chips':'Woolworths Original Stacked Chips',\n",
    "                  'WW Original Corn Chips':'Woolworths Original Corn Chips',\n",
    "                  'WW D/Style Chip Sea Salt':'Woolworths Deli Style Chips Sea Salt',\n",
    "                  'WW Supreme Cheese Corn Chips':'Woolworths Supreme Cheese Corn Chips'}"
   ]
  },
  {
   "cell_type": "code",
   "execution_count": 38,
   "metadata": {},
   "outputs": [],
   "source": [
    "# Correct prod_name with the dictionary\n",
    "trans['prod_name'] = trans['prod_name'].fillna(trans['prod_name'].map(prod_name_dict))"
   ]
  },
  {
   "cell_type": "markdown",
   "metadata": {},
   "source": [
    "We only care about chip products not salsa so I will remove the Old El Paso brand and its products. We also need to look at Tostitos brand and remove salsa product if needed. Then have a quick check if we still have salsa products in our data."
   ]
  },
  {
   "cell_type": "code",
   "execution_count": 39,
   "metadata": {},
   "outputs": [
    {
     "name": "stdout",
     "output_type": "stream",
     "text": [
      "Product names that have 'salsa':\n",
      "['Red Rock Deli Salsa & Mozzarella' 'Smiths Crinkle Cut Tomato Salsa'\n",
      " 'Doritos Salsa Medium' 'Woolworths Mild Salsa' 'Woolworths Medium Salsa'\n",
      " 'Doritos Salsa Mild']\n"
     ]
    }
   ],
   "source": [
    "# Remove Old El Paso brand\n",
    "trans = trans[(trans['brand'] != 'Old El Paso') &\n",
    "              (trans['prod_name'] != 'Tostitos Splash Of Lime')]\n",
    "\n",
    "# Print out product names that have \"salsa\"\n",
    "print(f\"Product names that have 'salsa':\\n{trans[trans['prod_name'].str.contains('Salsa', regex=False)]['prod_name'].unique()}\")"
   ]
  },
  {
   "cell_type": "markdown",
   "metadata": {},
   "source": [
    "Alright, we still have some of them to remove."
   ]
  },
  {
   "cell_type": "code",
   "execution_count": 40,
   "metadata": {},
   "outputs": [],
   "source": [
    "# Select data that have non-salsa products\n",
    "trans = trans[(trans['prod_name'] != 'Doritos Salsa Medium') &\n",
    "              (trans['prod_name'] != 'Woolworths Mild Salsa') &\n",
    "              (trans['prod_name'] != 'Woolworths Medium Salsa') &\n",
    "              (trans['prod_name'] != 'Doritos Salsa Mild')]"
   ]
  },
  {
   "cell_type": "code",
   "execution_count": 41,
   "metadata": {},
   "outputs": [
    {
     "data": {
      "text/html": [
       "<div>\n",
       "<style scoped>\n",
       "    .dataframe tbody tr th:only-of-type {\n",
       "        vertical-align: middle;\n",
       "    }\n",
       "\n",
       "    .dataframe tbody tr th {\n",
       "        vertical-align: top;\n",
       "    }\n",
       "\n",
       "    .dataframe thead th {\n",
       "        text-align: right;\n",
       "    }\n",
       "</style>\n",
       "<table border=\"1\" class=\"dataframe\">\n",
       "  <thead>\n",
       "    <tr style=\"text-align: right;\">\n",
       "      <th></th>\n",
       "      <th>date</th>\n",
       "      <th>store_nbr</th>\n",
       "      <th>card_nbr</th>\n",
       "      <th>txn_id</th>\n",
       "      <th>prod_nbr</th>\n",
       "      <th>prod_name</th>\n",
       "      <th>prod_qty</th>\n",
       "      <th>tot_sales</th>\n",
       "      <th>prod_price</th>\n",
       "      <th>year</th>\n",
       "      <th>month</th>\n",
       "      <th>weekday</th>\n",
       "      <th>prod_size</th>\n",
       "      <th>brand</th>\n",
       "    </tr>\n",
       "  </thead>\n",
       "  <tbody>\n",
       "    <tr>\n",
       "      <th>90731</th>\n",
       "      <td>2018-08-08</td>\n",
       "      <td>143</td>\n",
       "      <td>143118</td>\n",
       "      <td>143485</td>\n",
       "      <td>9</td>\n",
       "      <td>Kettle Tortilla Chips Beetroot &amp; Ricotta</td>\n",
       "      <td>2</td>\n",
       "      <td>9.2</td>\n",
       "      <td>4.6</td>\n",
       "      <td>2018</td>\n",
       "      <td>8</td>\n",
       "      <td>Wednesday</td>\n",
       "      <td>150</td>\n",
       "      <td>Kettle</td>\n",
       "    </tr>\n",
       "    <tr>\n",
       "      <th>135332</th>\n",
       "      <td>2018-08-16</td>\n",
       "      <td>95</td>\n",
       "      <td>95317</td>\n",
       "      <td>95540</td>\n",
       "      <td>108</td>\n",
       "      <td>Kettle Tortilla Chips Honey &amp; Jalapeno Chili</td>\n",
       "      <td>1</td>\n",
       "      <td>4.6</td>\n",
       "      <td>4.6</td>\n",
       "      <td>2018</td>\n",
       "      <td>8</td>\n",
       "      <td>Thursday</td>\n",
       "      <td>150</td>\n",
       "      <td>Kettle</td>\n",
       "    </tr>\n",
       "    <tr>\n",
       "      <th>223193</th>\n",
       "      <td>2018-12-29</td>\n",
       "      <td>137</td>\n",
       "      <td>137226</td>\n",
       "      <td>140265</td>\n",
       "      <td>102</td>\n",
       "      <td>Kettle Mozzarella Basil &amp; Pesto</td>\n",
       "      <td>2</td>\n",
       "      <td>10.8</td>\n",
       "      <td>5.4</td>\n",
       "      <td>2018</td>\n",
       "      <td>12</td>\n",
       "      <td>Saturday</td>\n",
       "      <td>175</td>\n",
       "      <td>Kettle</td>\n",
       "    </tr>\n",
       "    <tr>\n",
       "      <th>170706</th>\n",
       "      <td>2018-10-27</td>\n",
       "      <td>257</td>\n",
       "      <td>257064</td>\n",
       "      <td>256119</td>\n",
       "      <td>69</td>\n",
       "      <td>Smiths Chips Thinly Sour Cream &amp; Onion</td>\n",
       "      <td>2</td>\n",
       "      <td>6.0</td>\n",
       "      <td>3.0</td>\n",
       "      <td>2018</td>\n",
       "      <td>10</td>\n",
       "      <td>Saturday</td>\n",
       "      <td>175</td>\n",
       "      <td>Smiths</td>\n",
       "    </tr>\n",
       "    <tr>\n",
       "      <th>15697</th>\n",
       "      <td>2018-11-28</td>\n",
       "      <td>237</td>\n",
       "      <td>237148</td>\n",
       "      <td>240744</td>\n",
       "      <td>7</td>\n",
       "      <td>Smiths Crinkle Original</td>\n",
       "      <td>2</td>\n",
       "      <td>11.4</td>\n",
       "      <td>5.7</td>\n",
       "      <td>2018</td>\n",
       "      <td>11</td>\n",
       "      <td>Wednesday</td>\n",
       "      <td>330</td>\n",
       "      <td>Smiths</td>\n",
       "    </tr>\n",
       "  </tbody>\n",
       "</table>\n",
       "</div>"
      ],
      "text/plain": [
       "             date store_nbr card_nbr  txn_id prod_nbr  \\\n",
       "90731  2018-08-08       143   143118  143485        9   \n",
       "135332 2018-08-16        95    95317   95540      108   \n",
       "223193 2018-12-29       137   137226  140265      102   \n",
       "170706 2018-10-27       257   257064  256119       69   \n",
       "15697  2018-11-28       237   237148  240744        7   \n",
       "\n",
       "                                           prod_name  prod_qty  tot_sales  \\\n",
       "90731       Kettle Tortilla Chips Beetroot & Ricotta         2        9.2   \n",
       "135332  Kettle Tortilla Chips Honey & Jalapeno Chili         1        4.6   \n",
       "223193               Kettle Mozzarella Basil & Pesto         2       10.8   \n",
       "170706        Smiths Chips Thinly Sour Cream & Onion         2        6.0   \n",
       "15697                        Smiths Crinkle Original         2       11.4   \n",
       "\n",
       "        prod_price  year  month    weekday  prod_size   brand  \n",
       "90731          4.6  2018      8  Wednesday        150  Kettle  \n",
       "135332         4.6  2018      8   Thursday        150  Kettle  \n",
       "223193         5.4  2018     12   Saturday        175  Kettle  \n",
       "170706         3.0  2018     10   Saturday        175  Smiths  \n",
       "15697          5.7  2018     11  Wednesday        330  Smiths  "
      ]
     },
     "execution_count": 41,
     "metadata": {},
     "output_type": "execute_result"
    }
   ],
   "source": [
    "# Print out data sample\n",
    "trans.sample(5)"
   ]
  },
  {
   "cell_type": "code",
   "execution_count": 42,
   "metadata": {},
   "outputs": [],
   "source": [
    "trans.to_csv('trans', index=False)"
   ]
  },
  {
   "cell_type": "markdown",
   "metadata": {},
   "source": [
    "## Transaction Data - Visualization"
   ]
  },
  {
   "cell_type": "markdown",
   "metadata": {},
   "source": [
    "In this part, we will have some visualization of the transaction data. First, let's see the distribution of total sales, product price, product size, and product quantity."
   ]
  },
  {
   "cell_type": "code",
   "execution_count": 43,
   "metadata": {},
   "outputs": [
    {
     "data": {
      "image/png": "[encoded data removed]",
      "text/plain": [
       "<Figure size 720x576 with 4 Axes>"
      ]
     },
     "metadata": {
      "needs_background": "light"
     },
     "output_type": "display_data"
    }
   ],
   "source": [
    "# Create lists of numerical variables and their names\n",
    "num_col = ['tot_sales', 'prod_price', 'prod_size', 'prod_qty']\n",
    "num_name = ['Total sales', 'Product price', 'Product size', 'Product quantity']\n",
    "\n",
    "# Loop through 4 graphs\n",
    "fig, axes = plt.subplots(2,2, figsize=(10,8))\n",
    "for i,ax in enumerate(axes.flatten()):\n",
    "    trans[num_col[i]].plot.hist(title=(num_name[i] + ' distribution'),\n",
    "                                ax=ax)\n",
    "    ax.set_ylabel(None)   \n",
    "plt.tight_layout()"
   ]
  },
  {
   "cell_type": "markdown",
   "metadata": {},
   "source": [
    "It's worth mentioning that these data are from observations per transation per product. To get the distribution of data per transaction, we need to aggregate these data by transaction id."
   ]
  },
  {
   "cell_type": "code",
   "execution_count": 44,
   "metadata": {},
   "outputs": [
    {
     "data": {
      "image/png": "[encoded data removed]",
      "text/plain": [
       "<Figure size 720x576 with 4 Axes>"
      ]
     },
     "metadata": {
      "needs_background": "light"
     },
     "output_type": "display_data"
    }
   ],
   "source": [
    "# Draw four agrregated graphs separately\n",
    "fig, axes = plt.subplots(2,2, figsize=(10,8))\n",
    "trans.pivot_table(index='txn_id',\n",
    "                  values='tot_sales',\n",
    "                  aggfunc='sum').plot.hist(ax=axes[0,0],\n",
    "                                           title='Total Sales per transaction Distribution',\n",
    "                                           legend=None)\n",
    "trans.pivot_table(index='txn_id',\n",
    "                  values='prod_price',\n",
    "                  aggfunc='mean').plot.hist(ax=axes[0,1],\n",
    "                                            title='Average Product Price per transaction Distribution',\n",
    "                                            legend=None)\n",
    "trans.pivot_table(index='txn_id',\n",
    "                  values='prod_size',\n",
    "                  aggfunc='mean').plot.hist(ax=axes[1,0],\n",
    "                                            title='Average Product Size per transaction Distribution',\n",
    "                                            legend=None)\n",
    "trans.pivot_table(index='txn_id',\n",
    "                  values='prod_qty',\n",
    "                  aggfunc='sum').plot.hist(ax=axes[1,1],\n",
    "                                           title='Total Product Quantities per transaction Distribution',\n",
    "                                           legend=None)\n",
    "axes[0,0].set_ylabel(None)\n",
    "axes[0,1].set_ylabel(None)\n",
    "axes[1,0].set_ylabel(None)\n",
    "axes[1,1].set_ylabel(None)\n",
    "plt.tight_layout()"
   ]
  },
  {
   "cell_type": "markdown",
   "metadata": {},
   "source": [
    "We can see that:\n",
    "- Most customers spend around 10 dollars, more or less, for a transaction.\n",
    "- A bag of chips has a cost, on average in each transaction, from 3 to 4 dollars.\n",
    "- In each transaction, a bag of chips has a size, on average, of 150g to 200g.\n",
    "- Most customers buy two bags of chips per transaction.\n",
    "\n",
    "Next, we will analyse total sales by different variables."
   ]
  },
  {
   "cell_type": "markdown",
   "metadata": {},
   "source": [
    "### Total Sales and number of Transactions"
   ]
  },
  {
   "cell_type": "markdown",
   "metadata": {},
   "source": [
    "**Total sales and transactions over time**"
   ]
  },
  {
   "cell_type": "markdown",
   "metadata": {},
   "source": [
    "I would like to know the total sales and number of transactions over time."
   ]
  },
  {
   "cell_type": "code",
   "execution_count": 45,
   "metadata": {},
   "outputs": [
    {
     "data": {
      "image/png": "[encoded data removed]",
      "text/plain": [
       "<Figure size 864x432 with 2 Axes>"
      ]
     },
     "metadata": {
      "needs_background": "light"
     },
     "output_type": "display_data"
    }
   ],
   "source": [
    "fig, axes = plt.subplots(2,1, figsize=(12,6))\n",
    "\n",
    "# Total sales by date\n",
    "trans.pivot_table(index='date',\n",
    "                  values='tot_sales',\n",
    "                  aggfunc='sum').plot(ax=axes[0],\n",
    "                                      title='Total Sales',\n",
    "                                      legend=None,\n",
    "                                      color='cornflowerblue')\n",
    "\n",
    "# Total transactions by date\n",
    "trans.pivot_table(index='date',\n",
    "                  values='txn_id',\n",
    "                  aggfunc=lambda x: x.nunique()).plot(ax=axes[1],\n",
    "                                                      title='Total Transactions',\n",
    "                                                      legend=None,\n",
    "                                                      color='salmon',\n",
    "                                                      sharex=True)\n",
    "\n",
    "plt.xlabel('Period')\n",
    "plt.show()"
   ]
  },
  {
   "cell_type": "markdown",
   "metadata": {},
   "source": [
    "We can easily see that the peak for both sales and transactions was in Christmas season, from mid to the end of December 2018. There were two low sales periods: August 2018 and May 2019 even though the number of transcations respectively did not change much. My guess is that these are sale/discount periods offered by the company. But we should go check with the marketing team for more information.\n",
    "\n",
    "Next, let's see if there's any buying trend by weekdays."
   ]
  },
  {
   "cell_type": "code",
   "execution_count": 46,
   "metadata": {},
   "outputs": [
    {
     "data": {
      "image/png": "[encoded data removed]",
      "text/plain": [
       "<Figure size 720x360 with 1 Axes>"
      ]
     },
     "metadata": {
      "needs_background": "light"
     },
     "output_type": "display_data"
    }
   ],
   "source": [
    "# Draw a count plot of total transactions by weekdays\n",
    "weekday_order = ['Monday', 'Tuesday', 'Wednesday', 'Thursday',\n",
    "                 'Friday', 'Saturday', 'Sunday']\n",
    "\n",
    "trans_by_weekday = trans.pivot_table(index='weekday',\n",
    "                                     values='txn_id',\n",
    "                                     aggfunc=lambda x: x.nunique())\n",
    "\n",
    "trans_by_weekday.loc[weekday_order].plot.bar(figsize=(10,5),\n",
    "                                             color='salmon',\n",
    "                                             legend=None)\n",
    "\n",
    "plt.title('Total transactions by Weekday', fontsize=16)\n",
    "plt.xlabel('Weekday')\n",
    "plt.ylabel('Total Transactions')\n",
    "plt.show()"
   ]
  },
  {
   "cell_type": "markdown",
   "metadata": {},
   "source": [
    "Friday and Sunday have the highest number of transactions. However, the difference in number of transactions among weekdays is not significant."
   ]
  },
  {
   "cell_type": "markdown",
   "metadata": {},
   "source": [
    "**Total Sales by Store Number**"
   ]
  },
  {
   "cell_type": "markdown",
   "metadata": {},
   "source": [
    "Now, let's see which stores have the highest sales over time."
   ]
  },
  {
   "cell_type": "code",
   "execution_count": 47,
   "metadata": {},
   "outputs": [],
   "source": [
    "# Aggregate total sales by store number and time\n",
    "sales_by_store = trans.pivot_table(index=['year', 'month'], columns=['store_nbr'],\n",
    "                                   values='tot_sales', aggfunc='sum')"
   ]
  },
  {
   "cell_type": "code",
   "execution_count": 48,
   "metadata": {},
   "outputs": [
    {
     "data": {
      "image/png": "[encoded data removed]",
      "text/plain": [
       "<Figure size 864x576 with 12 Axes>"
      ]
     },
     "metadata": {
      "needs_background": "light"
     },
     "output_type": "display_data"
    }
   ],
   "source": [
    "# Draw graphs of top five stores over time\n",
    "period = sales_by_store.index.tolist()\n",
    "fig, axes = plt.subplots(4, 3, figsize=(12,8), sharex=True)\n",
    "fig.suptitle('Top five stores with highest total sales from July 2018 to June 2019', fontsize=16)\n",
    "fig.text(0.5, -0.01, 'Total Sales', ha='center')\n",
    "fig.text(-0.01, 0.5, 'Store Number', va='center', rotation='vertical')\n",
    "\n",
    "for i, ax in enumerate(axes.flatten()):\n",
    "    sales_by_store.iloc[i].nlargest(5).sort_values().plot.barh( \\\n",
    "        title=(str(period[i][0]) + '-' + str(period[i][1])),\n",
    "        color='cornflowerblue', ax=ax)\n",
    "    ax.set_ylabel(None)\n",
    "       \n",
    "plt.tight_layout(pad=3)"
   ]
  },
  {
   "cell_type": "markdown",
   "metadata": {},
   "source": [
    "Store 226 had the highest sales in 6 months and in 2 consecutive rows: Oct 2018 to Dec 2018 and Apr 2019 to Jun 2019. We can also see that the top five has repeated store numbers over time."
   ]
  },
  {
   "cell_type": "markdown",
   "metadata": {},
   "source": [
    "**Total Sales by brand**"
   ]
  },
  {
   "cell_type": "markdown",
   "metadata": {},
   "source": [
    "Which brand had the highest sales?"
   ]
  },
  {
   "cell_type": "code",
   "execution_count": 49,
   "metadata": {
    "scrolled": false
   },
   "outputs": [
    {
     "data": {
      "image/png": "[encoded data removed]",
      "text/plain": [
       "<Figure size 864x576 with 2 Axes>"
      ]
     },
     "metadata": {
      "needs_background": "light"
     },
     "output_type": "display_data"
    }
   ],
   "source": [
    "# Draw heatmap of total sales by brand and time\n",
    "sales_by_brand = trans.pivot_table(columns=['year', 'month'],\n",
    "                                   index='brand',\n",
    "                                   values='tot_sales',\n",
    "                                   aggfunc='sum')\n",
    "\n",
    "fig, ax = plt.subplots(figsize=(12,8))\n",
    "sns.heatmap(sales_by_brand,\n",
    "            cmap='Greys',\n",
    "            linewidths=.5,\n",
    "            ax=ax)\n",
    "\n",
    "plt.title('Compare total sales among brands', fontsize=16)\n",
    "plt.xlabel('Period')\n",
    "plt.ylabel('Brand')\n",
    "plt.tight_layout()"
   ]
  },
  {
   "cell_type": "markdown",
   "metadata": {},
   "source": [
    "Kettle is the dominant brand over time. Next we have Doritos, Smiths, and Pringles. Let's see which flavours of each these brands are the most popular."
   ]
  },
  {
   "cell_type": "markdown",
   "metadata": {},
   "source": [
    "### Popular flavours"
   ]
  },
  {
   "cell_type": "code",
   "execution_count": 50,
   "metadata": {},
   "outputs": [
    {
     "name": "stdout",
     "output_type": "stream",
     "text": [
      "Most popular flavour of Kettle: \tKettle Mozzarella Basil & Pesto\n",
      "Most popular flavour of Smiths: \tSmiths Crinkle Chips Original Big Bag\n",
      "Most popular flavour of Doritos: \tDoritos Corn Chips Cheese Supreme\n",
      "Most popular flavour of Pringles: \tPringles BBQ\n"
     ]
    }
   ],
   "source": [
    "# Loop over four brands\n",
    "for i in ['Kettle', 'Smiths', 'Doritos', 'Pringles']:\n",
    "    print('Most popular flavour of ' + str(i) +\n",
    "          f\": \\t{trans[trans['brand'] == i]['prod_name'].value_counts().idxmax()}\")"
   ]
  },
  {
   "cell_type": "markdown",
   "metadata": {},
   "source": [
    "Use word cloud to see which flavours are popular of all products."
   ]
  },
  {
   "cell_type": "code",
   "execution_count": 51,
   "metadata": {},
   "outputs": [
    {
     "data": {
      "image/png": "[encoded data removed]",
      "text/plain": [
       "<Figure size 720x360 with 1 Axes>"
      ]
     },
     "metadata": {
      "needs_background": "light"
     },
     "output_type": "display_data"
    }
   ],
   "source": [
    "from wordcloud import WordCloud, STOPWORDS\n",
    "text = ' '.join(trans['prod_name'])\n",
    "stopwords = list(STOPWORDS) + ' '.join(trans['brand'].unique()).split() + ['Chips']\n",
    "wc = WordCloud(stopwords=stopwords,\n",
    "               collocations=False,\n",
    "               background_color='white',\n",
    "               random_state=0).generate(text=text)\n",
    "plt.figure(figsize=(10,5))\n",
    "plt.imshow(wc, interpolation='bilinear')\n",
    "plt.axis(\"off\")\n",
    "plt.show()"
   ]
  },
  {
   "cell_type": "markdown",
   "metadata": {},
   "source": [
    "We have salt, cheese, and chicken are the most popular.<br>That's it for the transaction data. Let's move to the customer data."
   ]
  },
  {
   "cell_type": "markdown",
   "metadata": {},
   "source": [
    "## Customer Data - Data Cleaning"
   ]
  },
  {
   "cell_type": "code",
   "execution_count": 52,
   "metadata": {},
   "outputs": [],
   "source": [
    "# Read in the dataset\n",
    "customer = pd.read_csv('QVI_purchase_behaviour.csv')"
   ]
  },
  {
   "cell_type": "code",
   "execution_count": 53,
   "metadata": {},
   "outputs": [
    {
     "data": {
      "text/html": [
       "<div>\n",
       "<style scoped>\n",
       "    .dataframe tbody tr th:only-of-type {\n",
       "        vertical-align: middle;\n",
       "    }\n",
       "\n",
       "    .dataframe tbody tr th {\n",
       "        vertical-align: top;\n",
       "    }\n",
       "\n",
       "    .dataframe thead th {\n",
       "        text-align: right;\n",
       "    }\n",
       "</style>\n",
       "<table border=\"1\" class=\"dataframe\">\n",
       "  <thead>\n",
       "    <tr style=\"text-align: right;\">\n",
       "      <th></th>\n",
       "      <th>LYLTY_CARD_NBR</th>\n",
       "      <th>LIFESTAGE</th>\n",
       "      <th>PREMIUM_CUSTOMER</th>\n",
       "    </tr>\n",
       "  </thead>\n",
       "  <tbody>\n",
       "    <tr>\n",
       "      <th>0</th>\n",
       "      <td>1000</td>\n",
       "      <td>YOUNG SINGLES/COUPLES</td>\n",
       "      <td>Premium</td>\n",
       "    </tr>\n",
       "    <tr>\n",
       "      <th>1</th>\n",
       "      <td>1002</td>\n",
       "      <td>YOUNG SINGLES/COUPLES</td>\n",
       "      <td>Mainstream</td>\n",
       "    </tr>\n",
       "    <tr>\n",
       "      <th>2</th>\n",
       "      <td>1003</td>\n",
       "      <td>YOUNG FAMILIES</td>\n",
       "      <td>Budget</td>\n",
       "    </tr>\n",
       "    <tr>\n",
       "      <th>3</th>\n",
       "      <td>1004</td>\n",
       "      <td>OLDER SINGLES/COUPLES</td>\n",
       "      <td>Mainstream</td>\n",
       "    </tr>\n",
       "    <tr>\n",
       "      <th>4</th>\n",
       "      <td>1005</td>\n",
       "      <td>MIDAGE SINGLES/COUPLES</td>\n",
       "      <td>Mainstream</td>\n",
       "    </tr>\n",
       "  </tbody>\n",
       "</table>\n",
       "</div>"
      ],
      "text/plain": [
       "   LYLTY_CARD_NBR               LIFESTAGE PREMIUM_CUSTOMER\n",
       "0            1000   YOUNG SINGLES/COUPLES          Premium\n",
       "1            1002   YOUNG SINGLES/COUPLES       Mainstream\n",
       "2            1003          YOUNG FAMILIES           Budget\n",
       "3            1004   OLDER SINGLES/COUPLES       Mainstream\n",
       "4            1005  MIDAGE SINGLES/COUPLES       Mainstream"
      ]
     },
     "execution_count": 53,
     "metadata": {},
     "output_type": "execute_result"
    }
   ],
   "source": [
    "# View the first 5 rows\n",
    "customer.head()"
   ]
  },
  {
   "cell_type": "code",
   "execution_count": 54,
   "metadata": {},
   "outputs": [],
   "source": [
    "# Change column headers to lower cases and rename columns\n",
    "customer.columns = map(str.lower, customer.columns)\n",
    "customer = customer.rename(columns={'lylty_card_nbr':'card_nbr','premium_customer':'customer_type'})"
   ]
  },
  {
   "cell_type": "code",
   "execution_count": 55,
   "metadata": {},
   "outputs": [
    {
     "name": "stdout",
     "output_type": "stream",
     "text": [
      "<class 'pandas.core.frame.DataFrame'>\n",
      "RangeIndex: 72637 entries, 0 to 72636\n",
      "Data columns (total 3 columns):\n",
      " #   Column         Non-Null Count  Dtype \n",
      "---  ------         --------------  ----- \n",
      " 0   card_nbr       72637 non-null  int64 \n",
      " 1   lifestage      72637 non-null  object\n",
      " 2   customer_type  72637 non-null  object\n",
      "dtypes: int64(1), object(2)\n",
      "memory usage: 1.7+ MB\n"
     ]
    }
   ],
   "source": [
    "# Check general info\n",
    "customer.info()"
   ]
  },
  {
   "cell_type": "code",
   "execution_count": 56,
   "metadata": {},
   "outputs": [],
   "source": [
    "# Change card_nbr to category\n",
    "customer['card_nbr'] = customer['card_nbr'].astype(str)"
   ]
  },
  {
   "cell_type": "code",
   "execution_count": 57,
   "metadata": {},
   "outputs": [
    {
     "data": {
      "text/html": [
       "<div>\n",
       "<style scoped>\n",
       "    .dataframe tbody tr th:only-of-type {\n",
       "        vertical-align: middle;\n",
       "    }\n",
       "\n",
       "    .dataframe tbody tr th {\n",
       "        vertical-align: top;\n",
       "    }\n",
       "\n",
       "    .dataframe thead th {\n",
       "        text-align: right;\n",
       "    }\n",
       "</style>\n",
       "<table border=\"1\" class=\"dataframe\">\n",
       "  <thead>\n",
       "    <tr style=\"text-align: right;\">\n",
       "      <th></th>\n",
       "      <th>card_nbr</th>\n",
       "      <th>lifestage</th>\n",
       "      <th>customer_type</th>\n",
       "    </tr>\n",
       "  </thead>\n",
       "  <tbody>\n",
       "    <tr>\n",
       "      <th>count</th>\n",
       "      <td>72637</td>\n",
       "      <td>72637</td>\n",
       "      <td>72637</td>\n",
       "    </tr>\n",
       "    <tr>\n",
       "      <th>unique</th>\n",
       "      <td>72637</td>\n",
       "      <td>7</td>\n",
       "      <td>3</td>\n",
       "    </tr>\n",
       "    <tr>\n",
       "      <th>top</th>\n",
       "      <td>124289</td>\n",
       "      <td>RETIREES</td>\n",
       "      <td>Mainstream</td>\n",
       "    </tr>\n",
       "    <tr>\n",
       "      <th>freq</th>\n",
       "      <td>1</td>\n",
       "      <td>14805</td>\n",
       "      <td>29245</td>\n",
       "    </tr>\n",
       "  </tbody>\n",
       "</table>\n",
       "</div>"
      ],
      "text/plain": [
       "       card_nbr lifestage customer_type\n",
       "count     72637     72637         72637\n",
       "unique    72637         7             3\n",
       "top      124289  RETIREES    Mainstream\n",
       "freq          1     14805         29245"
      ]
     },
     "execution_count": 57,
     "metadata": {},
     "output_type": "execute_result"
    }
   ],
   "source": [
    "# Check other info\n",
    "customer.describe()"
   ]
  },
  {
   "cell_type": "code",
   "execution_count": 58,
   "metadata": {},
   "outputs": [
    {
     "name": "stdout",
     "output_type": "stream",
     "text": [
      "Customer lifestage:\n"
     ]
    },
    {
     "data": {
      "text/plain": [
       "['YOUNG SINGLES/COUPLES',\n",
       " 'YOUNG FAMILIES',\n",
       " 'OLDER SINGLES/COUPLES',\n",
       " 'MIDAGE SINGLES/COUPLES',\n",
       " 'NEW FAMILIES',\n",
       " 'OLDER FAMILIES',\n",
       " 'RETIREES']"
      ]
     },
     "execution_count": 58,
     "metadata": {},
     "output_type": "execute_result"
    }
   ],
   "source": [
    "print('Customer lifestage:')\n",
    "customer['lifestage'].unique().tolist()"
   ]
  },
  {
   "cell_type": "code",
   "execution_count": 59,
   "metadata": {},
   "outputs": [
    {
     "name": "stdout",
     "output_type": "stream",
     "text": [
      "Customer type:\n"
     ]
    },
    {
     "data": {
      "text/plain": [
       "['Premium', 'Mainstream', 'Budget']"
      ]
     },
     "execution_count": 59,
     "metadata": {},
     "output_type": "execute_result"
    }
   ],
   "source": [
    "print('Customer type:')\n",
    "customer['customer_type'].unique().tolist()"
   ]
  },
  {
   "cell_type": "code",
   "execution_count": 60,
   "metadata": {},
   "outputs": [],
   "source": [
    "customer.to_csv('customer', index=False)"
   ]
  },
  {
   "cell_type": "markdown",
   "metadata": {},
   "source": [
    "## Customer Data -  Visualization"
   ]
  },
  {
   "cell_type": "markdown",
   "metadata": {},
   "source": [
    "Let's see how many customers we have in each segment."
   ]
  },
  {
   "cell_type": "code",
   "execution_count": 61,
   "metadata": {},
   "outputs": [
    {
     "name": "stdout",
     "output_type": "stream",
     "text": [
      "Number of customers by segments:\n"
     ]
    },
    {
     "data": {
      "text/plain": [
       "Mainstream    29245\n",
       "Budget        24470\n",
       "Premium       18922\n",
       "Name: customer_type, dtype: int64"
      ]
     },
     "execution_count": 61,
     "metadata": {},
     "output_type": "execute_result"
    }
   ],
   "source": [
    "print('Number of customers by segments:')\n",
    "customer['customer_type'].value_counts()"
   ]
  },
  {
   "cell_type": "code",
   "execution_count": 62,
   "metadata": {},
   "outputs": [
    {
     "data": {
      "image/png": "[encoded data removed]",
      "text/plain": [
       "<Figure size 576x360 with 1 Axes>"
      ]
     },
     "metadata": {
      "needs_background": "light"
     },
     "output_type": "display_data"
    }
   ],
   "source": [
    "# Count plot of number of customers in each segment\n",
    "order = ['Budget', 'Mainstream', 'Premium']\n",
    "customer['customer_type'].value_counts().loc[order].plot.bar(figsize=(8,5),\n",
    "                                                             color='mediumseagreen')\n",
    "plt.title('Number of customers by segment', fontsize=16)\n",
    "plt.xlabel('Customer Type')\n",
    "plt.ylabel('Number of customers')\n",
    "plt.show()"
   ]
  },
  {
   "cell_type": "markdown",
   "metadata": {},
   "source": [
    "Most customers are mainstream. I'm also interested in customers' lifestage in each segment. "
   ]
  },
  {
   "cell_type": "code",
   "execution_count": 63,
   "metadata": {},
   "outputs": [],
   "source": [
    "col_order = ['YOUNG SINGLES/COUPLES', 'MIDAGE SINGLES/COUPLES', 'OLDER SINGLES/COUPLES',\n",
    "             'NEW FAMILIES', 'YOUNG FAMILIES', 'OLDER FAMILIES', 'RETIREES']\n",
    "\n",
    "# Create a function to make stacked bar plot with percentage\n",
    "def draw_bar(data):\n",
    "    \"\"\" Get data and return a stacked barchart with percentages \"\"\"\n",
    "    \n",
    "    #Count number of unique customers by segment and lifestage\n",
    "    pivot_df = data.pivot_table(index='customer_type',\n",
    "                                values='card_nbr',\n",
    "                                columns='lifestage',\n",
    "                                aggfunc=lambda x: x.nunique()).reindex(columns=col_order)\n",
    "    \n",
    "    #Convert to percentage\n",
    "    percentage_dist = 100*pivot_df.divide(pivot_df.sum(axis=1), axis=0)\n",
    "    #Stacked bar plot\n",
    "    ax = percentage_dist.plot(kind='barh',\n",
    "                              stacked=True,\n",
    "                              figsize=(13,8),\n",
    "                              colormap='Set2')\n",
    "\n",
    "    #Insert percentage labels to the graph\n",
    "    for p in ax.patches:\n",
    "        width, height = p.get_width(), p.get_height()\n",
    "        x, y = p.get_xy()\n",
    "        ax.text(x + width / 2,\n",
    "                y + height / 2,\n",
    "                '{:.2f}'.format(width),\n",
    "                horizontalalignment='center',\n",
    "                verticalalignment='center')\n",
    "        \n",
    "    #Complete the graph\n",
    "    plt.legend(bbox_to_anchor=(1,0.5), loc='center left')\n",
    "    plt.title('Customer lifestage proportion by Customer type', fontsize=16)\n",
    "    plt.xlabel('Percentage of each lifestage')\n",
    "    plt.ylabel('Customer Type')\n",
    "    plt.tick_params(axis='x', which='both', bottom=False, labelbottom=False)"
   ]
  },
  {
   "cell_type": "code",
   "execution_count": 64,
   "metadata": {},
   "outputs": [
    {
     "data": {
      "image/png": "[encoded data removed]",
      "text/plain": [
       "<Figure size 936x576 with 1 Axes>"
      ]
     },
     "metadata": {
      "needs_background": "light"
     },
     "output_type": "display_data"
    }
   ],
   "source": [
    "# Apply draw_bar function on customer data\n",
    "draw_bar(customer)"
   ]
  },
  {
   "cell_type": "markdown",
   "metadata": {},
   "source": [
    "- Most customers of Budget segment are older singles/couples and older families.\n",
    "- Most customers of Mainstream segement are young single/couples and retirees.\n",
    "- Most customers of Premium segment are older single/couples and retirees."
   ]
  },
  {
   "cell_type": "markdown",
   "metadata": {},
   "source": [
    "## Customer Segment Analysis"
   ]
  },
  {
   "cell_type": "markdown",
   "metadata": {},
   "source": [
    "Now, we merge transaction and customer data by card_nbr."
   ]
  },
  {
   "cell_type": "code",
   "execution_count": 65,
   "metadata": {},
   "outputs": [
    {
     "name": "stdout",
     "output_type": "stream",
     "text": [
      "There are 246407 rows in transaction dataset.\n",
      "There are 72637 rows in customer dataset.\n"
     ]
    }
   ],
   "source": [
    "# Check number of records\n",
    "print(f'There are {len(trans)} rows in transaction dataset.')\n",
    "print(f'There are {len(customer)} rows in customer dataset.')"
   ]
  },
  {
   "cell_type": "code",
   "execution_count": 66,
   "metadata": {},
   "outputs": [],
   "source": [
    "# Merge transaction data and customer data\n",
    "df = pd.merge(customer, trans, on='card_nbr', how='right')"
   ]
  },
  {
   "cell_type": "code",
   "execution_count": 67,
   "metadata": {},
   "outputs": [
    {
     "name": "stdout",
     "output_type": "stream",
     "text": [
      "<class 'pandas.core.frame.DataFrame'>\n",
      "Int64Index: 246407 entries, 0 to 246406\n",
      "Data columns (total 16 columns):\n",
      " #   Column         Non-Null Count   Dtype         \n",
      "---  ------         --------------   -----         \n",
      " 0   card_nbr       246407 non-null  object        \n",
      " 1   lifestage      246407 non-null  object        \n",
      " 2   customer_type  246407 non-null  object        \n",
      " 3   date           246407 non-null  datetime64[ns]\n",
      " 4   store_nbr      246407 non-null  object        \n",
      " 5   txn_id         246407 non-null  object        \n",
      " 6   prod_nbr       246407 non-null  object        \n",
      " 7   prod_name      246407 non-null  object        \n",
      " 8   prod_qty       246407 non-null  int64         \n",
      " 9   tot_sales      246407 non-null  float64       \n",
      " 10  prod_price     246407 non-null  float64       \n",
      " 11  year           246407 non-null  int64         \n",
      " 12  month          246407 non-null  int64         \n",
      " 13  weekday        246407 non-null  object        \n",
      " 14  prod_size      246407 non-null  int64         \n",
      " 15  brand          246407 non-null  object        \n",
      "dtypes: datetime64[ns](1), float64(2), int64(4), object(9)\n",
      "memory usage: 32.0+ MB\n"
     ]
    }
   ],
   "source": [
    "# Check general info\n",
    "df.info()"
   ]
  },
  {
   "cell_type": "markdown",
   "metadata": {},
   "source": [
    "Great! No missing data."
   ]
  },
  {
   "cell_type": "code",
   "execution_count": 68,
   "metadata": {},
   "outputs": [
    {
     "name": "stdout",
     "output_type": "stream",
     "text": [
      "There are 71251 customers.\n"
     ]
    }
   ],
   "source": [
    "# Check number of customers\n",
    "print(f\"There are {df['card_nbr'].nunique()} customers.\")"
   ]
  },
  {
   "cell_type": "markdown",
   "metadata": {},
   "source": [
    "That means there are some customers who did not have any tranasactions during this period. Let's see total sales of each segment and lifestage."
   ]
  },
  {
   "cell_type": "code",
   "execution_count": 69,
   "metadata": {},
   "outputs": [],
   "source": [
    "# Aggregate total sales by segment and lifestage\n",
    "sales_by_segment = df.pivot_table(index='customer_type',\n",
    "                                  columns='lifestage',\n",
    "                                  values='tot_sales',\n",
    "                                  aggfunc='sum').reindex(columns=col_order)"
   ]
  },
  {
   "cell_type": "code",
   "execution_count": 70,
   "metadata": {},
   "outputs": [
    {
     "data": {
      "image/png": "[encoded data removed]",
      "text/plain": [
       "<Figure size 576x360 with 1 Axes>"
      ]
     },
     "metadata": {
      "needs_background": "light"
     },
     "output_type": "display_data"
    }
   ],
   "source": [
    "# Total sales by segment\n",
    "sales_by_segment.sum(axis=1).plot.bar(figsize=(8,5),\n",
    "                                      color='cornflowerblue',\n",
    "                                      legend=None)\n",
    "\n",
    "plt.title('Total Sales by Segment', fontsize=16)\n",
    "plt.xlabel(None)\n",
    "plt.show()"
   ]
  },
  {
   "cell_type": "markdown",
   "metadata": {},
   "source": [
    "Mainstream segment brings in the most sales. Let's see how different this number is among lifestages.<br>\n",
    "Before doing so, because we have a different number of customers in the merged data, let's check the proportion of customer lifestages in each segment again."
   ]
  },
  {
   "cell_type": "code",
   "execution_count": 71,
   "metadata": {},
   "outputs": [
    {
     "data": {
      "image/png": "[encoded data removed]",
      "text/plain": [
       "<Figure size 936x576 with 1 Axes>"
      ]
     },
     "metadata": {
      "needs_background": "light"
     },
     "output_type": "display_data"
    }
   ],
   "source": [
    "# Apply draw_bar function on the merged data\n",
    "draw_bar(df)"
   ]
  },
  {
   "cell_type": "markdown",
   "metadata": {},
   "source": [
    "We still have:\n",
    "- Most customers of Budget segment are older singles/couples and older families.\n",
    "- Most customers of Mainstream segement are young single/couples and retirees.\n",
    "- Most customers of Premium segment are older single/couples and retirees.\n",
    "\n",
    "Let's plot total sales by segment and lifestage."
   ]
  },
  {
   "cell_type": "code",
   "execution_count": 72,
   "metadata": {},
   "outputs": [
    {
     "data": {
      "image/png": "[encoded data removed]",
      "text/plain": [
       "<Figure size 936x576 with 1 Axes>"
      ]
     },
     "metadata": {
      "needs_background": "light"
     },
     "output_type": "display_data"
    }
   ],
   "source": [
    "# Total sales by segment and lifestage\n",
    "sales_by_segment.plot(kind='bar',\n",
    "                      figsize=(13,8),\n",
    "                      colormap='Set2')\n",
    "\n",
    "plt.legend(bbox_to_anchor=(1,0.5), loc='center left')\n",
    "plt.title('Total Sales by Segment and Lifestage', fontsize=16)\n",
    "plt.xlabel(None)\n",
    "plt.show()"
   ]
  },
  {
   "cell_type": "markdown",
   "metadata": {},
   "source": [
    "- In Budget segment, most sales come from older families.\n",
    "- In Mainstream segment, most sales come from young singles/couples and retirees.\n",
    "- In Premium segment, most sales come from older singles/couples.\n",
    "\n",
    "For Mainstream and Premium segments, the practice of there being more customers of a certain lifestage may have led to more sales. However, this seems not to be the case for Budget segment. Why do Budget - older families have significantly higher sales than other groups in the same segment, especially older singles/couples?<br>\n",
    "Let's see in average if customers in different lifestages buy the same product quantity/price."
   ]
  },
  {
   "cell_type": "code",
   "execution_count": 73,
   "metadata": {},
   "outputs": [
    {
     "data": {
      "text/html": [
       "<div>\n",
       "<style scoped>\n",
       "    .dataframe tbody tr th:only-of-type {\n",
       "        vertical-align: middle;\n",
       "    }\n",
       "\n",
       "    .dataframe tbody tr th {\n",
       "        vertical-align: top;\n",
       "    }\n",
       "\n",
       "    .dataframe thead th {\n",
       "        text-align: right;\n",
       "    }\n",
       "</style>\n",
       "<table border=\"1\" class=\"dataframe\">\n",
       "  <thead>\n",
       "    <tr style=\"text-align: right;\">\n",
       "      <th></th>\n",
       "      <th>customer_type</th>\n",
       "      <th>lifestage</th>\n",
       "      <th>avg_qty</th>\n",
       "      <th>avg_price</th>\n",
       "      <th>avg_size</th>\n",
       "    </tr>\n",
       "  </thead>\n",
       "  <tbody>\n",
       "    <tr>\n",
       "      <th>0</th>\n",
       "      <td>Budget</td>\n",
       "      <td>MIDAGE SINGLES/COUPLES</td>\n",
       "      <td>6.016880</td>\n",
       "      <td>3.729121</td>\n",
       "      <td>173.884076</td>\n",
       "    </tr>\n",
       "    <tr>\n",
       "      <th>1</th>\n",
       "      <td>Budget</td>\n",
       "      <td>NEW FAMILIES</td>\n",
       "      <td>4.797235</td>\n",
       "      <td>3.914938</td>\n",
       "      <td>174.607877</td>\n",
       "    </tr>\n",
       "    <tr>\n",
       "      <th>2</th>\n",
       "      <td>Budget</td>\n",
       "      <td>OLDER FAMILIES</td>\n",
       "      <td>9.111328</td>\n",
       "      <td>3.726149</td>\n",
       "      <td>175.253233</td>\n",
       "    </tr>\n",
       "    <tr>\n",
       "      <th>3</th>\n",
       "      <td>Budget</td>\n",
       "      <td>OLDER SINGLES/COUPLES</td>\n",
       "      <td>6.749227</td>\n",
       "      <td>3.867907</td>\n",
       "      <td>175.205977</td>\n",
       "    </tr>\n",
       "    <tr>\n",
       "      <th>4</th>\n",
       "      <td>Budget</td>\n",
       "      <td>RETIREES</td>\n",
       "      <td>6.119178</td>\n",
       "      <td>3.913521</td>\n",
       "      <td>176.341169</td>\n",
       "    </tr>\n",
       "    <tr>\n",
       "      <th>5</th>\n",
       "      <td>Budget</td>\n",
       "      <td>YOUNG FAMILIES</td>\n",
       "      <td>8.742777</td>\n",
       "      <td>3.739130</td>\n",
       "      <td>175.203890</td>\n",
       "    </tr>\n",
       "    <tr>\n",
       "      <th>6</th>\n",
       "      <td>Budget</td>\n",
       "      <td>YOUNG SINGLES/COUPLES</td>\n",
       "      <td>4.240645</td>\n",
       "      <td>3.665108</td>\n",
       "      <td>173.337391</td>\n",
       "    </tr>\n",
       "    <tr>\n",
       "      <th>7</th>\n",
       "      <td>Mainstream</td>\n",
       "      <td>MIDAGE SINGLES/COUPLES</td>\n",
       "      <td>6.410264</td>\n",
       "      <td>3.975799</td>\n",
       "      <td>177.650765</td>\n",
       "    </tr>\n",
       "    <tr>\n",
       "      <th>8</th>\n",
       "      <td>Mainstream</td>\n",
       "      <td>NEW FAMILIES</td>\n",
       "      <td>4.847172</td>\n",
       "      <td>3.916187</td>\n",
       "      <td>175.590616</td>\n",
       "    </tr>\n",
       "    <tr>\n",
       "      <th>9</th>\n",
       "      <td>Mainstream</td>\n",
       "      <td>OLDER FAMILIES</td>\n",
       "      <td>9.256723</td>\n",
       "      <td>3.714407</td>\n",
       "      <td>174.861874</td>\n",
       "    </tr>\n",
       "    <tr>\n",
       "      <th>10</th>\n",
       "      <td>Mainstream</td>\n",
       "      <td>OLDER SINGLES/COUPLES</td>\n",
       "      <td>6.707106</td>\n",
       "      <td>3.800107</td>\n",
       "      <td>174.621042</td>\n",
       "    </tr>\n",
       "    <tr>\n",
       "      <th>11</th>\n",
       "      <td>Mainstream</td>\n",
       "      <td>RETIREES</td>\n",
       "      <td>5.916876</td>\n",
       "      <td>3.832403</td>\n",
       "      <td>174.921923</td>\n",
       "    </tr>\n",
       "    <tr>\n",
       "      <th>12</th>\n",
       "      <td>Mainstream</td>\n",
       "      <td>YOUNG FAMILIES</td>\n",
       "      <td>8.651171</td>\n",
       "      <td>3.699138</td>\n",
       "      <td>173.818596</td>\n",
       "    </tr>\n",
       "    <tr>\n",
       "      <th>13</th>\n",
       "      <td>Mainstream</td>\n",
       "      <td>YOUNG SINGLES/COUPLES</td>\n",
       "      <td>4.558039</td>\n",
       "      <td>4.057219</td>\n",
       "      <td>178.129953</td>\n",
       "    </tr>\n",
       "    <tr>\n",
       "      <th>14</th>\n",
       "      <td>Premium</td>\n",
       "      <td>MIDAGE SINGLES/COUPLES</td>\n",
       "      <td>6.103041</td>\n",
       "      <td>3.755657</td>\n",
       "      <td>174.189870</td>\n",
       "    </tr>\n",
       "    <tr>\n",
       "      <th>15</th>\n",
       "      <td>Premium</td>\n",
       "      <td>NEW FAMILIES</td>\n",
       "      <td>4.803478</td>\n",
       "      <td>3.860862</td>\n",
       "      <td>175.319696</td>\n",
       "    </tr>\n",
       "    <tr>\n",
       "      <th>16</th>\n",
       "      <td>Premium</td>\n",
       "      <td>OLDER FAMILIES</td>\n",
       "      <td>9.056325</td>\n",
       "      <td>3.694328</td>\n",
       "      <td>174.168271</td>\n",
       "    </tr>\n",
       "    <tr>\n",
       "      <th>17</th>\n",
       "      <td>Premium</td>\n",
       "      <td>OLDER SINGLES/COUPLES</td>\n",
       "      <td>6.756791</td>\n",
       "      <td>3.876879</td>\n",
       "      <td>176.205394</td>\n",
       "    </tr>\n",
       "    <tr>\n",
       "      <th>18</th>\n",
       "      <td>Premium</td>\n",
       "      <td>RETIREES</td>\n",
       "      <td>6.092174</td>\n",
       "      <td>3.904063</td>\n",
       "      <td>176.062416</td>\n",
       "    </tr>\n",
       "    <tr>\n",
       "      <th>19</th>\n",
       "      <td>Premium</td>\n",
       "      <td>YOUNG FAMILIES</td>\n",
       "      <td>8.713511</td>\n",
       "      <td>3.738143</td>\n",
       "      <td>174.317492</td>\n",
       "    </tr>\n",
       "    <tr>\n",
       "      <th>20</th>\n",
       "      <td>Premium</td>\n",
       "      <td>YOUNG SINGLES/COUPLES</td>\n",
       "      <td>4.235412</td>\n",
       "      <td>3.670793</td>\n",
       "      <td>173.913159</td>\n",
       "    </tr>\n",
       "  </tbody>\n",
       "</table>\n",
       "</div>"
      ],
      "text/plain": [
       "   customer_type               lifestage   avg_qty  avg_price    avg_size\n",
       "0         Budget  MIDAGE SINGLES/COUPLES  6.016880   3.729121  173.884076\n",
       "1         Budget            NEW FAMILIES  4.797235   3.914938  174.607877\n",
       "2         Budget          OLDER FAMILIES  9.111328   3.726149  175.253233\n",
       "3         Budget   OLDER SINGLES/COUPLES  6.749227   3.867907  175.205977\n",
       "4         Budget                RETIREES  6.119178   3.913521  176.341169\n",
       "5         Budget          YOUNG FAMILIES  8.742777   3.739130  175.203890\n",
       "6         Budget   YOUNG SINGLES/COUPLES  4.240645   3.665108  173.337391\n",
       "7     Mainstream  MIDAGE SINGLES/COUPLES  6.410264   3.975799  177.650765\n",
       "8     Mainstream            NEW FAMILIES  4.847172   3.916187  175.590616\n",
       "9     Mainstream          OLDER FAMILIES  9.256723   3.714407  174.861874\n",
       "10    Mainstream   OLDER SINGLES/COUPLES  6.707106   3.800107  174.621042\n",
       "11    Mainstream                RETIREES  5.916876   3.832403  174.921923\n",
       "12    Mainstream          YOUNG FAMILIES  8.651171   3.699138  173.818596\n",
       "13    Mainstream   YOUNG SINGLES/COUPLES  4.558039   4.057219  178.129953\n",
       "14       Premium  MIDAGE SINGLES/COUPLES  6.103041   3.755657  174.189870\n",
       "15       Premium            NEW FAMILIES  4.803478   3.860862  175.319696\n",
       "16       Premium          OLDER FAMILIES  9.056325   3.694328  174.168271\n",
       "17       Premium   OLDER SINGLES/COUPLES  6.756791   3.876879  176.205394\n",
       "18       Premium                RETIREES  6.092174   3.904063  176.062416\n",
       "19       Premium          YOUNG FAMILIES  8.713511   3.738143  174.317492\n",
       "20       Premium   YOUNG SINGLES/COUPLES  4.235412   3.670793  173.913159"
      ]
     },
     "execution_count": 73,
     "metadata": {},
     "output_type": "execute_result"
    }
   ],
   "source": [
    "# Get number of unique customers by type and lifstage\n",
    "num_customers = df[['card_nbr', 'lifestage', 'customer_type']].groupby(  \\\n",
    "                ['customer_type', 'lifestage']).nunique()['card_nbr'].reset_index()\n",
    "\n",
    "# Get total quantity, sales, size by customer type and lifestage\n",
    "df['tot_size'] = df['prod_qty']*df['prod_size']\n",
    "values = df[['prod_qty', 'tot_sales', 'tot_size', 'lifestage', 'customer_type']].groupby(  \\\n",
    "         ['customer_type', 'lifestage']).sum().reset_index()\n",
    "\n",
    "# Merge the two datasets above and comput the average quatity, price, and size per customer\n",
    "df1 = pd.merge(num_customers, values, on=['customer_type', 'lifestage'])\n",
    "df1['avg_qty'] = df1['prod_qty']/df1['card_nbr']\n",
    "df1['avg_price'] = df1['tot_sales']/df1['prod_qty']\n",
    "df1['avg_size'] = df1['tot_size']/df1['prod_qty']\n",
    "\n",
    "# Print out data\n",
    "df1[['customer_type', 'lifestage', 'avg_qty', 'avg_price', 'avg_size']]"
   ]
  },
  {
   "cell_type": "markdown",
   "metadata": {},
   "source": [
    "Use these data to make pointplots."
   ]
  },
  {
   "cell_type": "code",
   "execution_count": 74,
   "metadata": {
    "scrolled": false
   },
   "outputs": [
    {
     "data": {
      "image/png": "[encoded data removed]",
      "text/plain": [
       "<Figure size 720x1080 with 3 Axes>"
      ]
     },
     "metadata": {
      "needs_background": "light"
     },
     "output_type": "display_data"
    }
   ],
   "source": [
    "#Separate pointplots of average product quantity and price by customer type and lifestage\n",
    "fig, axes = plt.subplots(3,1, figsize=(10,15))\n",
    "sns.pointplot(ax=axes[0],\n",
    "              x='customer_type',\n",
    "              y='avg_qty',\n",
    "              hue='lifestage',\n",
    "              hue_order=col_order,\n",
    "              order=order,\n",
    "              palette='Set2',\n",
    "              data=df1)\n",
    "axes[0].legend(bbox_to_anchor=(1,1), loc='upper left')\n",
    "axes[0].set_title('Average Product Quantity/Customer by Segment and Lifestage')\n",
    "axes[0].set_ylabel('Average Product Quantity/Customer')\n",
    "axes[0].set_xlabel(None)\n",
    "\n",
    "sns.pointplot(ax=axes[1],\n",
    "              x='customer_type',\n",
    "              y='avg_size',\n",
    "              hue='lifestage',\n",
    "              hue_order=col_order,\n",
    "              order=order,\n",
    "              palette='Set2',\n",
    "              data=df1)\n",
    "axes[1].get_legend().remove()\n",
    "axes[1].set_title('Average Product Size/Bag by Segment and Lifestage')\n",
    "axes[1].set_ylabel('Average Product Size/Bag')\n",
    "axes[1].set_xlabel(None)\n",
    "\n",
    "sns.pointplot(ax=axes[2],\n",
    "              x='customer_type',\n",
    "              y='avg_price',\n",
    "              hue='lifestage',\n",
    "              hue_order=col_order,\n",
    "              order=order,\n",
    "              palette='Set2',\n",
    "              data=df1)\n",
    "axes[2].get_legend().remove()\n",
    "axes[2].set_title('Average Product Price/Bag by Segment and Lifestage')\n",
    "axes[2].set_ylabel('Average Product Price/Bag')\n",
    "axes[2].set_xlabel(None)\n",
    "\n",
    "plt.tight_layout(pad=3)"
   ]
  },
  {
   "cell_type": "markdown",
   "metadata": {},
   "source": [
    "Older families and young families have a tendency to buy more bags per customer. Look at the Budget segment, because there are more older families and these customers buy more bags per customer than other groups, their total sales become the highest in this segment even though they pick cheaper products.\n",
    "\n",
    "Most of customers of Mainstream segment are young singles/couples, and they buy the most expensive (and the biggest) products; therefore, this group contributes the most sales. Besides young singles/couples, midage singles/couples have the same buying behavior in this segment.\n",
    "\n",
    "Finally, it is reasonable for older singles/couples and retirees to have the most sales in Premium segment. These two groups have the most number of customers in this segment and on average, they pay the highest price for the largest size of products.\n",
    "\n",
    "To examine which group brings in the most sales, we should look at their buying behaviors rather than their number of customers. Among these groups, Mainstream young signles/couples and midage singles/couples buy higher product price and size, on average. We can pick these two groups as our target. But first, let's perform a t-test to see if there is significant difference of average product price between young and midage singles/couples in Mainstream segment and those in Buget and Premium ones. "
   ]
  },
  {
   "cell_type": "markdown",
   "metadata": {},
   "source": [
    "### Student's t-test"
   ]
  },
  {
   "cell_type": "code",
   "execution_count": 75,
   "metadata": {},
   "outputs": [
    {
     "data": {
      "image/png": "[encoded data removed]",
      "text/plain": [
       "<Figure size 576x432 with 1 Axes>"
      ]
     },
     "metadata": {
      "needs_background": "light"
     },
     "output_type": "display_data"
    }
   ],
   "source": [
    "# Get two value arrays from two groups\n",
    "mainstream = df[(df['customer_type'] == 'Mainstream') &\n",
    "                ((df['lifestage'] == 'YOUNG SINGLES/COUPLES') |\n",
    "                (df['lifestage'] == 'MIDAGE SINGLES/COUPLES'))]['prod_price']\n",
    "others = df[(df['customer_type'] != 'Mainstream') &\n",
    "            ((df['lifestage'] == 'YOUNG SINGLES/COUPLES') |\n",
    "            (df['lifestage'] == 'MIDAGE SINGLES/COUPLES'))]['prod_price']\n",
    "\n",
    "# Plot their distribution\n",
    "plt.figure(figsize=(8,6))\n",
    "plt.hist(mainstream, color=[1,0,0,0.5], bins='fd',\n",
    "         label='Mainstream Young and Midage singles/couples')\n",
    "plt.hist(others, color=[0,0,1,0.5], bins='fd',\n",
    "         label='Buget and Premium Young and Midage singles/couples')\n",
    "plt.xlabel('Product price')\n",
    "plt.ylabel('Count')\n",
    "plt.title('Product price distribution in each group', fontsize=16)\n",
    "plt.legend(bbox_to_anchor=(1,1), loc='upper left')\n",
    "plt.show()"
   ]
  },
  {
   "cell_type": "code",
   "execution_count": 76,
   "metadata": {},
   "outputs": [
    {
     "name": "stdout",
     "output_type": "stream",
     "text": [
      "Mean product price of Mainstream young and midage singles/couples (a): 4.02\n",
      "Mean product price of Buget, Premium young and midage singles/couples (b): 3.68\n",
      "\n",
      "Our hypotheses:\n",
      "\t\tH0: mu(a) = mu(b)\n",
      "\t\tHa: mu(a) # mu(b)\n",
      "Result:\n",
      "\n",
      "t-value(57195)\t38.11\n",
      "p-value\t\t0.0\n",
      "\n",
      "For a right-tailed t distribution at at a significance level of 0.05, we have:\n",
      "t-statistic(57195) = 1.64\n"
     ]
    }
   ],
   "source": [
    "# Print out mean values\n",
    "print(f'Mean product price of Mainstream young and midage singles/couples (a): {round(mainstream.mean()*100)/100}')\n",
    "print(f'Mean product price of Buget, Premium young and midage singles/couples (b): {round(others.mean()*100)/100}\\n')\n",
    "\n",
    "# Perform a two sample independent t-test (unpaired, having the same population variances)  \n",
    "dfreedom = len(mainstream) + len(others) - 2\n",
    "t_val, p_val = ttest_ind(mainstream, others, equal_var=True)\n",
    "\n",
    "# Print out t statistic and left-tail p-value\n",
    "print('Our hypotheses:\\n\\t\\tH0: mu(a) = mu(b)\\n\\t\\tHa: mu(a) # mu(b)\\nResult:\\n')\n",
    "print(f't-value({dfreedom})\\t{round(t_val*100)/100}\\np-value\\t\\t{p_val}\\n')\n",
    "print(f'For a right-tailed t distribution at at a significance level of 0.05, we have:\\nt-statistic({dfreedom}) = {round(t.ppf(0.95, dfreedom)*100)/100}')"
   ]
  },
  {
   "cell_type": "markdown",
   "metadata": {},
   "source": [
    "We can reject the null hypothesis in favor of the alternative hypothesis. Mainstream young and midage singles/couples buy a significantly higher price per product than their Buget and Premium counterparts."
   ]
  },
  {
   "cell_type": "markdown",
   "metadata": {},
   "source": [
    "## Target Segment - Basket Analysis"
   ]
  },
  {
   "cell_type": "markdown",
   "metadata": {},
   "source": [
    "In this part, I would like to find buying behavior of Mainstream young singles/couples. We will employ Apriori Algorithm to perform this."
   ]
  },
  {
   "cell_type": "code",
   "execution_count": 77,
   "metadata": {},
   "outputs": [],
   "source": [
    "# Apriori algorithm and association rule for basket analysis\n",
    "from mlxtend.frequent_patterns import apriori\n",
    "from mlxtend.frequent_patterns import association_rules"
   ]
  },
  {
   "cell_type": "code",
   "execution_count": 78,
   "metadata": {},
   "outputs": [
    {
     "data": {
      "text/html": [
       "<div>\n",
       "<style scoped>\n",
       "    .dataframe tbody tr th:only-of-type {\n",
       "        vertical-align: middle;\n",
       "    }\n",
       "\n",
       "    .dataframe tbody tr th {\n",
       "        vertical-align: top;\n",
       "    }\n",
       "\n",
       "    .dataframe thead th {\n",
       "        text-align: right;\n",
       "    }\n",
       "</style>\n",
       "<table border=\"1\" class=\"dataframe\">\n",
       "  <thead>\n",
       "    <tr style=\"text-align: right;\">\n",
       "      <th>brand</th>\n",
       "      <th>Burger Rings</th>\n",
       "      <th>CCs</th>\n",
       "      <th>Cheetos</th>\n",
       "      <th>Cheezels</th>\n",
       "      <th>Cobs</th>\n",
       "      <th>Doritos</th>\n",
       "      <th>French Fries</th>\n",
       "      <th>Infuzions</th>\n",
       "      <th>Kettle</th>\n",
       "      <th>Natural Chip Co</th>\n",
       "      <th>Pringles</th>\n",
       "      <th>Red Rock Deli</th>\n",
       "      <th>Smiths</th>\n",
       "      <th>Sunbites</th>\n",
       "      <th>Thins</th>\n",
       "      <th>Tostitos</th>\n",
       "      <th>Twisties</th>\n",
       "      <th>Tyrrells</th>\n",
       "      <th>Woolworths</th>\n",
       "    </tr>\n",
       "    <tr>\n",
       "      <th>txn_id</th>\n",
       "      <th></th>\n",
       "      <th></th>\n",
       "      <th></th>\n",
       "      <th></th>\n",
       "      <th></th>\n",
       "      <th></th>\n",
       "      <th></th>\n",
       "      <th></th>\n",
       "      <th></th>\n",
       "      <th></th>\n",
       "      <th></th>\n",
       "      <th></th>\n",
       "      <th></th>\n",
       "      <th></th>\n",
       "      <th></th>\n",
       "      <th></th>\n",
       "      <th></th>\n",
       "      <th></th>\n",
       "      <th></th>\n",
       "    </tr>\n",
       "  </thead>\n",
       "  <tbody>\n",
       "    <tr>\n",
       "      <th>10</th>\n",
       "      <td>0.0</td>\n",
       "      <td>0.0</td>\n",
       "      <td>0.0</td>\n",
       "      <td>0.0</td>\n",
       "      <td>0.0</td>\n",
       "      <td>1.0</td>\n",
       "      <td>0.0</td>\n",
       "      <td>0.0</td>\n",
       "      <td>0.0</td>\n",
       "      <td>0.0</td>\n",
       "      <td>0.0</td>\n",
       "      <td>0.0</td>\n",
       "      <td>0.0</td>\n",
       "      <td>0.0</td>\n",
       "      <td>0.0</td>\n",
       "      <td>0.0</td>\n",
       "      <td>0.0</td>\n",
       "      <td>0.0</td>\n",
       "      <td>0.0</td>\n",
       "    </tr>\n",
       "    <tr>\n",
       "      <th>100014</th>\n",
       "      <td>0.0</td>\n",
       "      <td>0.0</td>\n",
       "      <td>0.0</td>\n",
       "      <td>1.0</td>\n",
       "      <td>0.0</td>\n",
       "      <td>0.0</td>\n",
       "      <td>0.0</td>\n",
       "      <td>0.0</td>\n",
       "      <td>0.0</td>\n",
       "      <td>0.0</td>\n",
       "      <td>0.0</td>\n",
       "      <td>0.0</td>\n",
       "      <td>0.0</td>\n",
       "      <td>0.0</td>\n",
       "      <td>0.0</td>\n",
       "      <td>0.0</td>\n",
       "      <td>0.0</td>\n",
       "      <td>0.0</td>\n",
       "      <td>0.0</td>\n",
       "    </tr>\n",
       "    <tr>\n",
       "      <th>100015</th>\n",
       "      <td>0.0</td>\n",
       "      <td>0.0</td>\n",
       "      <td>0.0</td>\n",
       "      <td>0.0</td>\n",
       "      <td>1.0</td>\n",
       "      <td>0.0</td>\n",
       "      <td>0.0</td>\n",
       "      <td>0.0</td>\n",
       "      <td>0.0</td>\n",
       "      <td>0.0</td>\n",
       "      <td>0.0</td>\n",
       "      <td>0.0</td>\n",
       "      <td>0.0</td>\n",
       "      <td>0.0</td>\n",
       "      <td>0.0</td>\n",
       "      <td>0.0</td>\n",
       "      <td>0.0</td>\n",
       "      <td>0.0</td>\n",
       "      <td>0.0</td>\n",
       "    </tr>\n",
       "    <tr>\n",
       "      <th>100016</th>\n",
       "      <td>0.0</td>\n",
       "      <td>0.0</td>\n",
       "      <td>0.0</td>\n",
       "      <td>0.0</td>\n",
       "      <td>0.0</td>\n",
       "      <td>0.0</td>\n",
       "      <td>0.0</td>\n",
       "      <td>0.0</td>\n",
       "      <td>0.0</td>\n",
       "      <td>0.0</td>\n",
       "      <td>1.0</td>\n",
       "      <td>0.0</td>\n",
       "      <td>0.0</td>\n",
       "      <td>0.0</td>\n",
       "      <td>0.0</td>\n",
       "      <td>0.0</td>\n",
       "      <td>0.0</td>\n",
       "      <td>0.0</td>\n",
       "      <td>0.0</td>\n",
       "    </tr>\n",
       "    <tr>\n",
       "      <th>100017</th>\n",
       "      <td>0.0</td>\n",
       "      <td>0.0</td>\n",
       "      <td>0.0</td>\n",
       "      <td>0.0</td>\n",
       "      <td>0.0</td>\n",
       "      <td>1.0</td>\n",
       "      <td>0.0</td>\n",
       "      <td>0.0</td>\n",
       "      <td>0.0</td>\n",
       "      <td>0.0</td>\n",
       "      <td>0.0</td>\n",
       "      <td>0.0</td>\n",
       "      <td>0.0</td>\n",
       "      <td>0.0</td>\n",
       "      <td>0.0</td>\n",
       "      <td>0.0</td>\n",
       "      <td>0.0</td>\n",
       "      <td>0.0</td>\n",
       "      <td>0.0</td>\n",
       "    </tr>\n",
       "  </tbody>\n",
       "</table>\n",
       "</div>"
      ],
      "text/plain": [
       "brand   Burger Rings  CCs  Cheetos  Cheezels  Cobs  Doritos  French Fries  \\\n",
       "txn_id                                                                      \n",
       "10               0.0  0.0      0.0       0.0   0.0      1.0           0.0   \n",
       "100014           0.0  0.0      0.0       1.0   0.0      0.0           0.0   \n",
       "100015           0.0  0.0      0.0       0.0   1.0      0.0           0.0   \n",
       "100016           0.0  0.0      0.0       0.0   0.0      0.0           0.0   \n",
       "100017           0.0  0.0      0.0       0.0   0.0      1.0           0.0   \n",
       "\n",
       "brand   Infuzions  Kettle  Natural Chip Co  Pringles  Red Rock Deli  Smiths  \\\n",
       "txn_id                                                                        \n",
       "10            0.0     0.0              0.0       0.0            0.0     0.0   \n",
       "100014        0.0     0.0              0.0       0.0            0.0     0.0   \n",
       "100015        0.0     0.0              0.0       0.0            0.0     0.0   \n",
       "100016        0.0     0.0              0.0       1.0            0.0     0.0   \n",
       "100017        0.0     0.0              0.0       0.0            0.0     0.0   \n",
       "\n",
       "brand   Sunbites  Thins  Tostitos  Twisties  Tyrrells  Woolworths  \n",
       "txn_id                                                             \n",
       "10           0.0    0.0       0.0       0.0       0.0         0.0  \n",
       "100014       0.0    0.0       0.0       0.0       0.0         0.0  \n",
       "100015       0.0    0.0       0.0       0.0       0.0         0.0  \n",
       "100016       0.0    0.0       0.0       0.0       0.0         0.0  \n",
       "100017       0.0    0.0       0.0       0.0       0.0         0.0  "
      ]
     },
     "execution_count": 78,
     "metadata": {},
     "output_type": "execute_result"
    }
   ],
   "source": [
    "# Extract target data\n",
    "data = df[(df['customer_type'] == 'Mainstream') &\n",
    "          (df['lifestage'] == 'YOUNG SINGLES/COUPLES')][['txn_id', 'brand', 'prod_qty']].reset_index(drop=True)\n",
    "# Convert to dummies\n",
    "basket = data.groupby(['txn_id', 'brand'])['prod_qty'].sum().unstack().fillna(0)\n",
    "# Make sure there are only ones and zeroes\n",
    "basket[basket > 1] = 1\n",
    "basket.head()"
   ]
  },
  {
   "cell_type": "code",
   "execution_count": 79,
   "metadata": {},
   "outputs": [
    {
     "data": {
      "text/html": [
       "<div>\n",
       "<style scoped>\n",
       "    .dataframe tbody tr th:only-of-type {\n",
       "        vertical-align: middle;\n",
       "    }\n",
       "\n",
       "    .dataframe tbody tr th {\n",
       "        vertical-align: top;\n",
       "    }\n",
       "\n",
       "    .dataframe thead th {\n",
       "        text-align: right;\n",
       "    }\n",
       "</style>\n",
       "<table border=\"1\" class=\"dataframe\">\n",
       "  <thead>\n",
       "    <tr style=\"text-align: right;\">\n",
       "      <th></th>\n",
       "      <th>support</th>\n",
       "      <th>itemsets</th>\n",
       "    </tr>\n",
       "  </thead>\n",
       "  <tbody>\n",
       "    <tr>\n",
       "      <th>0</th>\n",
       "      <td>0.123142</td>\n",
       "      <td>(Doritos)</td>\n",
       "    </tr>\n",
       "    <tr>\n",
       "      <th>1</th>\n",
       "      <td>0.064678</td>\n",
       "      <td>(Infuzions)</td>\n",
       "    </tr>\n",
       "    <tr>\n",
       "      <th>2</th>\n",
       "      <td>0.199058</td>\n",
       "      <td>(Kettle)</td>\n",
       "    </tr>\n",
       "    <tr>\n",
       "      <th>3</th>\n",
       "      <td>0.119880</td>\n",
       "      <td>(Pringles)</td>\n",
       "    </tr>\n",
       "    <tr>\n",
       "      <th>4</th>\n",
       "      <td>0.050179</td>\n",
       "      <td>(Red Rock Deli)</td>\n",
       "    </tr>\n",
       "    <tr>\n",
       "      <th>5</th>\n",
       "      <td>0.102895</td>\n",
       "      <td>(Smiths)</td>\n",
       "    </tr>\n",
       "    <tr>\n",
       "      <th>6</th>\n",
       "      <td>0.060380</td>\n",
       "      <td>(Thins)</td>\n",
       "    </tr>\n",
       "  </tbody>\n",
       "</table>\n",
       "</div>"
      ],
      "text/plain": [
       "    support         itemsets\n",
       "0  0.123142        (Doritos)\n",
       "1  0.064678      (Infuzions)\n",
       "2  0.199058         (Kettle)\n",
       "3  0.119880       (Pringles)\n",
       "4  0.050179  (Red Rock Deli)\n",
       "5  0.102895         (Smiths)\n",
       "6  0.060380          (Thins)"
      ]
     },
     "execution_count": 79,
     "metadata": {},
     "output_type": "execute_result"
    }
   ],
   "source": [
    "# Get the frequent itemsets\n",
    "frequent_itemsets = apriori(basket, min_support=0.05, use_colnames=True)\n",
    "frequent_itemsets"
   ]
  },
  {
   "cell_type": "code",
   "execution_count": 80,
   "metadata": {},
   "outputs": [],
   "source": [
    "# Create a function to run Apriori with support and lift metrics\n",
    "def basket(col, segment, lifestage, support, metric, mmin):\n",
    "    \"\"\" Return Apriori report of a certain customer segment\n",
    "    \n",
    "    Keyword arguments:\n",
    "    col -- the category of interest\n",
    "    segment -- the segment of interest\n",
    "    lifestage -- the lifestage of intesrest\n",
    "    support -- the support value in the apriori algorithm\n",
    "    metric -- the metric in the association rule\n",
    "    mmin -- the minimum threshold in the association rule\n",
    "    \n",
    "    \"\"\"\n",
    "    # Extract target data\n",
    "    data = df[(df['customer_type'] == segment) &\n",
    "              (df['lifestage'] == lifestage)][['txn_id', col, 'prod_qty']].reset_index(drop=True)\n",
    "    \n",
    "    # Convert to dummies\n",
    "    basket = data.groupby(['txn_id', col])['prod_qty'].sum().unstack().fillna(0)\n",
    "    basket[basket > 1] = 1 #Make sure there are only ones and zeroes\n",
    "    \n",
    "    # Get the frequent itemsets\n",
    "    frequent_itemsets = apriori(basket, min_support=support, use_colnames=True)\n",
    "    \n",
    "    # Print out result and table of combination if available\n",
    "    print(f\"There are {len(basket[basket.sum(axis=1) > 1])} (out of {data['txn_id'].nunique()}) transactions\")\n",
    "    print(f'that have more than one '+ col + '\\n')\n",
    "    print(f'There are maximum {basket.sum(axis=1).max()} ' + col + 's per transaction\\n')\n",
    "    print(f'There are {len(frequent_itemsets)} ' + col + 's that are likely to be bought')\n",
    "    print('in at least ' + str(support*100) + '% of total transactions')\n",
    "    if len(frequent_itemsets) == 0:\n",
    "        pass\n",
    "    else:\n",
    "        print(f\"\\n{frequent_itemsets.sort_values(['support'], ascending=False).reset_index(drop=True)}\\n\")\n",
    "        rules = association_rules(frequent_itemsets, metric=metric, min_threshold=mmin)\n",
    "        if len(rules) == 0:\n",
    "            print('But these ' + col + 's are not likely to be bought together')\n",
    "        else:\n",
    "            print(col + f's that are likely to be bought together\\n{rules}')"
   ]
  },
  {
   "cell_type": "code",
   "execution_count": 81,
   "metadata": {},
   "outputs": [
    {
     "name": "stdout",
     "output_type": "stream",
     "text": [
      "Number of unique transactions, brands, and product names:\n"
     ]
    },
    {
     "data": {
      "text/plain": [
       "txn_id       19311\n",
       "brand           19\n",
       "prod_name      106\n",
       "dtype: int64"
      ]
     },
     "execution_count": 81,
     "metadata": {},
     "output_type": "execute_result"
    }
   ],
   "source": [
    "# Print out number of unique transactions, brands, and product names in the target dataset\n",
    "print('Number of unique transactions, brands, and product names:')\n",
    "df[(df['customer_type'] == 'Mainstream') &\n",
    "   (df['lifestage'] == 'YOUNG SINGLES/COUPLES')][['txn_id', 'brand', 'prod_name']].nunique()"
   ]
  },
  {
   "cell_type": "markdown",
   "metadata": {},
   "source": [
    "We can set support metric for brand itemsets as 1/19 (0.05) and for product name itemsets as 1/106 (0.01)"
   ]
  },
  {
   "cell_type": "code",
   "execution_count": 82,
   "metadata": {},
   "outputs": [
    {
     "name": "stdout",
     "output_type": "stream",
     "text": [
      "There are 55 (out of 19311) transactions\n",
      "that have more than one brand\n",
      "\n",
      "There are maximum 3.0 brands per transaction\n",
      "\n",
      "There are 7 brands that are likely to be bought\n",
      "in at least 5.0% of total transactions\n",
      "\n",
      "    support         itemsets\n",
      "0  0.199058         (Kettle)\n",
      "1  0.123142        (Doritos)\n",
      "2  0.119880       (Pringles)\n",
      "3  0.102895         (Smiths)\n",
      "4  0.064678      (Infuzions)\n",
      "5  0.060380          (Thins)\n",
      "6  0.050179  (Red Rock Deli)\n",
      "\n",
      "But these brands are not likely to be bought together\n"
     ]
    }
   ],
   "source": [
    "# Apply basket function on brands\n",
    "basket('brand', 'Mainstream', 'YOUNG SINGLES/COUPLES', 0.05, 'lift', 0.7)"
   ]
  },
  {
   "cell_type": "markdown",
   "metadata": {},
   "source": [
    "There is no combination among brands when a customer in this group makes a transaction."
   ]
  },
  {
   "cell_type": "code",
   "execution_count": 83,
   "metadata": {
    "scrolled": false
   },
   "outputs": [
    {
     "name": "stdout",
     "output_type": "stream",
     "text": [
      "There are 58 (out of 19311) transactions\n",
      "that have more than one prod_name\n",
      "\n",
      "There are maximum 3.0 prod_names per transaction\n",
      "\n",
      "There are 53 prod_names that are likely to be bought\n",
      "in at least 1.0% of total transactions\n",
      "\n",
      "     support                                        itemsets\n",
      "0   0.017192               (Kettle Mozzarella Basil & Pesto)\n",
      "1   0.016882             (Doritos Corn Chips Cheese Supreme)\n",
      "2   0.016726         (Smiths Crinkle Chips Original Big Bag)\n",
      "3   0.016726  (Kettle Tortilla Chips Honey & Jalapeno Chili)\n",
      "4   0.016467              (Tyrrells Crisps Cheddar & Chives)\n",
      "5   0.016312                               (Twisties Cheese)\n",
      "6   0.016260           (Smiths Crinkle Chips Salt & Vinegar)\n",
      "7   0.016105                      (Pringles Mystery Flavour)\n",
      "8   0.015898             (Sunbites Grain Waves Sweet Chilli)\n",
      "9   0.015846         (Infuzions Thai Sweet Chili Potato Mix)\n",
      "10  0.015846            (Kettle Sweet Chilli And Sour Cream)\n",
      "11  0.015846               (Pringles Southern Fried Chicken)\n",
      "12  0.015794                              (Twisties Chicken)\n",
      "13  0.015794             (Kettle Sensations Camembert & Fig)\n",
      "14  0.015794                   (Kettle Sensations BBQ Maple)\n",
      "15  0.015742                   (Doritos Corn Chips Original)\n",
      "16  0.015691                    (Doritos Corn Chips Supreme)\n",
      "17  0.015691                        (Doritos Cheese Supreme)\n",
      "18  0.015587                (Tyrrells Crisps Lightly Salted)\n",
      "19  0.015535                   (Pringles Chicken Salt Chips)\n",
      "20  0.015483           (Cobs Popd Sour Cream & Chives Chips)\n",
      "21  0.015432                               (Kettle Original)\n",
      "22  0.015380     (Infuzions Sour Cream & Herb Veggie Straws)\n",
      "23  0.015328               (Doritos Corn Chips Nacho Cheese)\n",
      "24  0.015328              (Infuzions BBQ Rib Prawn Crackers)\n",
      "25  0.015173      (Cobs Popd Sweet Chili & Sour Cream Chips)\n",
      "26  0.015069                       (Smiths Crinkle Original)\n",
      "27  0.015017           (Doritos Corn Chips Mexican Jalapeno)\n",
      "28  0.015017                     (Kettle Sweet Pot Sea Salt)\n",
      "29  0.014914      (Infuzions Corn Crunchers Tangy Guacamole)\n",
      "30  0.014914           (Kettle Tortilla Chips Feta & Garlic)\n",
      "31  0.014862                (Thins Potato Chips Hot & Spicy)\n",
      "32  0.014862                               (Cheezels Cheese)\n",
      "33  0.014862                      (Pringles Original Crisps)\n",
      "34  0.014862                   (Kettle Sea Salt And Vinegar)\n",
      "35  0.014810                      (Kettle Honey Soy Chicken)\n",
      "36  0.014758                              (Doritos Mexicana)\n",
      "37  0.014707      (Kettle Tortilla Chips Beetroot & Ricotta)\n",
      "38  0.014707                                  (Pringles BBQ)\n",
      "39  0.014551                     (Pringles Sour Cream Onion)\n",
      "40  0.014500                        (Twisties Cheese Burger)\n",
      "41  0.014448                      (Tostitos Smoked Chipotle)\n",
      "42  0.014292                    (Pringles Sweet & Spicy BBQ)\n",
      "43  0.014292                       (Tostitos Lightly Salted)\n",
      "44  0.014137                (Kettle Sensations Siracha Lime)\n",
      "45  0.014085                      (Cobs Popd Sea Salt Chips)\n",
      "46  0.014085           (Doritos Corn Chips Southern Chicken)\n",
      "47  0.014033                  (Thins Chips Seasoned Chicken)\n",
      "48  0.013982                         (Pringles Salt Vinegar)\n",
      "49  0.013930      (Sunbites Grain Waves Sour Cream & Chives)\n",
      "50  0.013826                                 (Kettle Chilli)\n",
      "51  0.013671                     (Thins Chips Light & Tangy)\n",
      "52  0.013257                    (Thins Chips Salt & Vinegar)\n",
      "\n",
      "But these prod_names are not likely to be bought together\n"
     ]
    }
   ],
   "source": [
    "# Apply basket function on product names\n",
    "basket('prod_name', 'Mainstream', 'YOUNG SINGLES/COUPLES', 0.01, 'lift', 0.7)"
   ]
  },
  {
   "cell_type": "markdown",
   "metadata": {},
   "source": [
    "Same here, there is no combination among products."
   ]
  },
  {
   "cell_type": "markdown",
   "metadata": {},
   "source": [
    "Another point worth examining is whether or not our target is more likely to buy from one brand compared to other groups."
   ]
  },
  {
   "cell_type": "code",
   "execution_count": 84,
   "metadata": {},
   "outputs": [],
   "source": [
    "# Create a function to run Apriori and compare results between target and other groups\n",
    "def compare(col, segment, lifestage, mmin):\n",
    "    \"\"\" Return a table that compares support measures\n",
    "    between the target and others.\n",
    "    \n",
    "    Key arguments:\n",
    "    col -- the category of interest\n",
    "    segment -- the segment of interest\n",
    "    lifestage -- the lifestage of interest\n",
    "    mmin -- the support value in the apriori algorithm\n",
    "    \n",
    "    \"\"\"\n",
    "    # Extract data\n",
    "    target_df = df[(df['customer_type'] == segment) &\n",
    "                   (df['lifestage'] == lifestage)][['txn_id', col, 'prod_qty']].reset_index(drop=True)\n",
    "    others_df = df[(df['customer_type'] != segment) &\n",
    "                   (df['lifestage'] != lifestage)][['txn_id', col, 'prod_qty']].reset_index(drop=True)\n",
    "    \n",
    "    # Convert values into dummies\n",
    "    target_basket = target_df.groupby(['txn_id', col])['prod_qty'].sum().unstack().fillna(0)\n",
    "    others_basket = others_df.groupby(['txn_id', col])['prod_qty'].sum().unstack().fillna(0)\n",
    "    \n",
    "    # Make sure there are only ones and zeroes\n",
    "    target_basket[target_basket > 1] = 1\n",
    "    others_basket[others_basket > 1] = 1\n",
    "\n",
    "    # Get the frequent itemsets\n",
    "    target_itemsets = apriori(target_basket, min_support=mmin, use_colnames=True).set_index(['itemsets'])\n",
    "    others_itemsets = apriori(others_basket, min_support=mmin, use_colnames=True).set_index(['itemsets'])\n",
    "    \n",
    "    # Join these two itemsets and return result\n",
    "    compare = target_itemsets.join(others_itemsets, lsuffix='_target', rsuffix='_others', how='outer').reset_index()\n",
    "    compare['affinity'] = compare['support_target']/compare['support_others']\n",
    "    \n",
    "    return compare.sort_values(['affinity'], ascending=False).reset_index(drop=True)"
   ]
  },
  {
   "cell_type": "code",
   "execution_count": 85,
   "metadata": {},
   "outputs": [
    {
     "data": {
      "text/html": [
       "<div>\n",
       "<style scoped>\n",
       "    .dataframe tbody tr th:only-of-type {\n",
       "        vertical-align: middle;\n",
       "    }\n",
       "\n",
       "    .dataframe tbody tr th {\n",
       "        vertical-align: top;\n",
       "    }\n",
       "\n",
       "    .dataframe thead th {\n",
       "        text-align: right;\n",
       "    }\n",
       "</style>\n",
       "<table border=\"1\" class=\"dataframe\">\n",
       "  <thead>\n",
       "    <tr style=\"text-align: right;\">\n",
       "      <th></th>\n",
       "      <th>itemsets</th>\n",
       "      <th>support_target</th>\n",
       "      <th>support_others</th>\n",
       "      <th>affinity</th>\n",
       "    </tr>\n",
       "  </thead>\n",
       "  <tbody>\n",
       "    <tr>\n",
       "      <th>0</th>\n",
       "      <td>(Tyrrells)</td>\n",
       "      <td>0.032054</td>\n",
       "      <td>0.025859</td>\n",
       "      <td>1.239599</td>\n",
       "    </tr>\n",
       "    <tr>\n",
       "      <th>1</th>\n",
       "      <td>(Twisties)</td>\n",
       "      <td>0.046606</td>\n",
       "      <td>0.037962</td>\n",
       "      <td>1.227685</td>\n",
       "    </tr>\n",
       "    <tr>\n",
       "      <th>2</th>\n",
       "      <td>(Doritos)</td>\n",
       "      <td>0.123142</td>\n",
       "      <td>0.101453</td>\n",
       "      <td>1.213791</td>\n",
       "    </tr>\n",
       "    <tr>\n",
       "      <th>3</th>\n",
       "      <td>(Kettle)</td>\n",
       "      <td>0.199058</td>\n",
       "      <td>0.167328</td>\n",
       "      <td>1.189621</td>\n",
       "    </tr>\n",
       "    <tr>\n",
       "      <th>4</th>\n",
       "      <td>(Pringles)</td>\n",
       "      <td>0.119880</td>\n",
       "      <td>0.101445</td>\n",
       "      <td>1.181720</td>\n",
       "    </tr>\n",
       "    <tr>\n",
       "      <th>5</th>\n",
       "      <td>(Cobs)</td>\n",
       "      <td>0.044741</td>\n",
       "      <td>0.038696</td>\n",
       "      <td>1.156222</td>\n",
       "    </tr>\n",
       "    <tr>\n",
       "      <th>6</th>\n",
       "      <td>(Tostitos)</td>\n",
       "      <td>0.028740</td>\n",
       "      <td>0.025514</td>\n",
       "      <td>1.126461</td>\n",
       "    </tr>\n",
       "    <tr>\n",
       "      <th>7</th>\n",
       "      <td>(Infuzions)</td>\n",
       "      <td>0.064678</td>\n",
       "      <td>0.057890</td>\n",
       "      <td>1.117258</td>\n",
       "    </tr>\n",
       "    <tr>\n",
       "      <th>8</th>\n",
       "      <td>(Thins)</td>\n",
       "      <td>0.060380</td>\n",
       "      <td>0.057582</td>\n",
       "      <td>1.048597</td>\n",
       "    </tr>\n",
       "    <tr>\n",
       "      <th>9</th>\n",
       "      <td>(Cheezels)</td>\n",
       "      <td>0.017917</td>\n",
       "      <td>0.019076</td>\n",
       "      <td>0.939232</td>\n",
       "    </tr>\n",
       "    <tr>\n",
       "      <th>10</th>\n",
       "      <td>(Sunbites)</td>\n",
       "      <td>0.040081</td>\n",
       "      <td>0.044076</td>\n",
       "      <td>0.909350</td>\n",
       "    </tr>\n",
       "    <tr>\n",
       "      <th>11</th>\n",
       "      <td>(Smiths)</td>\n",
       "      <td>0.102895</td>\n",
       "      <td>0.131304</td>\n",
       "      <td>0.783637</td>\n",
       "    </tr>\n",
       "    <tr>\n",
       "      <th>12</th>\n",
       "      <td>(Cheetos)</td>\n",
       "      <td>0.008596</td>\n",
       "      <td>0.011876</td>\n",
       "      <td>0.723823</td>\n",
       "    </tr>\n",
       "    <tr>\n",
       "      <th>13</th>\n",
       "      <td>(French Fries)</td>\n",
       "      <td>0.004039</td>\n",
       "      <td>0.005835</td>\n",
       "      <td>0.692198</td>\n",
       "    </tr>\n",
       "    <tr>\n",
       "      <th>14</th>\n",
       "      <td>(Red Rock Deli)</td>\n",
       "      <td>0.050179</td>\n",
       "      <td>0.074126</td>\n",
       "      <td>0.676937</td>\n",
       "    </tr>\n",
       "    <tr>\n",
       "      <th>15</th>\n",
       "      <td>(Natural Chip Co)</td>\n",
       "      <td>0.020403</td>\n",
       "      <td>0.031400</td>\n",
       "      <td>0.649768</td>\n",
       "    </tr>\n",
       "    <tr>\n",
       "      <th>16</th>\n",
       "      <td>(CCs)</td>\n",
       "      <td>0.011496</td>\n",
       "      <td>0.018687</td>\n",
       "      <td>0.615174</td>\n",
       "    </tr>\n",
       "    <tr>\n",
       "      <th>17</th>\n",
       "      <td>(Woolworths)</td>\n",
       "      <td>0.024805</td>\n",
       "      <td>0.049420</td>\n",
       "      <td>0.501915</td>\n",
       "    </tr>\n",
       "    <tr>\n",
       "      <th>18</th>\n",
       "      <td>(Burger Rings)</td>\n",
       "      <td>0.003211</td>\n",
       "      <td>0.006606</td>\n",
       "      <td>0.486018</td>\n",
       "    </tr>\n",
       "  </tbody>\n",
       "</table>\n",
       "</div>"
      ],
      "text/plain": [
       "             itemsets  support_target  support_others  affinity\n",
       "0          (Tyrrells)        0.032054        0.025859  1.239599\n",
       "1          (Twisties)        0.046606        0.037962  1.227685\n",
       "2           (Doritos)        0.123142        0.101453  1.213791\n",
       "3            (Kettle)        0.199058        0.167328  1.189621\n",
       "4          (Pringles)        0.119880        0.101445  1.181720\n",
       "5              (Cobs)        0.044741        0.038696  1.156222\n",
       "6          (Tostitos)        0.028740        0.025514  1.126461\n",
       "7         (Infuzions)        0.064678        0.057890  1.117258\n",
       "8             (Thins)        0.060380        0.057582  1.048597\n",
       "9          (Cheezels)        0.017917        0.019076  0.939232\n",
       "10         (Sunbites)        0.040081        0.044076  0.909350\n",
       "11           (Smiths)        0.102895        0.131304  0.783637\n",
       "12          (Cheetos)        0.008596        0.011876  0.723823\n",
       "13     (French Fries)        0.004039        0.005835  0.692198\n",
       "14    (Red Rock Deli)        0.050179        0.074126  0.676937\n",
       "15  (Natural Chip Co)        0.020403        0.031400  0.649768\n",
       "16              (CCs)        0.011496        0.018687  0.615174\n",
       "17       (Woolworths)        0.024805        0.049420  0.501915\n",
       "18     (Burger Rings)        0.003211        0.006606  0.486018"
      ]
     },
     "execution_count": 85,
     "metadata": {},
     "output_type": "execute_result"
    }
   ],
   "source": [
    "# Apply compare function on brands\n",
    "compare('brand', 'Mainstream', 'YOUNG SINGLES/COUPLES', 0.001)"
   ]
  },
  {
   "cell_type": "markdown",
   "metadata": {},
   "source": [
    "Affinity column lets us know how greater or lesser support metrics of itemsets in the target group are, comparing to those in other groups, for example:\n",
    "- Mainstream young singles/couples are 24% more likely to buy from Tyrrells compared to other groups\n",
    "- But they are 52% less likely to buy from Burger Rings compared to other groups\n",
    "\n",
    "Since our target has a tendency to buy big bags, let's see which size is the most preferable."
   ]
  },
  {
   "cell_type": "code",
   "execution_count": 86,
   "metadata": {},
   "outputs": [
    {
     "data": {
      "text/html": [
       "<div>\n",
       "<style scoped>\n",
       "    .dataframe tbody tr th:only-of-type {\n",
       "        vertical-align: middle;\n",
       "    }\n",
       "\n",
       "    .dataframe tbody tr th {\n",
       "        vertical-align: top;\n",
       "    }\n",
       "\n",
       "    .dataframe thead th {\n",
       "        text-align: right;\n",
       "    }\n",
       "</style>\n",
       "<table border=\"1\" class=\"dataframe\">\n",
       "  <thead>\n",
       "    <tr style=\"text-align: right;\">\n",
       "      <th></th>\n",
       "      <th>itemsets</th>\n",
       "      <th>support_target</th>\n",
       "      <th>support_others</th>\n",
       "      <th>affinity</th>\n",
       "    </tr>\n",
       "  </thead>\n",
       "  <tbody>\n",
       "    <tr>\n",
       "      <th>0</th>\n",
       "      <td>(270)</td>\n",
       "      <td>0.032106</td>\n",
       "      <td>0.025066</td>\n",
       "      <td>1.280867</td>\n",
       "    </tr>\n",
       "    <tr>\n",
       "      <th>1</th>\n",
       "      <td>(380)</td>\n",
       "      <td>0.032417</td>\n",
       "      <td>0.025859</td>\n",
       "      <td>1.253617</td>\n",
       "    </tr>\n",
       "    <tr>\n",
       "      <th>2</th>\n",
       "      <td>(330)</td>\n",
       "      <td>0.061882</td>\n",
       "      <td>0.051145</td>\n",
       "      <td>1.209937</td>\n",
       "    </tr>\n",
       "    <tr>\n",
       "      <th>3</th>\n",
       "      <td>(210)</td>\n",
       "      <td>0.029828</td>\n",
       "      <td>0.025088</td>\n",
       "      <td>1.188922</td>\n",
       "    </tr>\n",
       "    <tr>\n",
       "      <th>4</th>\n",
       "      <td>(134)</td>\n",
       "      <td>0.119880</td>\n",
       "      <td>0.101445</td>\n",
       "      <td>1.181720</td>\n",
       "    </tr>\n",
       "    <tr>\n",
       "      <th>5</th>\n",
       "      <td>(110)</td>\n",
       "      <td>0.106157</td>\n",
       "      <td>0.090215</td>\n",
       "      <td>1.176711</td>\n",
       "    </tr>\n",
       "    <tr>\n",
       "      <th>6</th>\n",
       "      <td>(135)</td>\n",
       "      <td>0.015017</td>\n",
       "      <td>0.013058</td>\n",
       "      <td>1.150072</td>\n",
       "    </tr>\n",
       "    <tr>\n",
       "      <th>7</th>\n",
       "      <td>(250)</td>\n",
       "      <td>0.014500</td>\n",
       "      <td>0.012911</td>\n",
       "      <td>1.123040</td>\n",
       "    </tr>\n",
       "    <tr>\n",
       "      <th>8</th>\n",
       "      <td>(170)</td>\n",
       "      <td>0.081456</td>\n",
       "      <td>0.080835</td>\n",
       "      <td>1.007688</td>\n",
       "    </tr>\n",
       "    <tr>\n",
       "      <th>9</th>\n",
       "      <td>(150)</td>\n",
       "      <td>0.167728</td>\n",
       "      <td>0.176452</td>\n",
       "      <td>0.950560</td>\n",
       "    </tr>\n",
       "    <tr>\n",
       "      <th>10</th>\n",
       "      <td>(175)</td>\n",
       "      <td>0.241210</td>\n",
       "      <td>0.260245</td>\n",
       "      <td>0.926857</td>\n",
       "    </tr>\n",
       "    <tr>\n",
       "      <th>11</th>\n",
       "      <td>(165)</td>\n",
       "      <td>0.057066</td>\n",
       "      <td>0.062133</td>\n",
       "      <td>0.918455</td>\n",
       "    </tr>\n",
       "    <tr>\n",
       "      <th>12</th>\n",
       "      <td>(190)</td>\n",
       "      <td>0.007664</td>\n",
       "      <td>0.012221</td>\n",
       "      <td>0.627120</td>\n",
       "    </tr>\n",
       "    <tr>\n",
       "      <th>13</th>\n",
       "      <td>(180)</td>\n",
       "      <td>0.003625</td>\n",
       "      <td>0.006268</td>\n",
       "      <td>0.578287</td>\n",
       "    </tr>\n",
       "    <tr>\n",
       "      <th>14</th>\n",
       "      <td>(160)</td>\n",
       "      <td>0.006628</td>\n",
       "      <td>0.012427</td>\n",
       "      <td>0.533404</td>\n",
       "    </tr>\n",
       "    <tr>\n",
       "      <th>15</th>\n",
       "      <td>(90)</td>\n",
       "      <td>0.006628</td>\n",
       "      <td>0.012720</td>\n",
       "      <td>0.521092</td>\n",
       "    </tr>\n",
       "    <tr>\n",
       "      <th>16</th>\n",
       "      <td>(70)</td>\n",
       "      <td>0.003262</td>\n",
       "      <td>0.006349</td>\n",
       "      <td>0.513840</td>\n",
       "    </tr>\n",
       "    <tr>\n",
       "      <th>17</th>\n",
       "      <td>(125)</td>\n",
       "      <td>0.003055</td>\n",
       "      <td>0.006099</td>\n",
       "      <td>0.500903</td>\n",
       "    </tr>\n",
       "    <tr>\n",
       "      <th>18</th>\n",
       "      <td>(200)</td>\n",
       "      <td>0.009269</td>\n",
       "      <td>0.018790</td>\n",
       "      <td>0.493306</td>\n",
       "    </tr>\n",
       "    <tr>\n",
       "      <th>19</th>\n",
       "      <td>(220)</td>\n",
       "      <td>0.003211</td>\n",
       "      <td>0.006606</td>\n",
       "      <td>0.486018</td>\n",
       "    </tr>\n",
       "  </tbody>\n",
       "</table>\n",
       "</div>"
      ],
      "text/plain": [
       "   itemsets  support_target  support_others  affinity\n",
       "0     (270)        0.032106        0.025066  1.280867\n",
       "1     (380)        0.032417        0.025859  1.253617\n",
       "2     (330)        0.061882        0.051145  1.209937\n",
       "3     (210)        0.029828        0.025088  1.188922\n",
       "4     (134)        0.119880        0.101445  1.181720\n",
       "5     (110)        0.106157        0.090215  1.176711\n",
       "6     (135)        0.015017        0.013058  1.150072\n",
       "7     (250)        0.014500        0.012911  1.123040\n",
       "8     (170)        0.081456        0.080835  1.007688\n",
       "9     (150)        0.167728        0.176452  0.950560\n",
       "10    (175)        0.241210        0.260245  0.926857\n",
       "11    (165)        0.057066        0.062133  0.918455\n",
       "12    (190)        0.007664        0.012221  0.627120\n",
       "13    (180)        0.003625        0.006268  0.578287\n",
       "14    (160)        0.006628        0.012427  0.533404\n",
       "15     (90)        0.006628        0.012720  0.521092\n",
       "16     (70)        0.003262        0.006349  0.513840\n",
       "17    (125)        0.003055        0.006099  0.500903\n",
       "18    (200)        0.009269        0.018790  0.493306\n",
       "19    (220)        0.003211        0.006606  0.486018"
      ]
     },
     "execution_count": 86,
     "metadata": {},
     "output_type": "execute_result"
    }
   ],
   "source": [
    "# Apply compare function on product sizes\n",
    "compare('prod_size', 'Mainstream', 'YOUNG SINGLES/COUPLES', 0.001)"
   ]
  },
  {
   "cell_type": "markdown",
   "metadata": {},
   "source": [
    "They are 28% more likely to buy 270g bags of chips compared to other groups. We also have 330g and 380g are the most largest sizes. Which products have these sizes?"
   ]
  },
  {
   "cell_type": "code",
   "execution_count": 87,
   "metadata": {},
   "outputs": [
    {
     "data": {
      "text/html": [
       "<div>\n",
       "<style scoped>\n",
       "    .dataframe tbody tr th:only-of-type {\n",
       "        vertical-align: middle;\n",
       "    }\n",
       "\n",
       "    .dataframe tbody tr th {\n",
       "        vertical-align: top;\n",
       "    }\n",
       "\n",
       "    .dataframe thead th {\n",
       "        text-align: right;\n",
       "    }\n",
       "</style>\n",
       "<table border=\"1\" class=\"dataframe\">\n",
       "  <thead>\n",
       "    <tr style=\"text-align: right;\">\n",
       "      <th></th>\n",
       "      <th>prod_size</th>\n",
       "      <th>prod_name</th>\n",
       "    </tr>\n",
       "  </thead>\n",
       "  <tbody>\n",
       "    <tr>\n",
       "      <th>19</th>\n",
       "      <td>380</td>\n",
       "      <td>Smiths Crinkle Chips Original Big Bag; Doritos Corn Chips Supreme</td>\n",
       "    </tr>\n",
       "    <tr>\n",
       "      <th>18</th>\n",
       "      <td>330</td>\n",
       "      <td>Cheezels Cheese; Smiths Crinkle Chips Salt &amp; Vinegar; Smiths Crinkle Original; Doritos Cheese Supreme</td>\n",
       "    </tr>\n",
       "    <tr>\n",
       "      <th>17</th>\n",
       "      <td>270</td>\n",
       "      <td>Twisties Cheese; Twisties Chicken</td>\n",
       "    </tr>\n",
       "  </tbody>\n",
       "</table>\n",
       "</div>"
      ],
      "text/plain": [
       "    prod_size  \\\n",
       "19        380   \n",
       "18        330   \n",
       "17        270   \n",
       "\n",
       "                                                                                                prod_name  \n",
       "19                                      Smiths Crinkle Chips Original Big Bag; Doritos Corn Chips Supreme  \n",
       "18  Cheezels Cheese; Smiths Crinkle Chips Salt & Vinegar; Smiths Crinkle Original; Doritos Cheese Supreme  \n",
       "17                                                                      Twisties Cheese; Twisties Chicken  "
      ]
     },
     "execution_count": 87,
     "metadata": {},
     "output_type": "execute_result"
    }
   ],
   "source": [
    "# Print out product names that have size of 270g or above\n",
    "df[['prod_size', 'prod_name']].groupby('prod_size').\\\n",
    "agg(lambda x: '; '.join(set(x))).reset_index().nlargest(3, 'prod_size')"
   ]
  },
  {
   "cell_type": "markdown",
   "metadata": {},
   "source": [
    "Only Twisties has 270g bags.<br>\n",
    "To make it clearer, let's make another comparison to see which products they are likely to buy more than others."
   ]
  },
  {
   "cell_type": "code",
   "execution_count": 88,
   "metadata": {},
   "outputs": [
    {
     "data": {
      "text/html": [
       "<div>\n",
       "<style scoped>\n",
       "    .dataframe tbody tr th:only-of-type {\n",
       "        vertical-align: middle;\n",
       "    }\n",
       "\n",
       "    .dataframe tbody tr th {\n",
       "        vertical-align: top;\n",
       "    }\n",
       "\n",
       "    .dataframe thead th {\n",
       "        text-align: right;\n",
       "    }\n",
       "</style>\n",
       "<table border=\"1\" class=\"dataframe\">\n",
       "  <thead>\n",
       "    <tr style=\"text-align: right;\">\n",
       "      <th></th>\n",
       "      <th>itemsets</th>\n",
       "      <th>support_target</th>\n",
       "      <th>support_others</th>\n",
       "      <th>affinity</th>\n",
       "    </tr>\n",
       "  </thead>\n",
       "  <tbody>\n",
       "    <tr>\n",
       "      <th>0</th>\n",
       "      <td>(Twisties Cheese)</td>\n",
       "      <td>0.016312</td>\n",
       "      <td>0.012471</td>\n",
       "      <td>1.308038</td>\n",
       "    </tr>\n",
       "    <tr>\n",
       "      <th>1</th>\n",
       "      <td>(Smiths Crinkle Chips Original Big Bag)</td>\n",
       "      <td>0.016726</td>\n",
       "      <td>0.012940</td>\n",
       "      <td>1.292568</td>\n",
       "    </tr>\n",
       "    <tr>\n",
       "      <th>2</th>\n",
       "      <td>(Pringles Mystery Flavour)</td>\n",
       "      <td>0.016105</td>\n",
       "      <td>0.012507</td>\n",
       "      <td>1.287638</td>\n",
       "    </tr>\n",
       "    <tr>\n",
       "      <th>3</th>\n",
       "      <td>(Doritos Corn Chips Cheese Supreme)</td>\n",
       "      <td>0.016882</td>\n",
       "      <td>0.013124</td>\n",
       "      <td>1.286332</td>\n",
       "    </tr>\n",
       "    <tr>\n",
       "      <th>4</th>\n",
       "      <td>(Kettle Sensations BBQ Maple)</td>\n",
       "      <td>0.015794</td>\n",
       "      <td>0.012324</td>\n",
       "      <td>1.281599</td>\n",
       "    </tr>\n",
       "    <tr>\n",
       "      <th>5</th>\n",
       "      <td>(Pringles Southern Fried Chicken)</td>\n",
       "      <td>0.015846</td>\n",
       "      <td>0.012397</td>\n",
       "      <td>1.278188</td>\n",
       "    </tr>\n",
       "    <tr>\n",
       "      <th>6</th>\n",
       "      <td>(Doritos Cheese Supreme)</td>\n",
       "      <td>0.015691</td>\n",
       "      <td>0.012360</td>\n",
       "      <td>1.269415</td>\n",
       "    </tr>\n",
       "    <tr>\n",
       "      <th>7</th>\n",
       "      <td>(Kettle Mozzarella Basil &amp; Pesto)</td>\n",
       "      <td>0.017192</td>\n",
       "      <td>0.013550</td>\n",
       "      <td>1.268848</td>\n",
       "    </tr>\n",
       "    <tr>\n",
       "      <th>8</th>\n",
       "      <td>(Kettle Tortilla Chips Honey &amp; Jalapeno Chili)</td>\n",
       "      <td>0.016726</td>\n",
       "      <td>0.013190</td>\n",
       "      <td>1.268112</td>\n",
       "    </tr>\n",
       "    <tr>\n",
       "      <th>9</th>\n",
       "      <td>(Doritos Corn Chips Original)</td>\n",
       "      <td>0.015742</td>\n",
       "      <td>0.012441</td>\n",
       "      <td>1.265339</td>\n",
       "    </tr>\n",
       "    <tr>\n",
       "      <th>10</th>\n",
       "      <td>(Smiths Crinkle Chips Salt &amp; Vinegar)</td>\n",
       "      <td>0.016260</td>\n",
       "      <td>0.012867</td>\n",
       "      <td>1.263720</td>\n",
       "    </tr>\n",
       "    <tr>\n",
       "      <th>11</th>\n",
       "      <td>(Tyrrells Crisps Cheddar &amp; Chives)</td>\n",
       "      <td>0.016467</td>\n",
       "      <td>0.013102</td>\n",
       "      <td>1.256875</td>\n",
       "    </tr>\n",
       "    <tr>\n",
       "      <th>12</th>\n",
       "      <td>(Sunbites Grain Waves Sweet Chilli)</td>\n",
       "      <td>0.015898</td>\n",
       "      <td>0.012669</td>\n",
       "      <td>1.254876</td>\n",
       "    </tr>\n",
       "    <tr>\n",
       "      <th>13</th>\n",
       "      <td>(Twisties Chicken)</td>\n",
       "      <td>0.015794</td>\n",
       "      <td>0.012595</td>\n",
       "      <td>1.253966</td>\n",
       "    </tr>\n",
       "    <tr>\n",
       "      <th>14</th>\n",
       "      <td>(Cobs Popd Sour Cream &amp; Chives Chips)</td>\n",
       "      <td>0.015483</td>\n",
       "      <td>0.012544</td>\n",
       "      <td>1.234333</td>\n",
       "    </tr>\n",
       "    <tr>\n",
       "      <th>15</th>\n",
       "      <td>(Doritos Corn Chips Nacho Cheese)</td>\n",
       "      <td>0.015328</td>\n",
       "      <td>0.012493</td>\n",
       "      <td>1.226974</td>\n",
       "    </tr>\n",
       "    <tr>\n",
       "      <th>16</th>\n",
       "      <td>(Kettle Sensations Camembert &amp; Fig)</td>\n",
       "      <td>0.015794</td>\n",
       "      <td>0.012918</td>\n",
       "      <td>1.222616</td>\n",
       "    </tr>\n",
       "    <tr>\n",
       "      <th>17</th>\n",
       "      <td>(Tyrrells Crisps Lightly Salted)</td>\n",
       "      <td>0.015587</td>\n",
       "      <td>0.012757</td>\n",
       "      <td>1.221855</td>\n",
       "    </tr>\n",
       "    <tr>\n",
       "      <th>18</th>\n",
       "      <td>(Pringles Chicken Salt Chips)</td>\n",
       "      <td>0.015535</td>\n",
       "      <td>0.012727</td>\n",
       "      <td>1.220605</td>\n",
       "    </tr>\n",
       "    <tr>\n",
       "      <th>19</th>\n",
       "      <td>(Doritos Corn Chips Supreme)</td>\n",
       "      <td>0.015691</td>\n",
       "      <td>0.012926</td>\n",
       "      <td>1.213910</td>\n",
       "    </tr>\n",
       "    <tr>\n",
       "      <th>20</th>\n",
       "      <td>(Kettle Sweet Chilli And Sour Cream)</td>\n",
       "      <td>0.015846</td>\n",
       "      <td>0.013087</td>\n",
       "      <td>1.210802</td>\n",
       "    </tr>\n",
       "    <tr>\n",
       "      <th>21</th>\n",
       "      <td>(Infuzions Thai Sweet Chili Potato Mix)</td>\n",
       "      <td>0.015846</td>\n",
       "      <td>0.013161</td>\n",
       "      <td>1.204049</td>\n",
       "    </tr>\n",
       "    <tr>\n",
       "      <th>22</th>\n",
       "      <td>(Infuzions BBQ Rib Prawn Crackers)</td>\n",
       "      <td>0.015328</td>\n",
       "      <td>0.012816</td>\n",
       "      <td>1.196053</td>\n",
       "    </tr>\n",
       "    <tr>\n",
       "      <th>23</th>\n",
       "      <td>(Kettle Tortilla Chips Feta &amp; Garlic)</td>\n",
       "      <td>0.014914</td>\n",
       "      <td>0.012537</td>\n",
       "      <td>1.189618</td>\n",
       "    </tr>\n",
       "    <tr>\n",
       "      <th>24</th>\n",
       "      <td>(Infuzions Sour Cream &amp; Herb Veggie Straws)</td>\n",
       "      <td>0.015380</td>\n",
       "      <td>0.012933</td>\n",
       "      <td>1.189196</td>\n",
       "    </tr>\n",
       "    <tr>\n",
       "      <th>25</th>\n",
       "      <td>(Doritos Mexicana)</td>\n",
       "      <td>0.014758</td>\n",
       "      <td>0.012427</td>\n",
       "      <td>1.187657</td>\n",
       "    </tr>\n",
       "    <tr>\n",
       "      <th>26</th>\n",
       "      <td>(Pringles Original Crisps)</td>\n",
       "      <td>0.014862</td>\n",
       "      <td>0.012566</td>\n",
       "      <td>1.182718</td>\n",
       "    </tr>\n",
       "    <tr>\n",
       "      <th>27</th>\n",
       "      <td>(Kettle Original)</td>\n",
       "      <td>0.015432</td>\n",
       "      <td>0.013065</td>\n",
       "      <td>1.181134</td>\n",
       "    </tr>\n",
       "    <tr>\n",
       "      <th>28</th>\n",
       "      <td>(Infuzions Corn Crunchers Tangy Guacamole)</td>\n",
       "      <td>0.014914</td>\n",
       "      <td>0.012639</td>\n",
       "      <td>1.179947</td>\n",
       "    </tr>\n",
       "    <tr>\n",
       "      <th>29</th>\n",
       "      <td>(Doritos Corn Chips Mexican Jalapeno)</td>\n",
       "      <td>0.015017</td>\n",
       "      <td>0.012742</td>\n",
       "      <td>1.178559</td>\n",
       "    </tr>\n",
       "    <tr>\n",
       "      <th>30</th>\n",
       "      <td>(Cobs Popd Sweet Chili &amp; Sour Cream Chips)</td>\n",
       "      <td>0.015173</td>\n",
       "      <td>0.013014</td>\n",
       "      <td>1.165902</td>\n",
       "    </tr>\n",
       "    <tr>\n",
       "      <th>31</th>\n",
       "      <td>(Smiths Crinkle Original)</td>\n",
       "      <td>0.015069</td>\n",
       "      <td>0.012962</td>\n",
       "      <td>1.162533</td>\n",
       "    </tr>\n",
       "    <tr>\n",
       "      <th>32</th>\n",
       "      <td>(Kettle Honey Soy Chicken)</td>\n",
       "      <td>0.014810</td>\n",
       "      <td>0.012830</td>\n",
       "      <td>1.154324</td>\n",
       "    </tr>\n",
       "    <tr>\n",
       "      <th>33</th>\n",
       "      <td>(Kettle Tortilla Chips Beetroot &amp; Ricotta)</td>\n",
       "      <td>0.014707</td>\n",
       "      <td>0.012757</td>\n",
       "      <td>1.152847</td>\n",
       "    </tr>\n",
       "    <tr>\n",
       "      <th>34</th>\n",
       "      <td>(Kettle Sweet Pot Sea Salt)</td>\n",
       "      <td>0.015017</td>\n",
       "      <td>0.013058</td>\n",
       "      <td>1.150072</td>\n",
       "    </tr>\n",
       "    <tr>\n",
       "      <th>35</th>\n",
       "      <td>(Cheezels Cheese)</td>\n",
       "      <td>0.014862</td>\n",
       "      <td>0.012984</td>\n",
       "      <td>1.144609</td>\n",
       "    </tr>\n",
       "    <tr>\n",
       "      <th>36</th>\n",
       "      <td>(Kettle Sea Salt And Vinegar)</td>\n",
       "      <td>0.014862</td>\n",
       "      <td>0.012984</td>\n",
       "      <td>1.144609</td>\n",
       "    </tr>\n",
       "    <tr>\n",
       "      <th>37</th>\n",
       "      <td>(Thins Potato Chips Hot &amp; Spicy)</td>\n",
       "      <td>0.014862</td>\n",
       "      <td>0.013036</td>\n",
       "      <td>1.140098</td>\n",
       "    </tr>\n",
       "    <tr>\n",
       "      <th>38</th>\n",
       "      <td>(Pringles Salt Vinegar)</td>\n",
       "      <td>0.013982</td>\n",
       "      <td>0.012287</td>\n",
       "      <td>1.137919</td>\n",
       "    </tr>\n",
       "    <tr>\n",
       "      <th>39</th>\n",
       "      <td>(Tostitos Smoked Chipotle)</td>\n",
       "      <td>0.014448</td>\n",
       "      <td>0.012705</td>\n",
       "      <td>1.137130</td>\n",
       "    </tr>\n",
       "    <tr>\n",
       "      <th>40</th>\n",
       "      <td>(Pringles Sweet &amp; Spicy BBQ)</td>\n",
       "      <td>0.014292</td>\n",
       "      <td>0.012639</td>\n",
       "      <td>1.130782</td>\n",
       "    </tr>\n",
       "    <tr>\n",
       "      <th>41</th>\n",
       "      <td>(Kettle Sensations Siracha Lime)</td>\n",
       "      <td>0.014137</td>\n",
       "      <td>0.012515</td>\n",
       "      <td>1.129643</td>\n",
       "    </tr>\n",
       "    <tr>\n",
       "      <th>42</th>\n",
       "      <td>(Thins Chips Seasoned Chicken)</td>\n",
       "      <td>0.014033</td>\n",
       "      <td>0.012449</td>\n",
       "      <td>1.127318</td>\n",
       "    </tr>\n",
       "    <tr>\n",
       "      <th>43</th>\n",
       "      <td>(Twisties Cheese Burger)</td>\n",
       "      <td>0.014500</td>\n",
       "      <td>0.012911</td>\n",
       "      <td>1.123040</td>\n",
       "    </tr>\n",
       "    <tr>\n",
       "      <th>44</th>\n",
       "      <td>(Sunbites Grain Waves Sour Cream &amp; Chives)</td>\n",
       "      <td>0.013930</td>\n",
       "      <td>0.012427</td>\n",
       "      <td>1.120981</td>\n",
       "    </tr>\n",
       "    <tr>\n",
       "      <th>45</th>\n",
       "      <td>(Tostitos Lightly Salted)</td>\n",
       "      <td>0.014292</td>\n",
       "      <td>0.012808</td>\n",
       "      <td>1.115878</td>\n",
       "    </tr>\n",
       "    <tr>\n",
       "      <th>46</th>\n",
       "      <td>(Pringles BBQ)</td>\n",
       "      <td>0.014707</td>\n",
       "      <td>0.013183</td>\n",
       "      <td>1.115617</td>\n",
       "    </tr>\n",
       "    <tr>\n",
       "      <th>47</th>\n",
       "      <td>(Pringles Sour Cream Onion)</td>\n",
       "      <td>0.014551</td>\n",
       "      <td>0.013197</td>\n",
       "      <td>1.102604</td>\n",
       "    </tr>\n",
       "    <tr>\n",
       "      <th>48</th>\n",
       "      <td>(Kettle Chilli)</td>\n",
       "      <td>0.013826</td>\n",
       "      <td>0.012654</td>\n",
       "      <td>1.092640</td>\n",
       "    </tr>\n",
       "    <tr>\n",
       "      <th>49</th>\n",
       "      <td>(Doritos Corn Chips Southern Chicken)</td>\n",
       "      <td>0.014085</td>\n",
       "      <td>0.013058</td>\n",
       "      <td>1.078688</td>\n",
       "    </tr>\n",
       "    <tr>\n",
       "      <th>50</th>\n",
       "      <td>(Cobs Popd Sea Salt Chips)</td>\n",
       "      <td>0.014085</td>\n",
       "      <td>0.013138</td>\n",
       "      <td>1.072060</td>\n",
       "    </tr>\n",
       "    <tr>\n",
       "      <th>51</th>\n",
       "      <td>(Thins Chips Salt &amp; Vinegar)</td>\n",
       "      <td>0.013257</td>\n",
       "      <td>0.012794</td>\n",
       "      <td>1.036205</td>\n",
       "    </tr>\n",
       "    <tr>\n",
       "      <th>52</th>\n",
       "      <td>(Thins Chips Light &amp; Tangy)</td>\n",
       "      <td>0.013671</td>\n",
       "      <td>0.013241</td>\n",
       "      <td>1.032453</td>\n",
       "    </tr>\n",
       "  </tbody>\n",
       "</table>\n",
       "</div>"
      ],
      "text/plain": [
       "                                          itemsets  support_target  \\\n",
       "0                                (Twisties Cheese)        0.016312   \n",
       "1          (Smiths Crinkle Chips Original Big Bag)        0.016726   \n",
       "2                       (Pringles Mystery Flavour)        0.016105   \n",
       "3              (Doritos Corn Chips Cheese Supreme)        0.016882   \n",
       "4                    (Kettle Sensations BBQ Maple)        0.015794   \n",
       "5                (Pringles Southern Fried Chicken)        0.015846   \n",
       "6                         (Doritos Cheese Supreme)        0.015691   \n",
       "7                (Kettle Mozzarella Basil & Pesto)        0.017192   \n",
       "8   (Kettle Tortilla Chips Honey & Jalapeno Chili)        0.016726   \n",
       "9                    (Doritos Corn Chips Original)        0.015742   \n",
       "10           (Smiths Crinkle Chips Salt & Vinegar)        0.016260   \n",
       "11              (Tyrrells Crisps Cheddar & Chives)        0.016467   \n",
       "12             (Sunbites Grain Waves Sweet Chilli)        0.015898   \n",
       "13                              (Twisties Chicken)        0.015794   \n",
       "14           (Cobs Popd Sour Cream & Chives Chips)        0.015483   \n",
       "15               (Doritos Corn Chips Nacho Cheese)        0.015328   \n",
       "16             (Kettle Sensations Camembert & Fig)        0.015794   \n",
       "17                (Tyrrells Crisps Lightly Salted)        0.015587   \n",
       "18                   (Pringles Chicken Salt Chips)        0.015535   \n",
       "19                    (Doritos Corn Chips Supreme)        0.015691   \n",
       "20            (Kettle Sweet Chilli And Sour Cream)        0.015846   \n",
       "21         (Infuzions Thai Sweet Chili Potato Mix)        0.015846   \n",
       "22              (Infuzions BBQ Rib Prawn Crackers)        0.015328   \n",
       "23           (Kettle Tortilla Chips Feta & Garlic)        0.014914   \n",
       "24     (Infuzions Sour Cream & Herb Veggie Straws)        0.015380   \n",
       "25                              (Doritos Mexicana)        0.014758   \n",
       "26                      (Pringles Original Crisps)        0.014862   \n",
       "27                               (Kettle Original)        0.015432   \n",
       "28      (Infuzions Corn Crunchers Tangy Guacamole)        0.014914   \n",
       "29           (Doritos Corn Chips Mexican Jalapeno)        0.015017   \n",
       "30      (Cobs Popd Sweet Chili & Sour Cream Chips)        0.015173   \n",
       "31                       (Smiths Crinkle Original)        0.015069   \n",
       "32                      (Kettle Honey Soy Chicken)        0.014810   \n",
       "33      (Kettle Tortilla Chips Beetroot & Ricotta)        0.014707   \n",
       "34                     (Kettle Sweet Pot Sea Salt)        0.015017   \n",
       "35                               (Cheezels Cheese)        0.014862   \n",
       "36                   (Kettle Sea Salt And Vinegar)        0.014862   \n",
       "37                (Thins Potato Chips Hot & Spicy)        0.014862   \n",
       "38                         (Pringles Salt Vinegar)        0.013982   \n",
       "39                      (Tostitos Smoked Chipotle)        0.014448   \n",
       "40                    (Pringles Sweet & Spicy BBQ)        0.014292   \n",
       "41                (Kettle Sensations Siracha Lime)        0.014137   \n",
       "42                  (Thins Chips Seasoned Chicken)        0.014033   \n",
       "43                        (Twisties Cheese Burger)        0.014500   \n",
       "44      (Sunbites Grain Waves Sour Cream & Chives)        0.013930   \n",
       "45                       (Tostitos Lightly Salted)        0.014292   \n",
       "46                                  (Pringles BBQ)        0.014707   \n",
       "47                     (Pringles Sour Cream Onion)        0.014551   \n",
       "48                                 (Kettle Chilli)        0.013826   \n",
       "49           (Doritos Corn Chips Southern Chicken)        0.014085   \n",
       "50                      (Cobs Popd Sea Salt Chips)        0.014085   \n",
       "51                    (Thins Chips Salt & Vinegar)        0.013257   \n",
       "52                     (Thins Chips Light & Tangy)        0.013671   \n",
       "\n",
       "    support_others  affinity  \n",
       "0         0.012471  1.308038  \n",
       "1         0.012940  1.292568  \n",
       "2         0.012507  1.287638  \n",
       "3         0.013124  1.286332  \n",
       "4         0.012324  1.281599  \n",
       "5         0.012397  1.278188  \n",
       "6         0.012360  1.269415  \n",
       "7         0.013550  1.268848  \n",
       "8         0.013190  1.268112  \n",
       "9         0.012441  1.265339  \n",
       "10        0.012867  1.263720  \n",
       "11        0.013102  1.256875  \n",
       "12        0.012669  1.254876  \n",
       "13        0.012595  1.253966  \n",
       "14        0.012544  1.234333  \n",
       "15        0.012493  1.226974  \n",
       "16        0.012918  1.222616  \n",
       "17        0.012757  1.221855  \n",
       "18        0.012727  1.220605  \n",
       "19        0.012926  1.213910  \n",
       "20        0.013087  1.210802  \n",
       "21        0.013161  1.204049  \n",
       "22        0.012816  1.196053  \n",
       "23        0.012537  1.189618  \n",
       "24        0.012933  1.189196  \n",
       "25        0.012427  1.187657  \n",
       "26        0.012566  1.182718  \n",
       "27        0.013065  1.181134  \n",
       "28        0.012639  1.179947  \n",
       "29        0.012742  1.178559  \n",
       "30        0.013014  1.165902  \n",
       "31        0.012962  1.162533  \n",
       "32        0.012830  1.154324  \n",
       "33        0.012757  1.152847  \n",
       "34        0.013058  1.150072  \n",
       "35        0.012984  1.144609  \n",
       "36        0.012984  1.144609  \n",
       "37        0.013036  1.140098  \n",
       "38        0.012287  1.137919  \n",
       "39        0.012705  1.137130  \n",
       "40        0.012639  1.130782  \n",
       "41        0.012515  1.129643  \n",
       "42        0.012449  1.127318  \n",
       "43        0.012911  1.123040  \n",
       "44        0.012427  1.120981  \n",
       "45        0.012808  1.115878  \n",
       "46        0.013183  1.115617  \n",
       "47        0.013197  1.102604  \n",
       "48        0.012654  1.092640  \n",
       "49        0.013058  1.078688  \n",
       "50        0.013138  1.072060  \n",
       "51        0.012794  1.036205  \n",
       "52        0.013241  1.032453  "
      ]
     },
     "execution_count": 88,
     "metadata": {},
     "output_type": "execute_result"
    }
   ],
   "source": [
    "# Apply compare function on product names\n",
    "compare('prod_name', 'Mainstream', 'YOUNG SINGLES/COUPLES', 0.01)"
   ]
  },
  {
   "cell_type": "markdown",
   "metadata": {},
   "source": [
    "Our target is a huge fan of Twisties Cheese! And among 106 products, they are more likely to buy more than half of them compared to other groups."
   ]
  },
  {
   "cell_type": "markdown",
   "metadata": {},
   "source": [
    "## Conclusion\n",
    "At this point, we can conclude that:\n",
    "- The peak season is December, before Christmas.\n",
    "- Store 226 has the highest monthly sales most of the time.\n",
    "- The most favourite brand is Kettle. The most favourite falvours are salt (or sea salt), cheese, and chicken.\n",
    "- Most customers are young singles/couples, older singles/couples, and retirees.\n",
    "- For Budget segment, because there are more older families and these customers buy more bags per product than other groups, their total sales become the highest in this segment even though they pick cheaper products.\n",
    "- For Mainstream and Premium segments, the practice of there being more customers of a certain lifestage may have led to more sales.\n",
    "- Comparing to other groups, Mainstream - young singles/couples are more likely to buy from Tyrrells, more likely to choose Twisties Cheese 270g, and less likely to buy from Burger Rings, Woolworths, CCs, and some other brands. There is no indication that they buy more than one brand or product per transaction."
   ]
  }
 ],
 "metadata": {
  "kernelspec": {
   "display_name": "Python 3",
   "language": "python",
   "name": "python3"
  },
  "language_info": {
   "codemirror_mode": {
    "name": "ipython",
    "version": 3
   },
   "file_extension": ".py",
   "mimetype": "text/x-python",
   "name": "python",
   "nbconvert_exporter": "python",
   "pygments_lexer": "ipython3",
   "version": "3.7.7"
  }
 },
 "nbformat": 4,
 "nbformat_minor": 4
}
